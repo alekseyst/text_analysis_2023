{
  "nbformat": 4,
  "nbformat_minor": 0,
  "metadata": {
    "colab": {
      "provenance": []
    },
    "kernelspec": {
      "name": "python3",
      "display_name": "Python 3"
    },
    "widgets": {
      "application/vnd.jupyter.widget-state+json": {
        "d821ab4b9c9d4da78bb3bd6c667ea7fe": {
          "model_module": "@jupyter-widgets/controls",
          "model_name": "HBoxModel",
          "model_module_version": "1.5.0",
          "state": {
            "_dom_classes": [],
            "_model_module": "@jupyter-widgets/controls",
            "_model_module_version": "1.5.0",
            "_model_name": "HBoxModel",
            "_view_count": null,
            "_view_module": "@jupyter-widgets/controls",
            "_view_module_version": "1.5.0",
            "_view_name": "HBoxView",
            "box_style": "",
            "children": [
              "IPY_MODEL_ad23bba7038c40eba63b9f1ef6bdc70d",
              "IPY_MODEL_caf1e059aac84037affdc190a2ed2e64",
              "IPY_MODEL_6cf8f597b5244468a75e740501ac0608"
            ],
            "layout": "IPY_MODEL_120d8b316dc441aaa7b4a958b1cd3d79"
          }
        },
        "ad23bba7038c40eba63b9f1ef6bdc70d": {
          "model_module": "@jupyter-widgets/controls",
          "model_name": "HTMLModel",
          "model_module_version": "1.5.0",
          "state": {
            "_dom_classes": [],
            "_model_module": "@jupyter-widgets/controls",
            "_model_module_version": "1.5.0",
            "_model_name": "HTMLModel",
            "_view_count": null,
            "_view_module": "@jupyter-widgets/controls",
            "_view_module_version": "1.5.0",
            "_view_name": "HTMLView",
            "description": "",
            "description_tooltip": null,
            "layout": "IPY_MODEL_05709b3b113e497bb01f6ea7bc0199cf",
            "placeholder": "​",
            "style": "IPY_MODEL_61f1e06ba40f444da7ec305ba9b6205a",
            "value": "100%"
          }
        },
        "caf1e059aac84037affdc190a2ed2e64": {
          "model_module": "@jupyter-widgets/controls",
          "model_name": "FloatProgressModel",
          "model_module_version": "1.5.0",
          "state": {
            "_dom_classes": [],
            "_model_module": "@jupyter-widgets/controls",
            "_model_module_version": "1.5.0",
            "_model_name": "FloatProgressModel",
            "_view_count": null,
            "_view_module": "@jupyter-widgets/controls",
            "_view_module_version": "1.5.0",
            "_view_name": "ProgressView",
            "bar_style": "success",
            "description": "",
            "description_tooltip": null,
            "layout": "IPY_MODEL_7880adb1e0dc402d8ef60d52172ecbde",
            "max": 100,
            "min": 0,
            "orientation": "horizontal",
            "style": "IPY_MODEL_2ac675dce668468784b0514905829692",
            "value": 100
          }
        },
        "6cf8f597b5244468a75e740501ac0608": {
          "model_module": "@jupyter-widgets/controls",
          "model_name": "HTMLModel",
          "model_module_version": "1.5.0",
          "state": {
            "_dom_classes": [],
            "_model_module": "@jupyter-widgets/controls",
            "_model_module_version": "1.5.0",
            "_model_name": "HTMLModel",
            "_view_count": null,
            "_view_module": "@jupyter-widgets/controls",
            "_view_module_version": "1.5.0",
            "_view_name": "HTMLView",
            "description": "",
            "description_tooltip": null,
            "layout": "IPY_MODEL_eeeddd57b6ee497a98c5f0241486727e",
            "placeholder": "​",
            "style": "IPY_MODEL_92e3a8c1f0624eeca410d8214ec3b5c2",
            "value": " 100/100 [06:06&lt;00:00,  4.02s/it]"
          }
        },
        "120d8b316dc441aaa7b4a958b1cd3d79": {
          "model_module": "@jupyter-widgets/base",
          "model_name": "LayoutModel",
          "model_module_version": "1.2.0",
          "state": {
            "_model_module": "@jupyter-widgets/base",
            "_model_module_version": "1.2.0",
            "_model_name": "LayoutModel",
            "_view_count": null,
            "_view_module": "@jupyter-widgets/base",
            "_view_module_version": "1.2.0",
            "_view_name": "LayoutView",
            "align_content": null,
            "align_items": null,
            "align_self": null,
            "border": null,
            "bottom": null,
            "display": null,
            "flex": null,
            "flex_flow": null,
            "grid_area": null,
            "grid_auto_columns": null,
            "grid_auto_flow": null,
            "grid_auto_rows": null,
            "grid_column": null,
            "grid_gap": null,
            "grid_row": null,
            "grid_template_areas": null,
            "grid_template_columns": null,
            "grid_template_rows": null,
            "height": null,
            "justify_content": null,
            "justify_items": null,
            "left": null,
            "margin": null,
            "max_height": null,
            "max_width": null,
            "min_height": null,
            "min_width": null,
            "object_fit": null,
            "object_position": null,
            "order": null,
            "overflow": null,
            "overflow_x": null,
            "overflow_y": null,
            "padding": null,
            "right": null,
            "top": null,
            "visibility": null,
            "width": null
          }
        },
        "05709b3b113e497bb01f6ea7bc0199cf": {
          "model_module": "@jupyter-widgets/base",
          "model_name": "LayoutModel",
          "model_module_version": "1.2.0",
          "state": {
            "_model_module": "@jupyter-widgets/base",
            "_model_module_version": "1.2.0",
            "_model_name": "LayoutModel",
            "_view_count": null,
            "_view_module": "@jupyter-widgets/base",
            "_view_module_version": "1.2.0",
            "_view_name": "LayoutView",
            "align_content": null,
            "align_items": null,
            "align_self": null,
            "border": null,
            "bottom": null,
            "display": null,
            "flex": null,
            "flex_flow": null,
            "grid_area": null,
            "grid_auto_columns": null,
            "grid_auto_flow": null,
            "grid_auto_rows": null,
            "grid_column": null,
            "grid_gap": null,
            "grid_row": null,
            "grid_template_areas": null,
            "grid_template_columns": null,
            "grid_template_rows": null,
            "height": null,
            "justify_content": null,
            "justify_items": null,
            "left": null,
            "margin": null,
            "max_height": null,
            "max_width": null,
            "min_height": null,
            "min_width": null,
            "object_fit": null,
            "object_position": null,
            "order": null,
            "overflow": null,
            "overflow_x": null,
            "overflow_y": null,
            "padding": null,
            "right": null,
            "top": null,
            "visibility": null,
            "width": null
          }
        },
        "61f1e06ba40f444da7ec305ba9b6205a": {
          "model_module": "@jupyter-widgets/controls",
          "model_name": "DescriptionStyleModel",
          "model_module_version": "1.5.0",
          "state": {
            "_model_module": "@jupyter-widgets/controls",
            "_model_module_version": "1.5.0",
            "_model_name": "DescriptionStyleModel",
            "_view_count": null,
            "_view_module": "@jupyter-widgets/base",
            "_view_module_version": "1.2.0",
            "_view_name": "StyleView",
            "description_width": ""
          }
        },
        "7880adb1e0dc402d8ef60d52172ecbde": {
          "model_module": "@jupyter-widgets/base",
          "model_name": "LayoutModel",
          "model_module_version": "1.2.0",
          "state": {
            "_model_module": "@jupyter-widgets/base",
            "_model_module_version": "1.2.0",
            "_model_name": "LayoutModel",
            "_view_count": null,
            "_view_module": "@jupyter-widgets/base",
            "_view_module_version": "1.2.0",
            "_view_name": "LayoutView",
            "align_content": null,
            "align_items": null,
            "align_self": null,
            "border": null,
            "bottom": null,
            "display": null,
            "flex": null,
            "flex_flow": null,
            "grid_area": null,
            "grid_auto_columns": null,
            "grid_auto_flow": null,
            "grid_auto_rows": null,
            "grid_column": null,
            "grid_gap": null,
            "grid_row": null,
            "grid_template_areas": null,
            "grid_template_columns": null,
            "grid_template_rows": null,
            "height": null,
            "justify_content": null,
            "justify_items": null,
            "left": null,
            "margin": null,
            "max_height": null,
            "max_width": null,
            "min_height": null,
            "min_width": null,
            "object_fit": null,
            "object_position": null,
            "order": null,
            "overflow": null,
            "overflow_x": null,
            "overflow_y": null,
            "padding": null,
            "right": null,
            "top": null,
            "visibility": null,
            "width": null
          }
        },
        "2ac675dce668468784b0514905829692": {
          "model_module": "@jupyter-widgets/controls",
          "model_name": "ProgressStyleModel",
          "model_module_version": "1.5.0",
          "state": {
            "_model_module": "@jupyter-widgets/controls",
            "_model_module_version": "1.5.0",
            "_model_name": "ProgressStyleModel",
            "_view_count": null,
            "_view_module": "@jupyter-widgets/base",
            "_view_module_version": "1.2.0",
            "_view_name": "StyleView",
            "bar_color": null,
            "description_width": ""
          }
        },
        "eeeddd57b6ee497a98c5f0241486727e": {
          "model_module": "@jupyter-widgets/base",
          "model_name": "LayoutModel",
          "model_module_version": "1.2.0",
          "state": {
            "_model_module": "@jupyter-widgets/base",
            "_model_module_version": "1.2.0",
            "_model_name": "LayoutModel",
            "_view_count": null,
            "_view_module": "@jupyter-widgets/base",
            "_view_module_version": "1.2.0",
            "_view_name": "LayoutView",
            "align_content": null,
            "align_items": null,
            "align_self": null,
            "border": null,
            "bottom": null,
            "display": null,
            "flex": null,
            "flex_flow": null,
            "grid_area": null,
            "grid_auto_columns": null,
            "grid_auto_flow": null,
            "grid_auto_rows": null,
            "grid_column": null,
            "grid_gap": null,
            "grid_row": null,
            "grid_template_areas": null,
            "grid_template_columns": null,
            "grid_template_rows": null,
            "height": null,
            "justify_content": null,
            "justify_items": null,
            "left": null,
            "margin": null,
            "max_height": null,
            "max_width": null,
            "min_height": null,
            "min_width": null,
            "object_fit": null,
            "object_position": null,
            "order": null,
            "overflow": null,
            "overflow_x": null,
            "overflow_y": null,
            "padding": null,
            "right": null,
            "top": null,
            "visibility": null,
            "width": null
          }
        },
        "92e3a8c1f0624eeca410d8214ec3b5c2": {
          "model_module": "@jupyter-widgets/controls",
          "model_name": "DescriptionStyleModel",
          "model_module_version": "1.5.0",
          "state": {
            "_model_module": "@jupyter-widgets/controls",
            "_model_module_version": "1.5.0",
            "_model_name": "DescriptionStyleModel",
            "_view_count": null,
            "_view_module": "@jupyter-widgets/base",
            "_view_module_version": "1.2.0",
            "_view_name": "StyleView",
            "description_width": ""
          }
        }
      }
    }
  },
  "cells": [
    {
      "cell_type": "markdown",
      "metadata": {
        "id": "FvH_fpTUcG6m"
      },
      "source": [
        "# Скачивание и разметка собственного корпуса\n",
        "\n",
        "Этот набор упражнений должен помочь вам научиться:\n",
        "\n",
        "- выгружать интересующие вас тексты из Интернета\n",
        "- сохранять их в формате, удобном для обработки\n",
        "- выполнять их разметку\n",
        "\n",
        "[Ссылка](https://colab.research.google.com/drive/1N6pky6LG1pkJ9_VVAFUB1fpxWRq5KfrY?usp=sharing) на тетрадку в Google Colab"
      ]
    },
    {
      "cell_type": "code",
      "metadata": {
        "id": "ujahIKqc0pTQ",
        "outputId": "c64e65b3-9bef-4e1e-f610-4931bb4373e2",
        "colab": {
          "base_uri": "https://localhost:8080/"
        }
      },
      "source": [
        "#Скачиваем пакеты, которых нет в стандартной библиотеке Python\n",
        "!pip install fake-useragent\n",
        "!pip install tqdm\n",
        "!pip install newscatcher"
      ],
      "execution_count": 2,
      "outputs": [
        {
          "output_type": "stream",
          "name": "stdout",
          "text": [
            "Looking in indexes: https://pypi.org/simple, https://us-python.pkg.dev/colab-wheels/public/simple/\n",
            "Collecting fake-useragent\n",
            "  Downloading fake_useragent-1.1.1-py3-none-any.whl (50 kB)\n",
            "\u001b[2K     \u001b[90m━━━━━━━━━━━━━━━━━━━━━━━━━━━━━━━━━━━━━━━━\u001b[0m \u001b[32m50.4/50.4 KB\u001b[0m \u001b[31m1.1 MB/s\u001b[0m eta \u001b[36m0:00:00\u001b[0m\n",
            "\u001b[?25hRequirement already satisfied: importlib-resources>=5.0 in /usr/local/lib/python3.8/dist-packages (from fake-useragent) (5.12.0)\n",
            "Requirement already satisfied: zipp>=3.1.0 in /usr/local/lib/python3.8/dist-packages (from importlib-resources>=5.0->fake-useragent) (3.15.0)\n",
            "Installing collected packages: fake-useragent\n",
            "Successfully installed fake-useragent-1.1.1\n",
            "Looking in indexes: https://pypi.org/simple, https://us-python.pkg.dev/colab-wheels/public/simple/\n",
            "Requirement already satisfied: tqdm in /usr/local/lib/python3.8/dist-packages (4.64.1)\n",
            "Looking in indexes: https://pypi.org/simple, https://us-python.pkg.dev/colab-wheels/public/simple/\n",
            "Collecting newscatcher\n",
            "  Downloading newscatcher-0.2.0-py3-none-any.whl (138 kB)\n",
            "\u001b[2K     \u001b[90m━━━━━━━━━━━━━━━━━━━━━━━━━━━━━━━━━━━━━━━\u001b[0m \u001b[32m138.6/138.6 KB\u001b[0m \u001b[31m3.4 MB/s\u001b[0m eta \u001b[36m0:00:00\u001b[0m\n",
            "\u001b[?25hRequirement already satisfied: requests<3.0.0,>=2.23.0 in /usr/local/lib/python3.8/dist-packages (from newscatcher) (2.25.1)\n",
            "Collecting feedparser<6.0.0,>=5.2.1\n",
            "  Downloading feedparser-5.2.1.zip (1.2 MB)\n",
            "\u001b[2K     \u001b[90m━━━━━━━━━━━━━━━━━━━━━━━━━━━━━━━━━━━━━━━━\u001b[0m \u001b[32m1.2/1.2 MB\u001b[0m \u001b[31m23.1 MB/s\u001b[0m eta \u001b[36m0:00:00\u001b[0m\n",
            "\u001b[?25h  Preparing metadata (setup.py) ... \u001b[?25l\u001b[?25hdone\n",
            "Collecting tldextract<3.0.0,>=2.2.2\n",
            "  Downloading tldextract-2.2.3-py2.py3-none-any.whl (48 kB)\n",
            "\u001b[2K     \u001b[90m━━━━━━━━━━━━━━━━━━━━━━━━━━━━━━━━━━━━━━━━\u001b[0m \u001b[32m49.0/49.0 KB\u001b[0m \u001b[31m6.8 MB/s\u001b[0m eta \u001b[36m0:00:00\u001b[0m\n",
            "\u001b[?25hRequirement already satisfied: idna<3,>=2.5 in /usr/local/lib/python3.8/dist-packages (from requests<3.0.0,>=2.23.0->newscatcher) (2.10)\n",
            "Requirement already satisfied: urllib3<1.27,>=1.21.1 in /usr/local/lib/python3.8/dist-packages (from requests<3.0.0,>=2.23.0->newscatcher) (1.26.14)\n",
            "Requirement already satisfied: certifi>=2017.4.17 in /usr/local/lib/python3.8/dist-packages (from requests<3.0.0,>=2.23.0->newscatcher) (2022.12.7)\n",
            "Requirement already satisfied: chardet<5,>=3.0.2 in /usr/local/lib/python3.8/dist-packages (from requests<3.0.0,>=2.23.0->newscatcher) (4.0.0)\n",
            "Collecting requests-file>=1.4\n",
            "  Downloading requests_file-1.5.1-py2.py3-none-any.whl (3.7 kB)\n",
            "Requirement already satisfied: six in /usr/local/lib/python3.8/dist-packages (from requests-file>=1.4->tldextract<3.0.0,>=2.2.2->newscatcher) (1.15.0)\n",
            "Building wheels for collected packages: feedparser\n",
            "  Building wheel for feedparser (setup.py) ... \u001b[?25l\u001b[?25hdone\n",
            "  Created wheel for feedparser: filename=feedparser-5.2.1-py3-none-any.whl size=44951 sha256=ee16d6c86e5b695efcf730ffda195112b324719e0b7d05a3bf579298385d567a\n",
            "  Stored in directory: /root/.cache/pip/wheels/67/38/07/59c89c3d334e7f1f743898af6d21c15ecb3588ad04af7ddee0\n",
            "Successfully built feedparser\n",
            "Installing collected packages: feedparser, requests-file, tldextract, newscatcher\n",
            "Successfully installed feedparser-5.2.1 newscatcher-0.2.0 requests-file-1.5.1 tldextract-2.2.3\n"
          ]
        }
      ]
    },
    {
      "cell_type": "markdown",
      "metadata": {
        "id": "ycgt059QcOh_"
      },
      "source": [
        "Импортируем нужные для работы модули"
      ]
    },
    {
      "cell_type": "code",
      "metadata": {
        "id": "JBvCvA8tk_5c"
      },
      "source": [
        "#Собственно выкачивание файлов из Интернета\n",
        "import requests\n",
        "\n",
        "#Работа с таблицами — понадобится, чтобы хранить наш корпус\n",
        "import pandas as pd\n",
        "\n",
        "#Выполнение быстрых математических вычислений — пригодится, потому что иначе\n",
        "#корпус с большим количеством текстов может долго обрабатываться\n",
        "import numpy as np\n",
        "\n",
        "# Модуль для работы с HTML-файлами\n",
        "from bs4 import BeautifulSoup\n",
        "\n",
        "# Модуль для скачивания новостей\n",
        "import newscatcher\n",
        "\n",
        "# Модуль для работы с регулярными выражениями\n",
        "import re\n",
        "\n",
        "#Функция, который измеряет время исполнения фрагмента программы — без неё\n",
        "#в принципе тоже всё будет работать\n",
        "from tqdm.auto import tqdm\n",
        "\n",
        "#Поможет замаскироваться под обычного пользователя в Интернете\n",
        "from fake_useragent import UserAgent \n",
        "\n",
        "#Переменные, нужные, чтобы маскироваться под обычного пользователя Интернета\n",
        "ua = UserAgent(verify_ssl=False)\n",
        "headers = {'User-Agent': ua.random}"
      ],
      "execution_count": 3,
      "outputs": []
    },
    {
      "cell_type": "markdown",
      "metadata": {
        "id": "JATcSVCBcR4-"
      },
      "source": [
        "## Сбор текстов в Интернете\n",
        "\n",
        "Python позволяет достаточно простым образом скачивать страницы из интернета по ссылке. Например, ниже скачивается и записывается в переменную файл с предыдущего занятия."
      ]
    },
    {
      "cell_type": "code",
      "source": [
        "akarenina_link = 'https://raw.githubusercontent.com/alekseyst/text_analysis_2023/main/Seminar_3/karenina.txt'\n",
        "akarenina = requests.get(akarenina_link, headers=headers)\n",
        "akarenina"
      ],
      "metadata": {
        "colab": {
          "base_uri": "https://localhost:8080/"
        },
        "id": "VGSMO3xJUD13",
        "outputId": "2651e910-55a3-46b0-9b70-6e9474d56d97"
      },
      "execution_count": 4,
      "outputs": [
        {
          "output_type": "execute_result",
          "data": {
            "text/plain": [
              "<Response [200]>"
            ]
          },
          "metadata": {},
          "execution_count": 4
        }
      ]
    },
    {
      "cell_type": "code",
      "source": [
        "#Как мы видим, результат запроса представляет собой какой-то объект.\n",
        "#Чтобы извлечь его содержимое, нужно обратиться к атрибуту text.\n",
        "\n",
        "akarenina.text[:400]"
      ],
      "metadata": {
        "colab": {
          "base_uri": "https://localhost:8080/",
          "height": 105
        },
        "id": "iWYCgfPGUz5x",
        "outputId": "314320fd-fb12-465d-b242-7df8fc8eb2d4"
      },
      "execution_count": 5,
      "outputs": [
        {
          "output_type": "execute_result",
          "data": {
            "text/plain": [
              "'\\r\\n Л.Н. Толстой. Анна Каренина \\r\\n\\r\\n Роман в восьми частях \\r\\n\\r\\n\\t Мне отмщение, и Аз воздам  \\r\\n\\t \\r\\n\\r\\n Часть первая \\r\\n\\r\\n I \\r\\n\\r\\n Все счастливые семьи похожи друг на друга, каждая несчастливая семья несчастлива по-своему. \\r\\n Все смешалось в доме Облонских. Жена узнала, что муж был в связи с бывшею в их доме француженкою-гувернанткой, и объявила мужу, что не может жить с ним в одном доме. Положение это '"
            ],
            "application/vnd.google.colaboratory.intrinsic+json": {
              "type": "string"
            }
          },
          "metadata": {},
          "execution_count": 5
        }
      ]
    },
    {
      "cell_type": "markdown",
      "source": [
        "##HTML\n",
        "\n",
        "Если мы, однако, имеем дело не с txt-файлами, выложенными в Интернет, а с обычными страницами, приходится иметь дело с HTML."
      ],
      "metadata": {
        "id": "tTgsFdZkVqWW"
      }
    },
    {
      "cell_type": "code",
      "source": [
        "#HTML-страница новости\n",
        "\n",
        "news_cher_link = \"https://cher-is.com/izvestnaya-nejroset-sostavila-obrazy-cherepovtsa-i-vologdy/\"\n",
        "html_cher_request_result = requests.get(news_cher_link, headers=headers)\n",
        "html_cher = html_cher_request_result.text\n",
        "html_cher[:800]"
      ],
      "metadata": {
        "colab": {
          "base_uri": "https://localhost:8080/",
          "height": 175
        },
        "id": "wk8iIJKnQb7c",
        "outputId": "c6161b3b-87bd-446b-a833-a6d341337d63"
      },
      "execution_count": 8,
      "outputs": [
        {
          "output_type": "execute_result",
          "data": {
            "text/plain": [
              "'<!DOCTYPE html>\\n<html lang=\"ru-RU\" itemscope itemtype=\"http://schema.org/WebSite\" prefix=\"og: http://ogp.me/ns#\">\\n<head> <a href=\"https://metrika.yandex.ru/stat/?id=52125751&amp;from=informer\" target=\"_blank\" rel=\"nofollow\"><img src=\"https://informer.yandex.ru/informer/52125751/3_1_FFFFFFFF_EFEFEFFF_0_pageviews\" style=\"width:88px; height:31px; border:0;\" alt=\"Яндекс.Метрика\" title=\"Яндекс.Метрика: данные за сегодня (просмотры, визиты и уникальные посетители)\" class=\"ym-advanced-informer\" data-cid=\"52125751\" data-lang=\"ru\" /></a>   <script type=\"text/javascript\"> (function(m,e,t,r,i,k,a){m[i]=m[i]||function(){(m[i].a=m[i].a||[]).push(arguments)}; m[i].l=1*new Date();k=e.createElement(t),a=e.getElementsByTagName(t)[0],k.async=1,k.src=r,a.parentNode.insertBefore(k,a)}) (window, document, \"scr'"
            ],
            "application/vnd.google.colaboratory.intrinsic+json": {
              "type": "string"
            }
          },
          "metadata": {},
          "execution_count": 8
        }
      ]
    },
    {
      "cell_type": "markdown",
      "source": [
        "Конечно, страшно, но не очень.\n",
        "\n",
        "Если хочется прямо разобраться с HTML, вот, например, [ссылка](https://www.w3schools.com/html/html_intro.asp). А так нам важно знать, что всякие элементы располагаются внутри тегов, и выглядит это как-то так (это тэг \\<p\\>, который используется для разбивки страницы на абзацы — paragraph):\n",
        "\n",
        "\\<p\\>This is a paragraph.\\</p\\>\n",
        "\n",
        "Обычно достаточно уметь найти, в каком тэге находится нужная информация, и извлечь её. Для поиска нужно всего лишь нажать на то, что вы хотите извлечь со страницы правой клавишей — Inspect, и после этого вы попадёте в удивительный мир HTML. Но! Вас переведут ровно к тому элементу, который вы ткнули. После этого, поводив по экрану, на котором подсвечиваются блоки, соответствующие тэгам, можно наиболее точно найти то, что вас интересует.\n",
        "\n",
        "Новость выкачанной нами страницы, включая заголовок и картинку, находится в тэге \\<div class=\"blog-lg-box\"\\>Содержимое\\</div\\>. Обратите внимание, в файле очень много тэгов \n",
        "\n",
        "Для извлечения можно использовать библиотеку BeautifulSoup, которую мы уже импортировали. "
      ],
      "metadata": {
        "id": "RQkP_t2fOIRJ"
      }
    },
    {
      "cell_type": "code",
      "source": [
        "#Просим модуль проанализировать наш файл\n",
        "html_cher_soup = BeautifulSoup(html_cher, 'html.parser')\n",
        "\n",
        "#Ищем\n",
        "body_cher_soup = html_cher_soup.find(\"div\", class_=\"media-body\")\n",
        "\n",
        "#Тэг — первая переменная, класс — вторая\n",
        "#Если хотите найти несколько тэгов с одинаковыми классами, используйте find_all\n",
        "#Они будут выданы в виде списка объектов BeautifulSoup — из каждого придётся\n",
        "#извлекать текст\n",
        "\n",
        "body_cher_soup"
      ],
      "metadata": {
        "colab": {
          "base_uri": "https://localhost:8080/"
        },
        "id": "TcjBTNZKdqQQ",
        "outputId": "8e1d000b-7a0f-415e-eb59-ff0a372a4e6f"
      },
      "execution_count": null,
      "outputs": [
        {
          "output_type": "execute_result",
          "data": {
            "text/plain": [
              "<div class=\"media-body\">\n",
              "<div class=\"blog-lg-box\">\n",
              "<a class=\"img-responsive\" href=\"https://cher-is.com/izvestnaya-nejroset-sostavila-obrazy-cherepovtsa-i-vologdy/\" title=\"Известная нейросеть составила образы Череповца и Вологды\">\n",
              "<img alt=\"\" class=\"img-responsive wp-post-image\" height=\"408\" loading=\"lazy\" sizes=\"(max-width: 264px) 100vw, 264px\" src=\"https://cher-is.com/wp-content/uploads/2023/02/cherepovets.png\" srcset=\"https://cher-is.com/wp-content/uploads/2023/02/cherepovets.png 264w, https://cher-is.com/wp-content/uploads/2023/02/cherepovets-194x300.png 194w\" width=\"264\"/>\n",
              "</a></div>\n",
              "<div class=\"blog-post-lg\">\n",
              "<a href=\"https://cher-is.com/author/admin/\"><img alt=\"\" class=\"img-responsive img-circle avatar-40 photo\" height=\"40\" loading=\"lazy\" src=\"https://secure.gravatar.com/avatar/12d14aad72f86a5c2271b4922c91b55f?s=40&amp;d=mm&amp;r=g\" srcset=\"https://secure.gravatar.com/avatar/12d14aad72f86a5c2271b4922c91b55f?s=80&amp;d=mm&amp;r=g 2x\" width=\"40\"/></a>\n",
              "Автор:<a href=\"https://cher-is.com/author/admin/\">ЧИ</a>\n",
              "<div class=\"blog-tags-lg\"><i class=\"fa fa-tags\"></i><a href=\"https://cher-is.com/tag/midjourney/\" rel=\"tag\">Midjourney</a>, <a href=\"https://cher-is.com/tag/nejroset/\" rel=\"tag\">нейросеть</a>, <a href=\"https://cher-is.com/tag/cherepovets/\" rel=\"tag\">Череповец</a></div>\n",
              "</div>\n",
              "<h3><a class=\"entry-title\" href=\"https://cher-is.com/izvestnaya-nejroset-sostavila-obrazy-cherepovtsa-i-vologdy/\">Известная нейросеть составила образы Череповца и Вологды</a></h3>\n",
              "<p>Нейросеть Midjourney изобразила города России в образах, и получились герои для мрачных сказок.</p>\n",
              "<p>На этот раз автор телеграм-канала «Нейросеть видит» сформировал запрос в Midjourney так, чтобы нейросеть показала российские города в человеческих обличьях. Например, две столицы, Москва и Санкт-Петербург, выглядят как модная пара. Девушка — в стильном кокошнике, а парень с уложенными бородой и усами.</p>\n",
              "<p>Череповец изображён в виде монаха, а Вологда — знатной женщины.</p>\n",
              "<p> </p>\n",
              "</div>"
            ]
          },
          "metadata": {},
          "execution_count": 6
        }
      ]
    },
    {
      "cell_type": "markdown",
      "source": [
        "Уже похоже на новость! Если теперь удалить все оставшиеся тэги, которые нас явно не интересуют, можно получить собственно текст."
      ],
      "metadata": {
        "id": "2F14mcfVlpjn"
      }
    },
    {
      "cell_type": "code",
      "source": [
        "cher_news = re.sub('<[^<]+?>', '', body_cher_soup.text).strip()\n",
        "\n",
        "#Как это работает? Регулярное выражение заменяет все (практически все) тэги на\n",
        "#пустую строку. Метод .strip() удаляет лишние переносы строк и подобное по краям\n",
        "#новости\n",
        "#Осторожно! Если вы занимаетесь чем-то серьёзным и работаете с потенциально \n",
        "#опасными сайтами, удалять тэги следует другим способом.\n",
        "\n",
        "cher_news"
      ],
      "metadata": {
        "colab": {
          "base_uri": "https://localhost:8080/",
          "height": 123
        },
        "id": "monf084FmEit",
        "outputId": "87eab7cf-e8e0-4cee-dc7c-4d04694c16ba"
      },
      "execution_count": null,
      "outputs": [
        {
          "output_type": "execute_result",
          "data": {
            "text/plain": [
              "'Автор:ЧИ\\nMidjourney, нейросеть, Череповец\\n\\nИзвестная нейросеть составила образы Череповца и Вологды\\nНейросеть Midjourney изобразила города России в образах, и получились герои для мрачных сказок.\\nНа этот раз автор телеграм-канала «Нейросеть видит» сформировал запрос в Midjourney так, чтобы нейросеть показала российские города в человеческих обличьях. Например, две столицы, Москва и Санкт-Петербург, выглядят как модная пара. Девушка — в стильном кокошнике, а парень с уложенными бородой и усами.\\nЧереповец изображён в виде монаха, а Вологда — знатной женщины.'"
            ],
            "application/vnd.google.colaboratory.intrinsic+json": {
              "type": "string"
            }
          },
          "metadata": {},
          "execution_count": 7
        }
      ]
    },
    {
      "cell_type": "markdown",
      "source": [
        "Чтобы избавиться от автора, названия картинки и остального, можно их удалить в полученном выше тексте или извлекать из текста новости только то, что содержится в тэгах \\<p\\>\\</p\\>."
      ],
      "metadata": {
        "id": "XJN-gv9Yrhxa"
      }
    },
    {
      "cell_type": "code",
      "source": [
        "cher_news_no_author = ''\n",
        "\n",
        "#Приходится использовать цикл, потому что метод find_all выдаёт как результат\n",
        "#не строки, а объекты модуля Beautiful Soup\n",
        "\n",
        "for p in body_cher_soup.find_all(\"p\"): \n",
        "  cher_news_no_author += p.text.strip() \n",
        "\n",
        "cher_news_no_author"
      ],
      "metadata": {
        "colab": {
          "base_uri": "https://localhost:8080/",
          "height": 105
        },
        "id": "Y5Y_tMFmnjtM",
        "outputId": "f19be2d2-0d9f-462d-ca39-dbd970408e98"
      },
      "execution_count": null,
      "outputs": [
        {
          "output_type": "execute_result",
          "data": {
            "text/plain": [
              "'Нейросеть Midjourney изобразила города России в образах, и получились герои для мрачных сказок.На этот раз автор телеграм-канала «Нейросеть видит» сформировал запрос в Midjourney так, чтобы нейросеть показала российские города в человеческих обличьях. Например, две столицы, Москва и Санкт-Петербург, выглядят как модная пара. Девушка — в стильном кокошнике, а парень с уложенными бородой и усами.Череповец изображён в виде монаха, а Вологда — знатной женщины.'"
            ],
            "application/vnd.google.colaboratory.intrinsic+json": {
              "type": "string"
            }
          },
          "metadata": {},
          "execution_count": 8
        }
      ]
    },
    {
      "cell_type": "markdown",
      "source": [
        "## Задание\n",
        "\n",
        "Выкачайте одну любую новость с сайта ИА Панорама. Найдите, где в HTML-файле находится текст и сохраните его в переменную."
      ],
      "metadata": {
        "id": "2iTkkTKFsMld"
      }
    },
    {
      "cell_type": "code",
      "source": [
        "#Впишите сюда код\n",
        "\n"
      ],
      "metadata": {
        "id": "spVAETwVssk7"
      },
      "execution_count": null,
      "outputs": []
    },
    {
      "cell_type": "markdown",
      "source": [
        "## Одна новость — хорошо, но мало\n",
        "\n",
        "Чтобы сделать корпус, выкачивания одной интернет-страницы, конечно, недостаточно. Хотелось бы выкачивать сразу много текстов — или в целом из Интернета, или хотя бы с одного сайта.\n",
        "\n",
        "В целом, выкачать всю нужную информацию с сайта можно, найдя закономерность в том, как называются её страницы. Иногда это просто (например, каждая из новостей может быть просто пронумерована), иногда требуется больше изощрённости."
      ],
      "metadata": {
        "id": "ImCR1tQptkBU"
      }
    },
    {
      "cell_type": "code",
      "source": [
        "from datetime import datetime, timedelta\n",
        "    \n",
        "d = datetime.today() - timedelta(days=1)"
      ],
      "metadata": {
        "id": "L7APiWL0RPHK"
      },
      "execution_count": null,
      "outputs": []
    },
    {
      "cell_type": "code",
      "source": [
        "date_list = [datetime.today() - timedelta(days=x) for x in range(100)]"
      ],
      "metadata": {
        "id": "45LM1u4WDlvD"
      },
      "execution_count": null,
      "outputs": []
    },
    {
      "cell_type": "code",
      "source": [
        "date_list = [f\"{day.day}-{day.month}-{day.year}\" for day in date_list]"
      ],
      "metadata": {
        "id": "EOv2m3h0D-xI"
      },
      "execution_count": null,
      "outputs": []
    },
    {
      "cell_type": "code",
      "source": [
        "date_list[:10]"
      ],
      "metadata": {
        "colab": {
          "base_uri": "https://localhost:8080/"
        },
        "id": "TZ8JO5HVEir_",
        "outputId": "8f05ade6-964c-4663-fc52-9e96e95bc60a"
      },
      "execution_count": null,
      "outputs": [
        {
          "output_type": "execute_result",
          "data": {
            "text/plain": [
              "['4-3-2023',\n",
              " '3-3-2023',\n",
              " '2-3-2023',\n",
              " '1-3-2023',\n",
              " '28-2-2023',\n",
              " '27-2-2023',\n",
              " '26-2-2023',\n",
              " '25-2-2023',\n",
              " '24-2-2023',\n",
              " '23-2-2023']"
            ]
          },
          "metadata": {},
          "execution_count": 19
        }
      ]
    },
    {
      "cell_type": "code",
      "source": [
        "td = datetime.today()\n",
        "f\"{td.day}-{td.month}-{td.year}\""
      ],
      "metadata": {
        "colab": {
          "base_uri": "https://localhost:8080/",
          "height": 36
        },
        "id": "n25u_OFFRUCc",
        "outputId": "e0738729-7a54-4ac8-a836-884b91c1f280"
      },
      "execution_count": null,
      "outputs": [
        {
          "output_type": "execute_result",
          "data": {
            "text/plain": [
              "'4-3-2023'"
            ],
            "application/vnd.google.colaboratory.intrinsic+json": {
              "type": "string"
            }
          },
          "metadata": {},
          "execution_count": 20
        }
      ]
    },
    {
      "cell_type": "code",
      "source": [
        "dates = []\n",
        "n = 100\n",
        "date_list = [datetime.today() - timedelta(days=x) for x in range(n)]\n",
        "date_list = [f\"{date.day}-{date.month}-{date.year}\" for date in date_list]"
      ],
      "metadata": {
        "id": "zxzJSjUrSKb2"
      },
      "execution_count": null,
      "outputs": []
    },
    {
      "cell_type": "code",
      "source": [
        "date_list[-1]"
      ],
      "metadata": {
        "colab": {
          "base_uri": "https://localhost:8080/",
          "height": 36
        },
        "id": "1vIXurmqSHRf",
        "outputId": "38805a7c-afc0-4300-e62f-cf3b2a943852"
      },
      "execution_count": null,
      "outputs": [
        {
          "output_type": "execute_result",
          "data": {
            "text/plain": [
              "'25-11-2022'"
            ],
            "application/vnd.google.colaboratory.intrinsic+json": {
              "type": "string"
            }
          },
          "metadata": {},
          "execution_count": 22
        }
      ]
    },
    {
      "cell_type": "code",
      "source": [
        "all_titles = []\n",
        "all_dates = []\n",
        "all_links = []\n",
        "all_texts = []\n",
        "all_spheres = []\n",
        "\n",
        "for date in tqdm(date_list):\n",
        "  page = f\"https://panorama.pub/news/{date}\"\n",
        "  result = requests.get(page)\n",
        "  html = result.text\n",
        "  soup = BeautifulSoup(html)\n",
        "  titles = soup.find_all('div', {'class': \"pt-2 text-xl lg:text-lg xl:text-base text-center font-semibold\"})\n",
        "  titles = [x.text.strip() for x in titles]\n",
        "  all_titles.extend(titles)\n",
        "  all_dates.extend([date]*len(titles))\n",
        "  links = soup.find_all('a', {'class': \"flex flex-col rounded-md hover:text-secondary hover:bg-accent/[.1] mb-2\"}, href=True)\n",
        "  links = [f\"https://panorama.pub{link['href']}\" for link in links]\n",
        "  all_links.extend(links)\n",
        "  for link in links:\n",
        "    result = requests.get(link)\n",
        "    html = result.text\n",
        "    soup = BeautifulSoup(html)\n",
        "    page_text = soup.find('div', {'itemprop': \"articleBody\"})\n",
        "    lines = [line.text.strip() for line in page_text.find_all('p')]\n",
        "    all_texts.extend([' '.join(lines).replace('\\xa0', \"\").replace('\\n', ' ')])\n",
        "    sphere = soup.find('a', {'class': \"badge\"})\n",
        "    if sphere == None:\n",
        "      all_spheres.append(sphere)\n",
        "    else:\n",
        "      all_spheres.append(sphere.text)\n",
        "\n"
      ],
      "metadata": {
        "colab": {
          "base_uri": "https://localhost:8080/",
          "height": 49,
          "referenced_widgets": [
            "d821ab4b9c9d4da78bb3bd6c667ea7fe",
            "ad23bba7038c40eba63b9f1ef6bdc70d",
            "caf1e059aac84037affdc190a2ed2e64",
            "6cf8f597b5244468a75e740501ac0608",
            "120d8b316dc441aaa7b4a958b1cd3d79",
            "05709b3b113e497bb01f6ea7bc0199cf",
            "61f1e06ba40f444da7ec305ba9b6205a",
            "7880adb1e0dc402d8ef60d52172ecbde",
            "2ac675dce668468784b0514905829692",
            "eeeddd57b6ee497a98c5f0241486727e",
            "92e3a8c1f0624eeca410d8214ec3b5c2"
          ]
        },
        "id": "6HozQ_4hTXZf",
        "outputId": "90f35d45-f8ea-4592-d24d-6db0982c007d"
      },
      "execution_count": null,
      "outputs": [
        {
          "output_type": "display_data",
          "data": {
            "text/plain": [
              "  0%|          | 0/100 [00:00<?, ?it/s]"
            ],
            "application/vnd.jupyter.widget-view+json": {
              "version_major": 2,
              "version_minor": 0,
              "model_id": "d821ab4b9c9d4da78bb3bd6c667ea7fe"
            }
          },
          "metadata": {}
        }
      ]
    },
    {
      "cell_type": "code",
      "source": [
        "all_texts[0]\n"
      ],
      "metadata": {
        "colab": {
          "base_uri": "https://localhost:8080/",
          "height": 192
        },
        "id": "WXbRa80_WmLx",
        "outputId": "48ae7d1e-8ef0-4375-86c3-1925c70c8981"
      },
      "execution_count": null,
      "outputs": [
        {
          "output_type": "execute_result",
          "data": {
            "text/plain": [
              "'Государственная дума приняла в третьем чтении законопроект«О внесении изменении в порядок добычи полезных ископаемых». Начиная с 1 марта этого года, гражданам разрешат добывать на приусадебных участках нефть и природный газ для личного пользования, а также в целях переработки. Согласно выводам экспертов Минэнерго, залежи полезных ископаемых на таких территориях весьма ограничены, поэтому извлечённые объёмы не повлияют как на статистику, так и на цены на рынке нефтепродуктов. Владельцам приусадебных участков также разрешат сдавать земли в аренду нефтегазовым компаниям. Для начала работ по бурению скважин следует оформить соответствующие документы и зарегистрироваться в ФНС в качестве индивидуального предпринимателя или самозанятого. Помимо единого налога, дачникам надлежит заплатить в бюджет НДПИ (налог на добычу природных ископаемых). В случае самовольной добычи природных ископаемых без оформления разрешений или регистрации в налоговом органе продолжат действовать нормы УК РФ.'"
            ],
            "application/vnd.google.colaboratory.intrinsic+json": {
              "type": "string"
            }
          },
          "metadata": {},
          "execution_count": 34
        }
      ]
    },
    {
      "cell_type": "code",
      "source": [
        "len(all_titles) == len(all_dates)"
      ],
      "metadata": {
        "colab": {
          "base_uri": "https://localhost:8080/"
        },
        "id": "0twbh5vuQPbO",
        "outputId": "ac09bed1-0b47-4fdf-ccd1-96a2159833ad"
      },
      "execution_count": null,
      "outputs": [
        {
          "output_type": "execute_result",
          "data": {
            "text/plain": [
              "True"
            ]
          },
          "metadata": {},
          "execution_count": 35
        }
      ]
    },
    {
      "cell_type": "markdown",
      "source": [
        "## Слишком сложно?..\n",
        "\n",
        "К счастью, нередко не нужно руками с нуля писать подобные программы для выкачки сайтов.\n",
        "\n",
        "Некоторые сайты, в том числе крупные соцсети, сами умеют представлять данные в формате, удобном не для пользователя-человека, а для компьютера. Это анзывается API — см., например, [VK API](https://dev.vk.com/api/overview).\n",
        "\n",
        "Кроме этого, есть большое количество готовых модулей или инструментов на основе Python. Универсальная, но достаточно сложная в использовании программа, которая скачивает сайты, самостоятельно переходя по ссылкам, которые находит на их странице (это называется Crawler), — [Scrapy](https://scrapy.org/).\n",
        "\n",
        "Кроме этого, есть модули, которые \"из коробки\" умеют обкачивать определённые типы сайтов — в том числе новостные. Проще всего пользоваться модулем newscatcher — он не поддерживает Панораму, но умеет работать с большим количеством других сайтов."
      ],
      "metadata": {
        "id": "eMpsfFesCa_m"
      }
    },
    {
      "cell_type": "code",
      "source": [
        "#Небольшая часть из множества русскоязычных сайтов, с которыми работает newscatcher\n",
        "\n",
        "newscatcher.urls(language = 'ru')[:15]"
      ],
      "metadata": {
        "colab": {
          "base_uri": "https://localhost:8080/"
        },
        "id": "ud3AQGaGT9mV",
        "outputId": "e336d8c2-e6fd-4fa6-82b6-94c5b2f00128"
      },
      "execution_count": null,
      "outputs": [
        {
          "output_type": "execute_result",
          "data": {
            "text/plain": [
              "['yandex.ru',\n",
              " 'ria.ru',\n",
              " 'rbc.ru',\n",
              " 'kommersant.ru',\n",
              " 'kremlin.ru',\n",
              " 'kp.ru',\n",
              " 'rg.ru',\n",
              " 'lenta.ru',\n",
              " 'vedomosti.ru',\n",
              " 'aif.ru',\n",
              " 'mk.ru',\n",
              " 'government.ru',\n",
              " 'regnum.ru',\n",
              " 'meduza.io',\n",
              " 'newsru.com']"
            ]
          },
          "metadata": {},
          "execution_count": 36
        }
      ]
    },
    {
      "cell_type": "code",
      "source": [
        "#Выкачиваем статьи — получаем особый объект модуля\n",
        "lenta = newscatcher.Newscatcher('lenta.ru')\n",
        "\n",
        "#Извлекаем из него собственно статьи\n",
        "lenta_articles = lenta.get_news()['articles']\n",
        "\n",
        "len(lenta_articles)"
      ],
      "metadata": {
        "colab": {
          "base_uri": "https://localhost:8080/"
        },
        "id": "kqxauw9rX45m",
        "outputId": "2852f9fd-2beb-459b-ec60-6dd9ed97b843"
      },
      "execution_count": null,
      "outputs": [
        {
          "output_type": "execute_result",
          "data": {
            "text/plain": [
              "200"
            ]
          },
          "metadata": {},
          "execution_count": 20
        }
      ]
    },
    {
      "cell_type": "code",
      "source": [
        "lenta_articles[0]"
      ],
      "metadata": {
        "colab": {
          "base_uri": "https://localhost:8080/"
        },
        "id": "e9CCU_VSaMJV",
        "outputId": "acb10797-c5ab-464c-b9f1-6acb946a1d4e"
      },
      "execution_count": null,
      "outputs": [
        {
          "output_type": "execute_result",
          "data": {
            "text/plain": [
              "{'id': 'https://lenta.ru/news/2023/03/04/h3/',\n",
              " 'guidislink': True,\n",
              " 'link': 'https://lenta.ru/news/2023/03/04/h3/',\n",
              " 'authors': [{'name': 'Иван Потапов'}],\n",
              " 'author': 'Иван Потапов',\n",
              " 'author_detail': {'name': 'Иван Потапов'},\n",
              " 'title': 'Япония перенесла первый пуск H3 из-за погоды',\n",
              " 'title_detail': {'type': 'text/plain',\n",
              "  'language': None,\n",
              "  'base': 'https://lenta.ru/rss/',\n",
              "  'value': 'Япония перенесла первый пуск H3 из-за погоды'},\n",
              " 'links': [{'rel': 'alternate',\n",
              "   'type': 'text/html',\n",
              "   'href': 'https://lenta.ru/news/2023/03/04/h3/'},\n",
              "  {'type': 'image/jpeg',\n",
              "   'length': '31892',\n",
              "   'href': 'https://icdn.lenta.ru/images/2023/03/04/10/20230304100550304/pic_89e8a7ac4c302716a884364c27b7be59.jpeg',\n",
              "   'rel': 'enclosure'}],\n",
              " 'summary': 'Первый пуск новой ракеты H3 перенесен с 6 на 7 марта из-за погодных условий в районе космодрома Танэгасима юго-западной префектуры Кагосима. Об этом сообщает Японское агентство аэрокосмических исследований. Старт планируется осуществить в промежутке между 10:37 и 10:44 местного времени.',\n",
              " 'summary_detail': {'type': 'text/html',\n",
              "  'language': None,\n",
              "  'base': 'https://lenta.ru/rss/',\n",
              "  'value': 'Первый пуск новой ракеты H3 перенесен с 6 на 7 марта из-за погодных условий в районе космодрома Танэгасима юго-западной префектуры Кагосима. Об этом сообщает Японское агентство аэрокосмических исследований. Старт планируется осуществить в промежутке между 10:37 и 10:44 местного времени.'},\n",
              " 'published': 'Sat, 04 Mar 2023 10:11:12 +0300',\n",
              " 'published_parsed': time.struct_time(tm_year=2023, tm_mon=3, tm_mday=4, tm_hour=7, tm_min=11, tm_sec=12, tm_wday=5, tm_yday=63, tm_isdst=0),\n",
              " 'tags': [{'term': 'Наука и техника', 'scheme': None, 'label': None}]}"
            ]
          },
          "metadata": {},
          "execution_count": 21
        }
      ]
    },
    {
      "cell_type": "code",
      "source": [
        "print(lenta_articles[0]['title'])\n",
        "print(lenta_articles[0]['link'])"
      ],
      "metadata": {
        "colab": {
          "base_uri": "https://localhost:8080/"
        },
        "id": "jtLFFfGOaXkH",
        "outputId": "f99e8274-dae1-4e38-b7d1-38ecc770300e"
      },
      "execution_count": null,
      "outputs": [
        {
          "output_type": "stream",
          "name": "stdout",
          "text": [
            "Япония перенесла первый пуск H3 из-за погоды\n",
            "https://lenta.ru/news/2023/03/04/h3/\n"
          ]
        }
      ]
    },
    {
      "cell_type": "markdown",
      "source": [
        "## Задание\n",
        "\n",
        "Выкачайте с помощью newscatcher несколько новостей с любого сайта и извлеките из них текст в отдельную переменную."
      ],
      "metadata": {
        "id": "pSl1qrKxWDiI"
      }
    },
    {
      "cell_type": "code",
      "source": [
        "# Впишите сюда код"
      ],
      "metadata": {
        "id": "aBE-apu4WUon"
      },
      "execution_count": null,
      "outputs": []
    },
    {
      "cell_type": "markdown",
      "source": [
        "## Экспорт текстов\n",
        "\n",
        "Осталось сохранить полученные тексты, чтобы не выкачивать каждый раз и иметь доступ в любой момент. Для этого оформим их в виде таблицы, которая содержит всю метаминформацию."
      ],
      "metadata": {
        "id": "IIzGSLJadMdH"
      }
    },
    {
      "cell_type": "code",
      "source": [
        "#Создаём индекс, чтобы пронумеровать каждый текст (это нам понадобится позже)\n",
        "\n",
        "index = [a for a in range(len(all_dates))]\n",
        "\n",
        "#Добавляем в особую табличку тексты. Для этого подаём функции DataFrame словарь\n",
        "#В котором на первом месте — название столбца, на втором — содержимое столбца\n",
        "#Все столбцы должны быть одинаковой длины\n",
        "corpus = pd.DataFrame({'index': index, 'date': all_dates, 'sphere': all_spheres,\n",
        "                       'title': all_titles, 'text': all_texts,  \n",
        "                       'link': all_links})\n",
        "\n",
        "corpus.head()"
      ],
      "metadata": {
        "colab": {
          "base_uri": "https://localhost:8080/",
          "height": 423
        },
        "id": "yKsEELhvdKUT",
        "outputId": "15a77dd0-d9ee-4f7d-e3bb-5591be6ad4fe"
      },
      "execution_count": null,
      "outputs": [
        {
          "output_type": "execute_result",
          "data": {
            "text/plain": [
              "   index      date    sphere  \\\n",
              "0      0  4-3-2023  Общество   \n",
              "1      1  4-3-2023  Политика   \n",
              "2      2  4-3-2023  Политика   \n",
              "3      3  4-3-2023  Политика   \n",
              "4      4  3-3-2023  Общество   \n",
              "\n",
              "                                               title  \\\n",
              "0  Гражданам разрешили добывать нефть и газ на св...   \n",
              "1  Китай подал заявку на вступление в Союзное гос...   \n",
              "2  Деколонизаторки из Франции потребовали вернуть...   \n",
              "3  Победа России: Госдума пересмотрела результаты...   \n",
              "4        Бездетных россиян будут ежегодно штрафовать   \n",
              "\n",
              "                                                text  \\\n",
              "0  Государственная дума приняла в третьем чтении ...   \n",
              "1  Заведующий Канцелярией Комиссии ЦК КПК по инос...   \n",
              "2  Активисты движения «Смерть колониализму» из Па...   \n",
              "3  Государственная дума приняла постановление «Об...   \n",
              "4  Государственная дума приняла в первом чтении з...   \n",
              "\n",
              "                                                link  \n",
              "0  https://panorama.pub/news/grazdanam-razresili-...  \n",
              "1  https://panorama.pub/news/kitaj-podal-zaavku-n...  \n",
              "2  https://panorama.pub/news/dekolonizatorki-iz-f...  \n",
              "3  https://panorama.pub/news/gosduma-peresmotrela...  \n",
              "4  https://panorama.pub/news/bezdetnyh-rossian-pr...  "
            ],
            "text/html": [
              "\n",
              "  <div id=\"df-6340e493-e647-481d-82a5-2e38cd82f05a\">\n",
              "    <div class=\"colab-df-container\">\n",
              "      <div>\n",
              "<style scoped>\n",
              "    .dataframe tbody tr th:only-of-type {\n",
              "        vertical-align: middle;\n",
              "    }\n",
              "\n",
              "    .dataframe tbody tr th {\n",
              "        vertical-align: top;\n",
              "    }\n",
              "\n",
              "    .dataframe thead th {\n",
              "        text-align: right;\n",
              "    }\n",
              "</style>\n",
              "<table border=\"1\" class=\"dataframe\">\n",
              "  <thead>\n",
              "    <tr style=\"text-align: right;\">\n",
              "      <th></th>\n",
              "      <th>index</th>\n",
              "      <th>date</th>\n",
              "      <th>sphere</th>\n",
              "      <th>title</th>\n",
              "      <th>text</th>\n",
              "      <th>link</th>\n",
              "    </tr>\n",
              "  </thead>\n",
              "  <tbody>\n",
              "    <tr>\n",
              "      <th>0</th>\n",
              "      <td>0</td>\n",
              "      <td>4-3-2023</td>\n",
              "      <td>Общество</td>\n",
              "      <td>Гражданам разрешили добывать нефть и газ на св...</td>\n",
              "      <td>Государственная дума приняла в третьем чтении ...</td>\n",
              "      <td>https://panorama.pub/news/grazdanam-razresili-...</td>\n",
              "    </tr>\n",
              "    <tr>\n",
              "      <th>1</th>\n",
              "      <td>1</td>\n",
              "      <td>4-3-2023</td>\n",
              "      <td>Политика</td>\n",
              "      <td>Китай подал заявку на вступление в Союзное гос...</td>\n",
              "      <td>Заведующий Канцелярией Комиссии ЦК КПК по инос...</td>\n",
              "      <td>https://panorama.pub/news/kitaj-podal-zaavku-n...</td>\n",
              "    </tr>\n",
              "    <tr>\n",
              "      <th>2</th>\n",
              "      <td>2</td>\n",
              "      <td>4-3-2023</td>\n",
              "      <td>Политика</td>\n",
              "      <td>Деколонизаторки из Франции потребовали вернуть...</td>\n",
              "      <td>Активисты движения «Смерть колониализму» из Па...</td>\n",
              "      <td>https://panorama.pub/news/dekolonizatorki-iz-f...</td>\n",
              "    </tr>\n",
              "    <tr>\n",
              "      <th>3</th>\n",
              "      <td>3</td>\n",
              "      <td>4-3-2023</td>\n",
              "      <td>Политика</td>\n",
              "      <td>Победа России: Госдума пересмотрела результаты...</td>\n",
              "      <td>Государственная дума приняла постановление «Об...</td>\n",
              "      <td>https://panorama.pub/news/gosduma-peresmotrela...</td>\n",
              "    </tr>\n",
              "    <tr>\n",
              "      <th>4</th>\n",
              "      <td>4</td>\n",
              "      <td>3-3-2023</td>\n",
              "      <td>Общество</td>\n",
              "      <td>Бездетных россиян будут ежегодно штрафовать</td>\n",
              "      <td>Государственная дума приняла в первом чтении з...</td>\n",
              "      <td>https://panorama.pub/news/bezdetnyh-rossian-pr...</td>\n",
              "    </tr>\n",
              "  </tbody>\n",
              "</table>\n",
              "</div>\n",
              "      <button class=\"colab-df-convert\" onclick=\"convertToInteractive('df-6340e493-e647-481d-82a5-2e38cd82f05a')\"\n",
              "              title=\"Convert this dataframe to an interactive table.\"\n",
              "              style=\"display:none;\">\n",
              "        \n",
              "  <svg xmlns=\"http://www.w3.org/2000/svg\" height=\"24px\"viewBox=\"0 0 24 24\"\n",
              "       width=\"24px\">\n",
              "    <path d=\"M0 0h24v24H0V0z\" fill=\"none\"/>\n",
              "    <path d=\"M18.56 5.44l.94 2.06.94-2.06 2.06-.94-2.06-.94-.94-2.06-.94 2.06-2.06.94zm-11 1L8.5 8.5l.94-2.06 2.06-.94-2.06-.94L8.5 2.5l-.94 2.06-2.06.94zm10 10l.94 2.06.94-2.06 2.06-.94-2.06-.94-.94-2.06-.94 2.06-2.06.94z\"/><path d=\"M17.41 7.96l-1.37-1.37c-.4-.4-.92-.59-1.43-.59-.52 0-1.04.2-1.43.59L10.3 9.45l-7.72 7.72c-.78.78-.78 2.05 0 2.83L4 21.41c.39.39.9.59 1.41.59.51 0 1.02-.2 1.41-.59l7.78-7.78 2.81-2.81c.8-.78.8-2.07 0-2.86zM5.41 20L4 18.59l7.72-7.72 1.47 1.35L5.41 20z\"/>\n",
              "  </svg>\n",
              "      </button>\n",
              "      \n",
              "  <style>\n",
              "    .colab-df-container {\n",
              "      display:flex;\n",
              "      flex-wrap:wrap;\n",
              "      gap: 12px;\n",
              "    }\n",
              "\n",
              "    .colab-df-convert {\n",
              "      background-color: #E8F0FE;\n",
              "      border: none;\n",
              "      border-radius: 50%;\n",
              "      cursor: pointer;\n",
              "      display: none;\n",
              "      fill: #1967D2;\n",
              "      height: 32px;\n",
              "      padding: 0 0 0 0;\n",
              "      width: 32px;\n",
              "    }\n",
              "\n",
              "    .colab-df-convert:hover {\n",
              "      background-color: #E2EBFA;\n",
              "      box-shadow: 0px 1px 2px rgba(60, 64, 67, 0.3), 0px 1px 3px 1px rgba(60, 64, 67, 0.15);\n",
              "      fill: #174EA6;\n",
              "    }\n",
              "\n",
              "    [theme=dark] .colab-df-convert {\n",
              "      background-color: #3B4455;\n",
              "      fill: #D2E3FC;\n",
              "    }\n",
              "\n",
              "    [theme=dark] .colab-df-convert:hover {\n",
              "      background-color: #434B5C;\n",
              "      box-shadow: 0px 1px 3px 1px rgba(0, 0, 0, 0.15);\n",
              "      filter: drop-shadow(0px 1px 2px rgba(0, 0, 0, 0.3));\n",
              "      fill: #FFFFFF;\n",
              "    }\n",
              "  </style>\n",
              "\n",
              "      <script>\n",
              "        const buttonEl =\n",
              "          document.querySelector('#df-6340e493-e647-481d-82a5-2e38cd82f05a button.colab-df-convert');\n",
              "        buttonEl.style.display =\n",
              "          google.colab.kernel.accessAllowed ? 'block' : 'none';\n",
              "\n",
              "        async function convertToInteractive(key) {\n",
              "          const element = document.querySelector('#df-6340e493-e647-481d-82a5-2e38cd82f05a');\n",
              "          const dataTable =\n",
              "            await google.colab.kernel.invokeFunction('convertToInteractive',\n",
              "                                                     [key], {});\n",
              "          if (!dataTable) return;\n",
              "\n",
              "          const docLinkHtml = 'Like what you see? Visit the ' +\n",
              "            '<a target=\"_blank\" href=https://colab.research.google.com/notebooks/data_table.ipynb>data table notebook</a>'\n",
              "            + ' to learn more about interactive tables.';\n",
              "          element.innerHTML = '';\n",
              "          dataTable['output_type'] = 'display_data';\n",
              "          await google.colab.output.renderOutput(dataTable, element);\n",
              "          const docLink = document.createElement('div');\n",
              "          docLink.innerHTML = docLinkHtml;\n",
              "          element.appendChild(docLink);\n",
              "        }\n",
              "      </script>\n",
              "    </div>\n",
              "  </div>\n",
              "  "
            ]
          },
          "metadata": {},
          "execution_count": 37
        }
      ]
    },
    {
      "cell_type": "code",
      "source": [
        "corpus.to_csv('panorama_corpus.tsv', sep = '\\t', encoding='utf-8',  index = False)"
      ],
      "metadata": {
        "id": "q0QMWliFh7SW"
      },
      "execution_count": null,
      "outputs": []
    },
    {
      "cell_type": "code",
      "source": [],
      "metadata": {
        "id": "XwkBEF92tc4T"
      },
      "execution_count": null,
      "outputs": []
    }
  ]
}
