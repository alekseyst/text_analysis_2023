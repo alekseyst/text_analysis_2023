{
  "nbformat": 4,
  "nbformat_minor": 0,
  "metadata": {
    "colab": {
      "provenance": []
    },
    "kernelspec": {
      "name": "python3",
      "display_name": "Python 3"
    },
    "widgets": {
      "application/vnd.jupyter.widget-state+json": {
        "d821ab4b9c9d4da78bb3bd6c667ea7fe": {
          "model_module": "@jupyter-widgets/controls",
          "model_name": "HBoxModel",
          "model_module_version": "1.5.0",
          "state": {
            "_dom_classes": [],
            "_model_module": "@jupyter-widgets/controls",
            "_model_module_version": "1.5.0",
            "_model_name": "HBoxModel",
            "_view_count": null,
            "_view_module": "@jupyter-widgets/controls",
            "_view_module_version": "1.5.0",
            "_view_name": "HBoxView",
            "box_style": "",
            "children": [
              "IPY_MODEL_ad23bba7038c40eba63b9f1ef6bdc70d",
              "IPY_MODEL_caf1e059aac84037affdc190a2ed2e64",
              "IPY_MODEL_6cf8f597b5244468a75e740501ac0608"
            ],
            "layout": "IPY_MODEL_120d8b316dc441aaa7b4a958b1cd3d79"
          }
        },
        "ad23bba7038c40eba63b9f1ef6bdc70d": {
          "model_module": "@jupyter-widgets/controls",
          "model_name": "HTMLModel",
          "model_module_version": "1.5.0",
          "state": {
            "_dom_classes": [],
            "_model_module": "@jupyter-widgets/controls",
            "_model_module_version": "1.5.0",
            "_model_name": "HTMLModel",
            "_view_count": null,
            "_view_module": "@jupyter-widgets/controls",
            "_view_module_version": "1.5.0",
            "_view_name": "HTMLView",
            "description": "",
            "description_tooltip": null,
            "layout": "IPY_MODEL_05709b3b113e497bb01f6ea7bc0199cf",
            "placeholder": "​",
            "style": "IPY_MODEL_61f1e06ba40f444da7ec305ba9b6205a",
            "value": "100%"
          }
        },
        "caf1e059aac84037affdc190a2ed2e64": {
          "model_module": "@jupyter-widgets/controls",
          "model_name": "FloatProgressModel",
          "model_module_version": "1.5.0",
          "state": {
            "_dom_classes": [],
            "_model_module": "@jupyter-widgets/controls",
            "_model_module_version": "1.5.0",
            "_model_name": "FloatProgressModel",
            "_view_count": null,
            "_view_module": "@jupyter-widgets/controls",
            "_view_module_version": "1.5.0",
            "_view_name": "ProgressView",
            "bar_style": "success",
            "description": "",
            "description_tooltip": null,
            "layout": "IPY_MODEL_7880adb1e0dc402d8ef60d52172ecbde",
            "max": 100,
            "min": 0,
            "orientation": "horizontal",
            "style": "IPY_MODEL_2ac675dce668468784b0514905829692",
            "value": 100
          }
        },
        "6cf8f597b5244468a75e740501ac0608": {
          "model_module": "@jupyter-widgets/controls",
          "model_name": "HTMLModel",
          "model_module_version": "1.5.0",
          "state": {
            "_dom_classes": [],
            "_model_module": "@jupyter-widgets/controls",
            "_model_module_version": "1.5.0",
            "_model_name": "HTMLModel",
            "_view_count": null,
            "_view_module": "@jupyter-widgets/controls",
            "_view_module_version": "1.5.0",
            "_view_name": "HTMLView",
            "description": "",
            "description_tooltip": null,
            "layout": "IPY_MODEL_eeeddd57b6ee497a98c5f0241486727e",
            "placeholder": "​",
            "style": "IPY_MODEL_92e3a8c1f0624eeca410d8214ec3b5c2",
            "value": " 100/100 [06:06&lt;00:00,  4.02s/it]"
          }
        },
        "120d8b316dc441aaa7b4a958b1cd3d79": {
          "model_module": "@jupyter-widgets/base",
          "model_name": "LayoutModel",
          "model_module_version": "1.2.0",
          "state": {
            "_model_module": "@jupyter-widgets/base",
            "_model_module_version": "1.2.0",
            "_model_name": "LayoutModel",
            "_view_count": null,
            "_view_module": "@jupyter-widgets/base",
            "_view_module_version": "1.2.0",
            "_view_name": "LayoutView",
            "align_content": null,
            "align_items": null,
            "align_self": null,
            "border": null,
            "bottom": null,
            "display": null,
            "flex": null,
            "flex_flow": null,
            "grid_area": null,
            "grid_auto_columns": null,
            "grid_auto_flow": null,
            "grid_auto_rows": null,
            "grid_column": null,
            "grid_gap": null,
            "grid_row": null,
            "grid_template_areas": null,
            "grid_template_columns": null,
            "grid_template_rows": null,
            "height": null,
            "justify_content": null,
            "justify_items": null,
            "left": null,
            "margin": null,
            "max_height": null,
            "max_width": null,
            "min_height": null,
            "min_width": null,
            "object_fit": null,
            "object_position": null,
            "order": null,
            "overflow": null,
            "overflow_x": null,
            "overflow_y": null,
            "padding": null,
            "right": null,
            "top": null,
            "visibility": null,
            "width": null
          }
        },
        "05709b3b113e497bb01f6ea7bc0199cf": {
          "model_module": "@jupyter-widgets/base",
          "model_name": "LayoutModel",
          "model_module_version": "1.2.0",
          "state": {
            "_model_module": "@jupyter-widgets/base",
            "_model_module_version": "1.2.0",
            "_model_name": "LayoutModel",
            "_view_count": null,
            "_view_module": "@jupyter-widgets/base",
            "_view_module_version": "1.2.0",
            "_view_name": "LayoutView",
            "align_content": null,
            "align_items": null,
            "align_self": null,
            "border": null,
            "bottom": null,
            "display": null,
            "flex": null,
            "flex_flow": null,
            "grid_area": null,
            "grid_auto_columns": null,
            "grid_auto_flow": null,
            "grid_auto_rows": null,
            "grid_column": null,
            "grid_gap": null,
            "grid_row": null,
            "grid_template_areas": null,
            "grid_template_columns": null,
            "grid_template_rows": null,
            "height": null,
            "justify_content": null,
            "justify_items": null,
            "left": null,
            "margin": null,
            "max_height": null,
            "max_width": null,
            "min_height": null,
            "min_width": null,
            "object_fit": null,
            "object_position": null,
            "order": null,
            "overflow": null,
            "overflow_x": null,
            "overflow_y": null,
            "padding": null,
            "right": null,
            "top": null,
            "visibility": null,
            "width": null
          }
        },
        "61f1e06ba40f444da7ec305ba9b6205a": {
          "model_module": "@jupyter-widgets/controls",
          "model_name": "DescriptionStyleModel",
          "model_module_version": "1.5.0",
          "state": {
            "_model_module": "@jupyter-widgets/controls",
            "_model_module_version": "1.5.0",
            "_model_name": "DescriptionStyleModel",
            "_view_count": null,
            "_view_module": "@jupyter-widgets/base",
            "_view_module_version": "1.2.0",
            "_view_name": "StyleView",
            "description_width": ""
          }
        },
        "7880adb1e0dc402d8ef60d52172ecbde": {
          "model_module": "@jupyter-widgets/base",
          "model_name": "LayoutModel",
          "model_module_version": "1.2.0",
          "state": {
            "_model_module": "@jupyter-widgets/base",
            "_model_module_version": "1.2.0",
            "_model_name": "LayoutModel",
            "_view_count": null,
            "_view_module": "@jupyter-widgets/base",
            "_view_module_version": "1.2.0",
            "_view_name": "LayoutView",
            "align_content": null,
            "align_items": null,
            "align_self": null,
            "border": null,
            "bottom": null,
            "display": null,
            "flex": null,
            "flex_flow": null,
            "grid_area": null,
            "grid_auto_columns": null,
            "grid_auto_flow": null,
            "grid_auto_rows": null,
            "grid_column": null,
            "grid_gap": null,
            "grid_row": null,
            "grid_template_areas": null,
            "grid_template_columns": null,
            "grid_template_rows": null,
            "height": null,
            "justify_content": null,
            "justify_items": null,
            "left": null,
            "margin": null,
            "max_height": null,
            "max_width": null,
            "min_height": null,
            "min_width": null,
            "object_fit": null,
            "object_position": null,
            "order": null,
            "overflow": null,
            "overflow_x": null,
            "overflow_y": null,
            "padding": null,
            "right": null,
            "top": null,
            "visibility": null,
            "width": null
          }
        },
        "2ac675dce668468784b0514905829692": {
          "model_module": "@jupyter-widgets/controls",
          "model_name": "ProgressStyleModel",
          "model_module_version": "1.5.0",
          "state": {
            "_model_module": "@jupyter-widgets/controls",
            "_model_module_version": "1.5.0",
            "_model_name": "ProgressStyleModel",
            "_view_count": null,
            "_view_module": "@jupyter-widgets/base",
            "_view_module_version": "1.2.0",
            "_view_name": "StyleView",
            "bar_color": null,
            "description_width": ""
          }
        },
        "eeeddd57b6ee497a98c5f0241486727e": {
          "model_module": "@jupyter-widgets/base",
          "model_name": "LayoutModel",
          "model_module_version": "1.2.0",
          "state": {
            "_model_module": "@jupyter-widgets/base",
            "_model_module_version": "1.2.0",
            "_model_name": "LayoutModel",
            "_view_count": null,
            "_view_module": "@jupyter-widgets/base",
            "_view_module_version": "1.2.0",
            "_view_name": "LayoutView",
            "align_content": null,
            "align_items": null,
            "align_self": null,
            "border": null,
            "bottom": null,
            "display": null,
            "flex": null,
            "flex_flow": null,
            "grid_area": null,
            "grid_auto_columns": null,
            "grid_auto_flow": null,
            "grid_auto_rows": null,
            "grid_column": null,
            "grid_gap": null,
            "grid_row": null,
            "grid_template_areas": null,
            "grid_template_columns": null,
            "grid_template_rows": null,
            "height": null,
            "justify_content": null,
            "justify_items": null,
            "left": null,
            "margin": null,
            "max_height": null,
            "max_width": null,
            "min_height": null,
            "min_width": null,
            "object_fit": null,
            "object_position": null,
            "order": null,
            "overflow": null,
            "overflow_x": null,
            "overflow_y": null,
            "padding": null,
            "right": null,
            "top": null,
            "visibility": null,
            "width": null
          }
        },
        "92e3a8c1f0624eeca410d8214ec3b5c2": {
          "model_module": "@jupyter-widgets/controls",
          "model_name": "DescriptionStyleModel",
          "model_module_version": "1.5.0",
          "state": {
            "_model_module": "@jupyter-widgets/controls",
            "_model_module_version": "1.5.0",
            "_model_name": "DescriptionStyleModel",
            "_view_count": null,
            "_view_module": "@jupyter-widgets/base",
            "_view_module_version": "1.2.0",
            "_view_name": "StyleView",
            "description_width": ""
          }
        }
      }
    }
  },
  "cells": [
    {
      "cell_type": "markdown",
      "metadata": {
        "id": "FvH_fpTUcG6m"
      },
      "source": [
        "# Скачивание и разметка собственного корпуса\n",
        "\n",
        "Этот набор упражнений должен помочь вам научиться:\n",
        "\n",
        "- выгружать интересующие вас тексты из Интернета\n",
        "- сохранять их в формате, удобном для обработки\n",
        "- выполнять их разметку\n",
        "\n",
        "[Ссылка](https://colab.research.google.com/drive/1N6pky6LG1pkJ9_VVAFUB1fpxWRq5KfrY?usp=sharing) на тетрадку в Google Colab"
      ]
    },
    {
      "cell_type": "code",
      "metadata": {
        "id": "ujahIKqc0pTQ",
        "outputId": "aba6728c-4a01-469a-dba3-6c023811e1a8",
        "colab": {
          "base_uri": "https://localhost:8080/"
        }
      },
      "source": [
        "#Скачиваем пакеты, которых нет в стандартной библиотеке Python\n",
        "!pip install fake-useragent\n",
        "!pip install tqdm\n",
        "!pip install newscatcher"
      ],
      "execution_count": null,
      "outputs": [
        {
          "output_type": "stream",
          "name": "stdout",
          "text": [
            "Looking in indexes: https://pypi.org/simple, https://us-python.pkg.dev/colab-wheels/public/simple/\n",
            "Collecting fake-useragent\n",
            "  Downloading fake_useragent-1.1.1-py3-none-any.whl (50 kB)\n",
            "\u001b[2K     \u001b[90m━━━━━━━━━━━━━━━━━━━━━━━━━━━━━━━━━━━━━━━━\u001b[0m \u001b[32m50.4/50.4 KB\u001b[0m \u001b[31m2.8 MB/s\u001b[0m eta \u001b[36m0:00:00\u001b[0m\n",
            "\u001b[?25hRequirement already satisfied: importlib-resources>=5.0 in /usr/local/lib/python3.8/dist-packages (from fake-useragent) (5.12.0)\n",
            "Requirement already satisfied: zipp>=3.1.0 in /usr/local/lib/python3.8/dist-packages (from importlib-resources>=5.0->fake-useragent) (3.15.0)\n",
            "Installing collected packages: fake-useragent\n",
            "Successfully installed fake-useragent-1.1.1\n",
            "Looking in indexes: https://pypi.org/simple, https://us-python.pkg.dev/colab-wheels/public/simple/\n",
            "Requirement already satisfied: tqdm in /usr/local/lib/python3.8/dist-packages (4.64.1)\n",
            "Looking in indexes: https://pypi.org/simple, https://us-python.pkg.dev/colab-wheels/public/simple/\n",
            "Collecting newscatcher\n",
            "  Downloading newscatcher-0.2.0-py3-none-any.whl (138 kB)\n",
            "\u001b[2K     \u001b[90m━━━━━━━━━━━━━━━━━━━━━━━━━━━━━━━━━━━━━━━\u001b[0m \u001b[32m138.6/138.6 KB\u001b[0m \u001b[31m4.4 MB/s\u001b[0m eta \u001b[36m0:00:00\u001b[0m\n",
            "\u001b[?25hCollecting feedparser<6.0.0,>=5.2.1\n",
            "  Downloading feedparser-5.2.1.zip (1.2 MB)\n",
            "\u001b[2K     \u001b[90m━━━━━━━━━━━━━━━━━━━━━━━━━━━━━━━━━━━━━━━━\u001b[0m \u001b[32m1.2/1.2 MB\u001b[0m \u001b[31m22.4 MB/s\u001b[0m eta \u001b[36m0:00:00\u001b[0m\n",
            "\u001b[?25h  Preparing metadata (setup.py) ... \u001b[?25l\u001b[?25hdone\n",
            "Collecting tldextract<3.0.0,>=2.2.2\n",
            "  Downloading tldextract-2.2.3-py2.py3-none-any.whl (48 kB)\n",
            "\u001b[2K     \u001b[90m━━━━━━━━━━━━━━━━━━━━━━━━━━━━━━━━━━━━━━━━\u001b[0m \u001b[32m49.0/49.0 KB\u001b[0m \u001b[31m3.6 MB/s\u001b[0m eta \u001b[36m0:00:00\u001b[0m\n",
            "\u001b[?25hRequirement already satisfied: requests<3.0.0,>=2.23.0 in /usr/local/lib/python3.8/dist-packages (from newscatcher) (2.25.1)\n",
            "Requirement already satisfied: chardet<5,>=3.0.2 in /usr/local/lib/python3.8/dist-packages (from requests<3.0.0,>=2.23.0->newscatcher) (4.0.0)\n",
            "Requirement already satisfied: urllib3<1.27,>=1.21.1 in /usr/local/lib/python3.8/dist-packages (from requests<3.0.0,>=2.23.0->newscatcher) (1.26.14)\n",
            "Requirement already satisfied: idna<3,>=2.5 in /usr/local/lib/python3.8/dist-packages (from requests<3.0.0,>=2.23.0->newscatcher) (2.10)\n",
            "Requirement already satisfied: certifi>=2017.4.17 in /usr/local/lib/python3.8/dist-packages (from requests<3.0.0,>=2.23.0->newscatcher) (2022.12.7)\n",
            "Collecting requests-file>=1.4\n",
            "  Downloading requests_file-1.5.1-py2.py3-none-any.whl (3.7 kB)\n",
            "Requirement already satisfied: six in /usr/local/lib/python3.8/dist-packages (from requests-file>=1.4->tldextract<3.0.0,>=2.2.2->newscatcher) (1.15.0)\n",
            "Building wheels for collected packages: feedparser\n",
            "  Building wheel for feedparser (setup.py) ... \u001b[?25l\u001b[?25hdone\n",
            "  Created wheel for feedparser: filename=feedparser-5.2.1-py3-none-any.whl size=44951 sha256=fe673e0a023147bc667435949430f91495e4344ebcdadc7be2b7672ba1a545e5\n",
            "  Stored in directory: /root/.cache/pip/wheels/67/38/07/59c89c3d334e7f1f743898af6d21c15ecb3588ad04af7ddee0\n",
            "Successfully built feedparser\n",
            "Installing collected packages: feedparser, requests-file, tldextract, newscatcher\n",
            "Successfully installed feedparser-5.2.1 newscatcher-0.2.0 requests-file-1.5.1 tldextract-2.2.3\n"
          ]
        }
      ]
    },
    {
      "cell_type": "markdown",
      "metadata": {
        "id": "ycgt059QcOh_"
      },
      "source": [
        "Импортируем нужные для работы модули"
      ]
    },
    {
      "cell_type": "code",
      "metadata": {
        "id": "JBvCvA8tk_5c"
      },
      "source": [
        "#Собственно выкачивание файлов из Интернета\n",
        "import requests\n",
        "\n",
        "#Работа с таблицами — понадобится, чтобы хранить наш корпус\n",
        "import pandas as pd\n",
        "\n",
        "#Выполнение быстрых математических вычислений — пригодится, потому что иначе\n",
        "#корпус с большим количеством текстов может долго обрабатываться\n",
        "import numpy as np\n",
        "\n",
        "# Модуль для работы с HTML-файлами\n",
        "from bs4 import BeautifulSoup\n",
        "\n",
        "# Модуль для скачивания новостей\n",
        "import newscatcher\n",
        "\n",
        "# Модуль для работы с регулярными выражениями\n",
        "import re\n",
        "\n",
        "#Функция, который измеряет время исполнения фрагмента программы — без неё\n",
        "#в принципе тоже всё будет работать\n",
        "from tqdm.auto import tqdm\n",
        "\n",
        "#Поможет замаскироваться под обычного пользователя в Интернете\n",
        "from fake_useragent import UserAgent \n",
        "\n",
        "#Переменные, нужные, чтобы маскироваться под обычного пользователя Интернета\n",
        "ua = UserAgent(verify_ssl=False)\n",
        "headers = {'User-Agent': ua.random}"
      ],
      "execution_count": null,
      "outputs": []
    },
    {
      "cell_type": "markdown",
      "metadata": {
        "id": "JATcSVCBcR4-"
      },
      "source": [
        "## Сбор текстов в Интернете\n",
        "\n",
        "Python позволяет достаточно простым образом скачивать страницы из интернета по ссылке. Например, ниже скачивается и записывается в переменную файл с предыдущего занятия."
      ]
    },
    {
      "cell_type": "code",
      "source": [
        "akarenina_link = 'https://raw.githubusercontent.com/alekseyst/text_analysis_2023/main/Seminar_3/karenina.txt'\n",
        "akarenina = requests.get(akarenina_link, headers=headers)\n",
        "akarenina"
      ],
      "metadata": {
        "colab": {
          "base_uri": "https://localhost:8080/"
        },
        "id": "VGSMO3xJUD13",
        "outputId": "7b28df1d-878d-4f25-c1ce-fc05fcb7ce7d"
      },
      "execution_count": null,
      "outputs": [
        {
          "output_type": "execute_result",
          "data": {
            "text/plain": [
              "<Response [200]>"
            ]
          },
          "metadata": {},
          "execution_count": 3
        }
      ]
    },
    {
      "cell_type": "code",
      "source": [
        "#Как мы видим, результат запроса представляет собой какой-то объект.\n",
        "#Чтобы извлечь его содержимое, нужно обратиться к атрибуту text.\n",
        "\n",
        "akarenina.text[:400]"
      ],
      "metadata": {
        "colab": {
          "base_uri": "https://localhost:8080/",
          "height": 105
        },
        "id": "iWYCgfPGUz5x",
        "outputId": "1f8de1b8-2b33-4874-fc88-23ea2d367a91"
      },
      "execution_count": null,
      "outputs": [
        {
          "output_type": "execute_result",
          "data": {
            "text/plain": [
              "'\\r\\n Л.Н. Толстой. Анна Каренина \\r\\n\\r\\n Роман в восьми частях \\r\\n\\r\\n\\t Мне отмщение, и Аз воздам  \\r\\n\\t \\r\\n\\r\\n Часть первая \\r\\n\\r\\n I \\r\\n\\r\\n Все счастливые семьи похожи друг на друга, каждая несчастливая семья несчастлива по-своему. \\r\\n Все смешалось в доме Облонских. Жена узнала, что муж был в связи с бывшею в их доме француженкою-гувернанткой, и объявила мужу, что не может жить с ним в одном доме. Положение это '"
            ],
            "application/vnd.google.colaboratory.intrinsic+json": {
              "type": "string"
            }
          },
          "metadata": {},
          "execution_count": 4
        }
      ]
    },
    {
      "cell_type": "markdown",
      "source": [
        "##HTML\n",
        "\n",
        "Если мы, однако, имеем дело не с txt-файлами, выложенными в Интернет, а с обычными страницами, приходится иметь дело с HTML."
      ],
      "metadata": {
        "id": "tTgsFdZkVqWW"
      }
    },
    {
      "cell_type": "code",
      "source": [
        "#HTML-страница новости\n",
        "\n",
        "news_cher_link = \"https://cher-is.com/izvestnaya-nejroset-sostavila-obrazy-cherepovtsa-i-vologdy/\"\n",
        "html_cher_request_result = requests.get(news_cher_link, headers=headers)\n",
        "html_cher = html_cher_request_result.text\n",
        "html_cher"
      ],
      "metadata": {
        "colab": {
          "base_uri": "https://localhost:8080/",
          "height": 193
        },
        "id": "wk8iIJKnQb7c",
        "outputId": "4849509b-1a4e-48a0-8cef-adb3fc57051c"
      },
      "execution_count": null,
      "outputs": [
        {
          "output_type": "execute_result",
          "data": {
            "text/plain": [
              "'<!DOCTYPE html>\\n<html lang=\"ru-RU\" itemscope itemtype=\"http://schema.org/WebSite\" prefix=\"og: http://ogp.me/ns#\">\\n<head> <a href=\"https://metrika.yandex.ru/stat/?id=52125751&amp;from=informer\" target=\"_blank\" rel=\"nofollow\"><img src=\"https://informer.yandex.ru/informer/52125751/3_1_FFFFFFFF_EFEFEFFF_0_pageviews\" style=\"width:88px; height:31px; border:0;\" alt=\"Яндекс.Метрика\" title=\"Яндекс.Метрика: данные за сегодня (просмотры, визиты и уникальные посетители)\" class=\"ym-advanced-informer\" data-cid=\"52125751\" data-lang=\"ru\" /></a>   <script type=\"text/javascript\"> (function(m,e,t,r,i,k,a){m[i]=m[i]||function(){(m[i].a=m[i].a||[]).push(arguments)}; m[i].l=1*new Date();k=e.createElement(t),a=e.getElementsByTagName(t)[0],k.async=1,k.src=r,a.parentNode.insertBefore(k,a)}) (window, document, \"script\", \"https://mc.yandex.ru/metrika/tag.js\", \"ym\"); ym(52125751, \"init\", { id:52125751, clickmap:true, trackLinks:true, accurateTrackBounce:true, webvisor:true, trackHash:true }); </script> \\n<meta charset=\"UTF-8\">\\n<meta http-equiv=\"X-UA-Compatible\" content=\"IE=edge\">\\n<meta name=\"viewport\" content=\"width=device-width, initial-scale=1\">\\n<link rel=\"shortcut icon\" href=\"https://cher-is.com/wp-content/uploads/2019/07/P7rY9KSJ6EE.jpg\" />\\n<link rel=\"pingback\" href=\"https://cher-is.com/xmlrpc.php\">\\n<title>Известная нейросеть составила образы Череповца и Вологды | Череповецкая истина</title>\\n\\n<meta name=\"keywords\" content=\"midjourney,нейросеть,Череповец,Все новости,Главные,Искусство,Новости,Общество,Слайдер\" />\\n<link rel=\"canonical\" href=\"https://cher-is.com/izvestnaya-nejroset-sostavila-obrazy-cherepovtsa-i-vologdy/\" />\\n\\n<link rel=\\'dns-prefetch\\' href=\\'//fonts.googleapis.com\\' />\\n<link rel=\\'dns-prefetch\\' href=\\'//s.w.org\\' />\\n<link rel=\"alternate\" type=\"application/rss+xml\" title=\"Череповецкая истина &raquo; Лента\" href=\"https://cher-is.com/feed/\" />\\n<link rel=\"alternate\" type=\"application/rss+xml\" title=\"Череповецкая истина &raquo; Лента комментариев\" href=\"https://cher-is.com/comments/feed/\" />\\n<link rel=\"alternate\" type=\"application/rss+xml\" title=\"Череповецкая истина &raquo; Лента комментариев к &laquo;Известная нейросеть составила образы Череповца и Вологды&raquo;\" href=\"https://cher-is.com/izvestnaya-nejroset-sostavila-obrazy-cherepovtsa-i-vologdy/feed/\" />\\n<script type=\"text/javascript\">\\n\\t\\t\\t\\'use strict\\';\\n\\t\\t\\t(function (w) {\\n\\t\\t\\t\\tvar darx = {};\\n\\n\\t\\t\\t\\tdarx.addEvent = function (elem, event, fn) {\\n\\t\\t\\t\\t\\tif (elem.addEventListener) {\\n\\t\\t\\t\\t\\t\\telem.addEventListener(event, fn, false);\\n\\t\\t\\t\\t\\t} else {\\n\\t\\t\\t\\t\\t\\telem.attachEvent(\\'on\\' + event, function () {\\n\\t\\t\\t\\t\\t\\t\\treturn (fn.call(elem, window.event));\\n\\t\\t\\t\\t\\t\\t});\\n\\t\\t\\t\\t\\t}\\n\\t\\t\\t\\t};\\n\\n\\t\\t\\t\\tdarx.fireEvent = function (elem, event) {\\n\\t\\t\\t\\t\\tvar evt = elem.createEvent(\\'Event\\');\\n\\t\\t\\t\\t\\tevt.initEvent(event, true, true);\\n\\t\\t\\t\\t\\telem.dispatchEvent(evt);\\n\\t\\t\\t\\t};\\n\\n\\t\\t\\t\\tdarx.get = function (url, data, callback) {\\n\\t\\t\\t\\t\\tsendRequest(\\'GET\\', url, data, callback);\\n\\t\\t\\t\\t};\\n\\n\\t\\t\\t\\tdarx.post = function (url, data, callback) {\\n\\t\\t\\t\\t\\tsendRequest(\\'POST\\', url, data, callback);\\n\\t\\t\\t\\t};\\n\\n\\t\\t\\t\\tdarx.getJSON = function (url, data, callback) {\\n\\t\\t\\t\\t\\tvar callbackName = \\'darx_jsonp_\\' + Math.round(1000000000 * Math.random());\\n\\t\\t\\t\\t\\twindow[callbackName] = function(data) {\\n\\t\\t\\t\\t\\t\\tdelete window[callbackName];\\n\\t\\t\\t\\t\\t\\tdocument.body.removeChild(script);\\n\\t\\t\\t\\t\\t\\tcallback(data);\\n\\t\\t\\t\\t\\t};\\n\\t\\t\\t\\t\\t\\n\\t\\t\\t\\t\\t\\n\\t\\t\\t\\t\\tvar script = document.createElement(\\'script\\');\\n\\t\\t\\t\\t\\tscript.type = \"text/javascript\";\\n\\t\\t\\t\\t\\tscript.async = true;\\n\\t\\t\\t\\t\\tdata.callback = callbackName;\\n\\t\\t\\t\\t\\tscript.src = url + \\'?\\' + http_build_query(data);\\n\\t\\t\\t\\t\\tdocument.body.appendChild(script);\\n\\t\\t\\t\\t};\\n\\n\\t\\t\\t\\tvar http_build_query = function (data) {\\n\\t\\t\\t\\t\\tvar params = [];\\n\\t\\t\\t\\t\\tvar type;\\n\\t\\t\\t\\t\\tfor (var key in data){\\n\\t\\t\\t\\t\\t\\tif (data.hasOwnProperty(key)) {\\n\\t\\t\\t\\t\\t\\t\\ttype = Object.prototype.toString.call(data[key]);\\n\\t\\t\\t\\t\\t\\t\\tif (type === \\'[object Array]\\' || type === \\'[object Object]\\') {\\n\\t\\t\\t\\t\\t\\t\\t\\tfor (var i in data[key]) {\\n\\t\\t\\t\\t\\t\\t\\t\\t\\tif (data[key].hasOwnProperty(i)) {\\n\\t\\t\\t\\t\\t\\t\\t\\t\\t\\tparams.push(encodeURIComponent(key) + \\'[]=\\' + encodeURIComponent(data[key][i]));\\n\\t\\t\\t\\t\\t\\t\\t\\t\\t}\\n\\t\\t\\t\\t\\t\\t\\t\\t}\\n\\t\\t\\t\\t\\t\\t\\t} else {\\n\\t\\t\\t\\t\\t\\t\\t\\tparams.push(encodeURIComponent(key) + \\'=\\' + encodeURIComponent(data[key]));\\n\\t\\t\\t\\t\\t\\t\\t}\\n\\t\\t\\t\\t\\t\\t}\\n\\t\\t\\t\\t\\t}\\n\\t\\t\\t\\t\\treturn params.join(\\'&\\');\\n\\t\\t\\t\\t};\\n\\n\\t\\t\\t\\tvar sendRequest = function (method, url, data, callback) {\\n\\t\\t\\t\\t\\tvar xhr = false;\\n\\t\\t\\t\\t\\tvar XMLHttpFactories = [\\n\\t\\t\\t\\t\\t\\tfunction () {return new XMLHttpRequest()},\\n\\t\\t\\t\\t\\t\\tfunction () {return new ActiveXObject(\"Msxml2.XMLHTTP\")},\\n\\t\\t\\t\\t\\t\\tfunction () {return new ActiveXObject(\"Msxml3.XMLHTTP\")},\\n\\t\\t\\t\\t\\t\\tfunction () {return new ActiveXObject(\"Microsoft.XMLHTTP\")}\\n\\t\\t\\t\\t\\t];\\n\\t\\t\\t\\t\\tfor (var i=0; i<XMLHttpFactories.length; ++i) {\\n\\t\\t\\t\\t\\t\\ttry { xhr = XMLHttpFactories[i]() } catch (e) { continue; }\\n\\t\\t\\t\\t\\t\\tbreak;\\n\\t\\t\\t\\t\\t}\\n\\n\\t\\t\\t\\t\\tif (!xhr) return;\\n\\n\\t\\t\\t\\t\\tif (method === \\'GET\\')  {\\n\\t\\t\\t\\t\\t\\tdata.r = Math.random();\\n\\t\\t\\t\\t\\t\\turl += \\'?\\' + http_build_query(data);\\n\\t\\t\\t\\t\\t}\\n\\n\\t\\t\\t\\t\\txhr.open(method, url, true);\\n\\t\\t\\t\\t\\txhr.setRequestHeader(\"X-Requested-With\", \"XMLHttpRequest\");\\n\\t\\t\\t\\t\\txhr.timeout = 5000;\\n\\n\\t\\t\\t\\t\\tif (callback) {\\n\\t\\t\\t\\t\\t\\txhr.loaded = xhr.onreadystatechange = function () {\\n\\t\\t\\t\\t\\t\\t\\tif (xhr.readyState !== 4) return;\\n\\t\\t\\t\\t\\t\\t\\tcallback(xhr.responseText, xhr);\\n\\t\\t\\t\\t\\t\\t}\\n\\t\\t\\t\\t\\t}\\n\\n\\t\\t\\t\\t\\tif (method !== \\'GET\\')  {\\n\\t\\t\\t\\t\\t\\txhr.setRequestHeader(\"Content-type\", \"application/x-www-form-urlencoded\");\\n\\t\\t\\t\\t\\t\\txhr.send(http_build_query(data));\\n\\t\\t\\t\\t\\t} else {\\n\\t\\t\\t\\t\\t\\txhr.send(null);\\n\\t\\t\\t\\t\\t}\\n\\t\\t\\t\\t};\\n\\n\\t\\t\\t\\tw.darx = darx;\\n\\t\\t\\t}(window));\\n\\t\\t</script>\\n<script type=\"text/javascript\">\\n\\t\\t\\twindow._wpemojiSettings = {\"baseUrl\":\"https:\\\\/\\\\/s.w.org\\\\/images\\\\/core\\\\/emoji\\\\/13.0.1\\\\/72x72\\\\/\",\"ext\":\".png\",\"svgUrl\":\"https:\\\\/\\\\/s.w.org\\\\/images\\\\/core\\\\/emoji\\\\/13.0.1\\\\/svg\\\\/\",\"svgExt\":\".svg\",\"source\":{\"concatemoji\":\"https:\\\\/\\\\/cher-is.com\\\\/wp-includes\\\\/js\\\\/wp-emoji-release.min.js?ver=5.6.8\"}};\\n\\t\\t\\t!function(e,a,t){var n,r,o,i=a.createElement(\"canvas\"),p=i.getContext&&i.getContext(\"2d\");function s(e,t){var a=String.fromCharCode;p.clearRect(0,0,i.width,i.height),p.fillText(a.apply(this,e),0,0);e=i.toDataURL();return p.clearRect(0,0,i.width,i.height),p.fillText(a.apply(this,t),0,0),e===i.toDataURL()}function c(e){var t=a.createElement(\"script\");t.src=e,t.defer=t.type=\"text/javascript\",a.getElementsByTagName(\"head\")[0].appendChild(t)}for(o=Array(\"flag\",\"emoji\"),t.supports={everything:!0,everythingExceptFlag:!0},r=0;r<o.length;r++)t.supports[o[r]]=function(e){if(!p||!p.fillText)return!1;switch(p.textBaseline=\"top\",p.font=\"600 32px Arial\",e){case\"flag\":return s([127987,65039,8205,9895,65039],[127987,65039,8203,9895,65039])?!1:!s([55356,56826,55356,56819],[55356,56826,8203,55356,56819])&&!s([55356,57332,56128,56423,56128,56418,56128,56421,56128,56430,56128,56423,56128,56447],[55356,57332,8203,56128,56423,8203,56128,56418,8203,56128,56421,8203,56128,56430,8203,56128,56423,8203,56128,56447]);case\"emoji\":return!s([55357,56424,8205,55356,57212],[55357,56424,8203,55356,57212])}return!1}(o[r]),t.supports.everything=t.supports.everything&&t.supports[o[r]],\"flag\"!==o[r]&&(t.supports.everythingExceptFlag=t.supports.everythingExceptFlag&&t.supports[o[r]]);t.supports.everythingExceptFlag=t.supports.everythingExceptFlag&&!t.supports.flag,t.DOMReady=!1,t.readyCallback=function(){t.DOMReady=!0},t.supports.everything||(n=function(){t.readyCallback()},a.addEventListener?(a.addEventListener(\"DOMContentLoaded\",n,!1),e.addEventListener(\"load\",n,!1)):(e.attachEvent(\"onload\",n),a.attachEvent(\"onreadystatechange\",function(){\"complete\"===a.readyState&&t.readyCallback()})),(n=t.source||{}).concatemoji?c(n.concatemoji):n.wpemoji&&n.twemoji&&(c(n.twemoji),c(n.wpemoji)))}(window,document,window._wpemojiSettings);\\n\\t\\t</script>\\n<style type=\"text/css\">\\nimg.wp-smiley,\\nimg.emoji {\\n\\tdisplay: inline !important;\\n\\tborder: none !important;\\n\\tbox-shadow: none !important;\\n\\theight: 1em !important;\\n\\twidth: 1em !important;\\n\\tmargin: 0 .07em !important;\\n\\tvertical-align: -0.1em !important;\\n\\tbackground: none !important;\\n\\tpadding: 0 !important;\\n}\\n</style>\\n<link rel=\\'stylesheet\\' id=\\'pt-cv-public-style-css\\' href=\\'https://cher-is.com/wp-content/plugins/content-views-query-and-display-post-page/public/assets/css/cv.css?ver=1.9.9.4\\' type=\\'text/css\\' media=\\'all\\' />\\n<link rel=\\'stylesheet\\' id=\\'wp-block-library-css\\' href=\\'https://cher-is.com/wp-includes/css/dist/block-library/style.min.css?ver=5.6.8\\' type=\\'text/css\\' media=\\'all\\' />\\n<link rel=\\'stylesheet\\' id=\\'ajax-load-more-css\\' href=\\'https://cher-is.com/wp-content/plugins/ajax-load-more/core/dist/css/ajax-load-more.min.css?ver=5.6.8\\' type=\\'text/css\\' media=\\'all\\' />\\n<link rel=\\'stylesheet\\' id=\\'s_pdf_styles-css\\' href=\\'https://cher-is.com/wp-content/plugins/simple-pdf-viewer/css/style.css?ver=5.6.8\\' type=\\'text/css\\' media=\\'all\\' />\\n<link rel=\\'stylesheet\\' id=\\'appointment-style-css\\' href=\\'https://cher-is.com/wp-content/themes/appointment/style.css?ver=5.6.8\\' type=\\'text/css\\' media=\\'all\\' />\\n<link rel=\\'stylesheet\\' id=\\'appointment-bootstrap-css-css\\' href=\\'https://cher-is.com/wp-content/themes/appointment/css/bootstrap.css?ver=5.6.8\\' type=\\'text/css\\' media=\\'all\\' />\\n<link rel=\\'stylesheet\\' id=\\'appointment-default-css\\' href=\\'https://cher-is.com/wp-content/themes/appointment/css/default.css?ver=5.6.8\\' type=\\'text/css\\' media=\\'all\\' />\\n<link rel=\\'stylesheet\\' id=\\'appointment-menu-css-css\\' href=\\'https://cher-is.com/wp-content/themes/appointment/css/theme-menu.css?ver=5.6.8\\' type=\\'text/css\\' media=\\'all\\' />\\n<link rel=\\'stylesheet\\' id=\\'appointment-element-css-css\\' href=\\'https://cher-is.com/wp-content/themes/appointment/css/element.css?ver=5.6.8\\' type=\\'text/css\\' media=\\'all\\' />\\n<link rel=\\'stylesheet\\' id=\\'appointment-font-awesome-min-css\\' href=\\'https://cher-is.com/wp-content/themes/appointment/css/font-awesome/css/font-awesome.min.css?ver=5.6.8\\' type=\\'text/css\\' media=\\'all\\' />\\n<link rel=\\'stylesheet\\' id=\\'appointment-media-responsive-css-css\\' href=\\'https://cher-is.com/wp-content/themes/appointment/css/media-responsive.css?ver=5.6.8\\' type=\\'text/css\\' media=\\'all\\' />\\n<link rel=\\'stylesheet\\' id=\\'appointment-fonts-css\\' href=\\'//fonts.googleapis.com/css?family=Open+Sans%3A300%2C400%2C600%2C700%2C800%7Citalic%7CCourgette&#038;subset=latin%2Clatin-ext\\' type=\\'text/css\\' media=\\'all\\' />\\n<script type=\\'text/javascript\\' src=\\'https://cher-is.com/wp-includes/js/jquery/jquery.min.js?ver=3.5.1\\' id=\\'jquery-core-js\\'></script>\\n<script type=\\'text/javascript\\' src=\\'https://cher-is.com/wp-includes/js/jquery/jquery-migrate.min.js?ver=3.3.2\\' id=\\'jquery-migrate-js\\'></script>\\n<script type=\\'text/javascript\\' src=\\'https://cher-is.com/wp-content/plugins/simple-pdf-viewer/js/main.js?ver=5.6.8\\' id=\\'s_pdf_scripts-js\\'></script>\\n<script type=\\'text/javascript\\' src=\\'https://cher-is.com/wp-content/themes/appointment/js/bootstrap.min.js?ver=5.6.8\\' id=\\'appointment-bootstrap-js-js\\'></script>\\n<script type=\\'text/javascript\\' src=\\'https://cher-is.com/wp-content/themes/appointment/js/menu/menu.js?ver=5.6.8\\' id=\\'appointment-menu-js-js\\'></script>\\n<script type=\\'text/javascript\\' src=\\'https://cher-is.com/wp-content/themes/appointment/js/page-scroll.js?ver=5.6.8\\' id=\\'appointment-page-scroll-js-js\\'></script>\\n<script type=\\'text/javascript\\' src=\\'https://cher-is.com/wp-content/themes/appointment/js/carousel.js?ver=5.6.8\\' id=\\'appointment-carousel-js-js\\'></script>\\n<link rel=\"https://api.w.org/\" href=\"https://cher-is.com/wp-json/\" /><link rel=\"alternate\" type=\"application/json\" href=\"https://cher-is.com/wp-json/wp/v2/posts/48413\" /><link rel=\"EditURI\" type=\"application/rsd+xml\" title=\"RSD\" href=\"https://cher-is.com/xmlrpc.php?rsd\" />\\n<link rel=\"wlwmanifest\" type=\"application/wlwmanifest+xml\" href=\"https://cher-is.com/wp-includes/wlwmanifest.xml\" />\\n<meta name=\"generator\" content=\"WordPress 5.6.8\" />\\n<link rel=\\'shortlink\\' href=\\'https://cher-is.com/?p=48413\\' />\\n<link rel=\"alternate\" type=\"application/json+oembed\" href=\"https://cher-is.com/wp-json/oembed/1.0/embed?url=https%3A%2F%2Fcher-is.com%2Fizvestnaya-nejroset-sostavila-obrazy-cherepovtsa-i-vologdy%2F\" />\\n<link rel=\"alternate\" type=\"text/xml+oembed\" href=\"https://cher-is.com/wp-json/oembed/1.0/embed?url=https%3A%2F%2Fcher-is.com%2Fizvestnaya-nejroset-sostavila-obrazy-cherepovtsa-i-vologdy%2F&#038;format=xml\" />\\n<link rel=\"icon\" href=\"https://cher-is.com/wp-content/uploads/2019/07/cropped-P7rY9KSJ6EE-32x32.jpg\" sizes=\"32x32\" />\\n<link rel=\"icon\" href=\"https://cher-is.com/wp-content/uploads/2019/07/cropped-P7rY9KSJ6EE-192x192.jpg\" sizes=\"192x192\" />\\n<link rel=\"apple-touch-icon\" href=\"https://cher-is.com/wp-content/uploads/2019/07/cropped-P7rY9KSJ6EE-180x180.jpg\" />\\n<meta name=\"msapplication-TileImage\" content=\"https://cher-is.com/wp-content/uploads/2019/07/cropped-P7rY9KSJ6EE-270x270.jpg\" />\\n<style>button#responsive-menu-button,\\n#responsive-menu-container {\\n    display: none;\\n    -webkit-text-size-adjust: 100%;\\n}\\n\\n@media screen and (max-width:8000px) {\\n\\n    #responsive-menu-container {\\n        display: block;\\n    }\\n\\n    #responsive-menu-container {\\n        position: fixed;\\n        top: 0;\\n        bottom: 0;\\n        z-index: 99998;\\n        padding-bottom: 5px;\\n        margin-bottom: -5px;\\n        outline: 1px solid transparent;\\n        overflow-y: auto;\\n        overflow-x: hidden;\\n    }\\n\\n    #responsive-menu-container .responsive-menu-search-box {\\n        width: 100%;\\n        padding: 0 2%;\\n        border-radius: 2px;\\n        height: 50px;\\n        -webkit-appearance: none;\\n    }\\n\\n    #responsive-menu-container.push-left,\\n    #responsive-menu-container.slide-left {\\n        transform: translateX(-100%);\\n        -ms-transform: translateX(-100%);\\n        -webkit-transform: translateX(-100%);\\n        -moz-transform: translateX(-100%);\\n    }\\n\\n    .responsive-menu-open #responsive-menu-container.push-left,\\n    .responsive-menu-open #responsive-menu-container.slide-left {\\n        transform: translateX(0);\\n        -ms-transform: translateX(0);\\n        -webkit-transform: translateX(0);\\n        -moz-transform: translateX(0);\\n    }\\n\\n    #responsive-menu-container.push-top,\\n    #responsive-menu-container.slide-top {\\n        transform: translateY(-100%);\\n        -ms-transform: translateY(-100%);\\n        -webkit-transform: translateY(-100%);\\n        -moz-transform: translateY(-100%);\\n    }\\n\\n    .responsive-menu-open #responsive-menu-container.push-top,\\n    .responsive-menu-open #responsive-menu-container.slide-top {\\n        transform: translateY(0);\\n        -ms-transform: translateY(0);\\n        -webkit-transform: translateY(0);\\n        -moz-transform: translateY(0);\\n    }\\n\\n    #responsive-menu-container.push-right,\\n    #responsive-menu-container.slide-right {\\n        transform: translateX(100%);\\n        -ms-transform: translateX(100%);\\n        -webkit-transform: translateX(100%);\\n        -moz-transform: translateX(100%);\\n    }\\n\\n    .responsive-menu-open #responsive-menu-container.push-right,\\n    .responsive-menu-open #responsive-menu-container.slide-right {\\n        transform: translateX(0);\\n        -ms-transform: translateX(0);\\n        -webkit-transform: translateX(0);\\n        -moz-transform: translateX(0);\\n    }\\n\\n    #responsive-menu-container.push-bottom,\\n    #responsive-menu-container.slide-bottom {\\n        transform: translateY(100%);\\n        -ms-transform: translateY(100%);\\n        -webkit-transform: translateY(100%);\\n        -moz-transform: translateY(100%);\\n    }\\n\\n    .responsive-menu-open #responsive-menu-container.push-bottom,\\n    .responsive-menu-open #responsive-menu-container.slide-bottom {\\n        transform: translateY(0);\\n        -ms-transform: translateY(0);\\n        -webkit-transform: translateY(0);\\n        -moz-transform: translateY(0);\\n    }\\n\\n    #responsive-menu-container,\\n    #responsive-menu-container:before,\\n    #responsive-menu-container:after,\\n    #responsive-menu-container *,\\n    #responsive-menu-container *:before,\\n    #responsive-menu-container *:after {\\n         box-sizing: border-box;\\n         margin: 0;\\n         padding: 0;\\n    }\\n\\n    #responsive-menu-container #responsive-menu-search-box,\\n    #responsive-menu-container #responsive-menu-additional-content,\\n    #responsive-menu-container #responsive-menu-title {\\n        padding: 25px 5%;\\n    }\\n\\n    #responsive-menu-container #responsive-menu,\\n    #responsive-menu-container #responsive-menu ul {\\n        width: 100%;\\n    }\\n    #responsive-menu-container #responsive-menu ul.responsive-menu-submenu {\\n        display: none;\\n    }\\n\\n    #responsive-menu-container #responsive-menu ul.responsive-menu-submenu.responsive-menu-submenu-open {\\n         display: block;\\n    }\\n\\n    #responsive-menu-container #responsive-menu ul.responsive-menu-submenu-depth-1 a.responsive-menu-item-link {\\n        padding-left:10%;\\n    }\\n\\n    #responsive-menu-container #responsive-menu ul.responsive-menu-submenu-depth-2 a.responsive-menu-item-link {\\n        padding-left:15%;\\n    }\\n\\n    #responsive-menu-container #responsive-menu ul.responsive-menu-submenu-depth-3 a.responsive-menu-item-link {\\n        padding-left:20%;\\n    }\\n\\n    #responsive-menu-container #responsive-menu ul.responsive-menu-submenu-depth-4 a.responsive-menu-item-link {\\n        padding-left:25%;\\n    }\\n\\n    #responsive-menu-container #responsive-menu ul.responsive-menu-submenu-depth-5 a.responsive-menu-item-link {\\n        padding-left:30%;\\n    }\\n\\n    #responsive-menu-container li.responsive-menu-item {\\n        width: 100%;\\n        list-style: none;\\n    }\\n\\n    #responsive-menu-container li.responsive-menu-item a {\\n        width: 100%;\\n        display: block;\\n        text-decoration: none;\\n        padding: 05%;\\n        position: relative;\\n    }\\n\\n    #responsive-menu-container li.responsive-menu-item a .fa {\\n        margin-right: 15px;\\n    }\\n\\n    #responsive-menu-container li.responsive-menu-item a .responsive-menu-subarrow {\\n        position: absolute;\\n        top: 0;\\n        bottom: 0;\\n        text-align: center;\\n        overflow: hidden;\\n    }\\n\\n    #responsive-menu-container li.responsive-menu-item a .responsive-menu-subarrow  .fa {\\n        margin-right: 0;\\n    }\\n\\n    button#responsive-menu-button .responsive-menu-button-icon-inactive {\\n        display: none;\\n    }\\n\\n    button#responsive-menu-button {\\n        z-index: 99999;\\n        display: none;\\n        overflow: hidden;\\n        outline: none;\\n    }\\n\\n    button#responsive-menu-button img {\\n        max-width: 100%;\\n    }\\n\\n    .responsive-menu-label {\\n        display: inline-block;\\n        font-weight: 600;\\n        margin: 0 5px;\\n        vertical-align: middle;\\n    }\\n\\n    .responsive-menu-label .responsive-menu-button-text-open {\\n        display: none;\\n    }\\n\\n    .responsive-menu-accessible {\\n        display: inline-block;\\n    }\\n\\n    .responsive-menu-accessible .responsive-menu-box {\\n        display: inline-block;\\n        vertical-align: middle;\\n    }\\n\\n    .responsive-menu-label.responsive-menu-label-top,\\n    .responsive-menu-label.responsive-menu-label-bottom\\n    {\\n        display: block;\\n        margin: 0 auto;\\n    }\\n\\n    button#responsive-menu-button {\\n        padding: 0 0;\\n        display: inline-block;\\n        cursor: pointer;\\n        transition-property: opacity, filter;\\n        transition-duration: 0.15s;\\n        transition-timing-function: linear;\\n        font: inherit;\\n        color: inherit;\\n        text-transform: none;\\n        background-color: transparent;\\n        border: 0;\\n        margin: 0;\\n        overflow: visible;\\n    }\\n\\n    .responsive-menu-box {\\n        width:25px;\\n        height:19px;\\n        display: inline-block;\\n        position: relative;\\n    }\\n\\n    .responsive-menu-inner {\\n        display: block;\\n        top: 50%;\\n        margin-top:-1.5px;\\n    }\\n\\n    .responsive-menu-inner,\\n    .responsive-menu-inner::before,\\n    .responsive-menu-inner::after {\\n         width:25px;\\n         height:3px;\\n         background-color:#fff;\\n         border-radius: 4px;\\n         position: absolute;\\n         transition-property: transform;\\n         transition-duration: 0.15s;\\n         transition-timing-function: ease;\\n    }\\n\\n    .responsive-menu-open .responsive-menu-inner,\\n    .responsive-menu-open .responsive-menu-inner::before,\\n    .responsive-menu-open .responsive-menu-inner::after {\\n        background-color:#fff;\\n    }\\n\\n    button#responsive-menu-button:hover .responsive-menu-inner,\\n    button#responsive-menu-button:hover .responsive-menu-inner::before,\\n    button#responsive-menu-button:hover .responsive-menu-inner::after,\\n    button#responsive-menu-button:hover .responsive-menu-open .responsive-menu-inner,\\n    button#responsive-menu-button:hover .responsive-menu-open .responsive-menu-inner::before,\\n    button#responsive-menu-button:hover .responsive-menu-open .responsive-menu-inner::after,\\n    button#responsive-menu-button:focus .responsive-menu-inner,\\n    button#responsive-menu-button:focus .responsive-menu-inner::before,\\n    button#responsive-menu-button:focus .responsive-menu-inner::after,\\n    button#responsive-menu-button:focus .responsive-menu-open .responsive-menu-inner,\\n    button#responsive-menu-button:focus .responsive-menu-open .responsive-menu-inner::before,\\n    button#responsive-menu-button:focus .responsive-menu-open .responsive-menu-inner::after {\\n        background-color:#fff;\\n    }\\n\\n    .responsive-menu-inner::before,\\n    .responsive-menu-inner::after {\\n         content: \"\";\\n         display: block;\\n    }\\n\\n    .responsive-menu-inner::before {\\n         top:-8px;\\n    }\\n\\n    .responsive-menu-inner::after {\\n         bottom:-8px;\\n    }.responsive-menu-boring .responsive-menu-inner,\\n.responsive-menu-boring .responsive-menu-inner::before,\\n.responsive-menu-boring .responsive-menu-inner::after {\\n    transition-property: none;\\n}\\n\\n.responsive-menu-boring.is-active .responsive-menu-inner {\\n    transform: rotate(45deg);\\n}\\n\\n.responsive-menu-boring.is-active .responsive-menu-inner::before {\\n    top: 0;\\n    opacity: 0;\\n}\\n\\n.responsive-menu-boring.is-active .responsive-menu-inner::after {\\n    bottom: 0;\\n    transform: rotate(-90deg);\\n}\\n    button#responsive-menu-button {\\n        width:55px;\\n        height:55px;\\n        position:fixed;\\n        top:15px;right:5%;            background:#000    }        .responsive-menu-open button#responsive-menu-button {\\n            background:#000\\n        }        .responsive-menu-open button#responsive-menu-button:hover,\\n        .responsive-menu-open button#responsive-menu-button:focus,\\n        button#responsive-menu-button:hover,\\n        button#responsive-menu-button:focus {\\n            background:#000\\n        }\\n    button#responsive-menu-button .responsive-menu-box {\\n        color:#fff;\\n    }\\n\\n    .responsive-menu-open button#responsive-menu-button .responsive-menu-box {\\n        color:#fff;\\n    }\\n\\n    .responsive-menu-label {\\n        color:#fff;\\n        font-size:14px;\\n        line-height:13px;    }\\n\\n    button#responsive-menu-button {\\n        display: inline-block;\\n        transition: transform0.5s, background-color0.5s;\\n    }\\n    #responsive-menu-container {\\n        width:75%;left: 0;\\n        transition: transform0.5s;\\n        text-align:left;            background:#212121;    }\\n\\n    #responsive-menu-container #responsive-menu-wrapper {\\n        background:#212121;\\n    }\\n\\n    #responsive-menu-container #responsive-menu-additional-content {\\n        color:#fff;\\n    }\\n\\n    #responsive-menu-container .responsive-menu-search-box {\\n        background:#fff;\\n        border: 2px solid#dadada;\\n        color:#333;\\n    }\\n\\n    #responsive-menu-container .responsive-menu-search-box:-ms-input-placeholder {\\n        color:#C7C7CD;\\n    }\\n\\n    #responsive-menu-container .responsive-menu-search-box::-webkit-input-placeholder {\\n        color:#C7C7CD;\\n    }\\n\\n    #responsive-menu-container .responsive-menu-search-box:-moz-placeholder {\\n        color:#C7C7CD;\\n        opacity: 1;\\n    }\\n\\n    #responsive-menu-container .responsive-menu-search-box::-moz-placeholder {\\n        color:#C7C7CD;\\n        opacity: 1;\\n    }\\n\\n    #responsive-menu-container .responsive-menu-item-link,\\n    #responsive-menu-container #responsive-menu-title,\\n    #responsive-menu-container .responsive-menu-subarrow {\\n        transition: background-color0.5s, border-color0.5s, color0.5s;\\n    }\\n\\n    #responsive-menu-container #responsive-menu-title {\\n        background-color:#212121;\\n        color:#fff;\\n        font-size:13px;\\n    }\\n\\n    #responsive-menu-container #responsive-menu-title a {\\n        color:#fff;\\n        font-size:13px;\\n        text-decoration: none;\\n    }\\n\\n    #responsive-menu-container #responsive-menu-title a:hover {\\n        color:#fff;\\n    }\\n\\n    #responsive-menu-container #responsive-menu-title:hover {\\n        background-color:#212121;\\n        color:#fff;\\n    }\\n\\n    #responsive-menu-container #responsive-menu-title:hover a {\\n        color:#fff;\\n    }\\n\\n    #responsive-menu-container #responsive-menu-title #responsive-menu-title-image {\\n        display: inline-block;\\n        vertical-align: middle;\\n        margin-right: 15px;\\n    }\\n\\n    #responsive-menu-container #responsive-menu > li.responsive-menu-item:first-child > a {\\n        border-top:1px solid#212121;\\n    }\\n\\n    #responsive-menu-container #responsive-menu li.responsive-menu-item .responsive-menu-item-link {\\n        font-size:13px;\\n    }\\n\\n    #responsive-menu-container #responsive-menu li.responsive-menu-item a {\\n        line-height:40px;\\n        border-bottom:1px solid#212121;\\n        color:#fff;\\n        background-color:#212121;    }\\n\\n    #responsive-menu-container #responsive-menu li.responsive-menu-item a:hover {\\n        color:#fff;\\n        background-color:#3f3f3f;\\n        border-color:#212121;\\n    }\\n\\n    #responsive-menu-container #responsive-menu li.responsive-menu-item a:hover .responsive-menu-subarrow {\\n        color:#fff;\\n        border-color:#3f3f3f;\\n        background-color:#3f3f3f;\\n    }\\n\\n    #responsive-menu-container #responsive-menu li.responsive-menu-item a .responsive-menu-subarrow {right: 0;\\n        height:40px;\\n        line-height:40px;\\n        width:40px;\\n        color:#fff;\\n        border-left:1px solid#212121;\\n        background-color:#212121;\\n    }\\n\\n    #responsive-menu-container #responsive-menu li.responsive-menu-item a .responsive-menu-subarrow.responsive-menu-subarrow-active {\\n        color:#fff;\\n        border-color:#212121;\\n        background-color:#212121;\\n    }\\n\\n    #responsive-menu-container #responsive-menu li.responsive-menu-item a .responsive-menu-subarrow.responsive-menu-subarrow-active:hover {\\n        color:#fff;\\n        border-color:#3f3f3f;\\n        background-color:#3f3f3f;\\n    }\\n\\n    #responsive-menu-container #responsive-menu li.responsive-menu-item a .responsive-menu-subarrow:hover {\\n        color:#fff;\\n        border-color:#3f3f3f;\\n        background-color:#3f3f3f;\\n    }\\n\\n    #responsive-menu-container #responsive-menu li.responsive-menu-current-item > .responsive-menu-item-link {\\n        background-color:#212121;\\n        color:#fff;\\n        border-color:#212121;\\n    }\\n\\n    #responsive-menu-container #responsive-menu li.responsive-menu-current-item > .responsive-menu-item-link:hover {\\n        background-color:#3f3f3f;\\n        color:#fff;\\n        border-color:#3f3f3f;\\n    }}</style><script>jQuery(document).ready(function($) {\\n\\n    var ResponsiveMenu = {\\n        trigger: \\'#responsive-menu-button\\',\\n        animationSpeed:500,\\n        breakpoint:8000,\\n        pushButton: \\'off\\',\\n        animationType: \\'slide\\',\\n        animationSide: \\'left\\',\\n        pageWrapper: \\'\\',\\n        isOpen: false,\\n        triggerTypes: \\'click\\',\\n        activeClass: \\'is-active\\',\\n        container: \\'#responsive-menu-container\\',\\n        openClass: \\'responsive-menu-open\\',\\n        accordion: \\'off\\',\\n        activeArrow: \\'▲\\',\\n        inactiveArrow: \\'▼\\',\\n        wrapper: \\'#responsive-menu-wrapper\\',\\n        closeOnBodyClick: \\'off\\',\\n        closeOnLinkClick: \\'off\\',\\n        itemTriggerSubMenu: \\'off\\',\\n        linkElement: \\'.responsive-menu-item-link\\',\\n        openMenu: function() {\\n            $(this.trigger).addClass(this.activeClass);\\n            $(\\'html\\').addClass(this.openClass);\\n            $(\\'.responsive-menu-button-icon-active\\').hide();\\n            $(\\'.responsive-menu-button-icon-inactive\\').show();\\n            this.setButtonTextOpen();\\n            this.setWrapperTranslate();\\n            this.isOpen = true;\\n        },\\n        closeMenu: function() {\\n            $(this.trigger).removeClass(this.activeClass);\\n            $(\\'html\\').removeClass(this.openClass);\\n            $(\\'.responsive-menu-button-icon-inactive\\').hide();\\n            $(\\'.responsive-menu-button-icon-active\\').show();\\n            this.setButtonText();\\n            this.clearWrapperTranslate();\\n            this.isOpen = false;\\n        },\\n        setButtonText: function() {\\n            if($(\\'.responsive-menu-button-text-open\\').length > 0 && $(\\'.responsive-menu-button-text\\').length > 0) {\\n                $(\\'.responsive-menu-button-text-open\\').hide();\\n                $(\\'.responsive-menu-button-text\\').show();\\n            }\\n        },\\n        setButtonTextOpen: function() {\\n            if($(\\'.responsive-menu-button-text\\').length > 0 && $(\\'.responsive-menu-button-text-open\\').length > 0) {\\n                $(\\'.responsive-menu-button-text\\').hide();\\n                $(\\'.responsive-menu-button-text-open\\').show();\\n            }\\n        },\\n        triggerMenu: function() {\\n            this.isOpen ? this.closeMenu() : this.openMenu();\\n        },\\n        triggerSubArrow: function(subarrow) {\\n            var sub_menu = $(subarrow).parent().siblings(\\'.responsive-menu-submenu\\');\\n            var self = this;\\n            if(this.accordion == \\'on\\') {\\n                /* Get Top Most Parent and the siblings */\\n                var top_siblings = sub_menu.parents(\\'.responsive-menu-item-has-children\\').last().siblings(\\'.responsive-menu-item-has-children\\');\\n                var first_siblings = sub_menu.parents(\\'.responsive-menu-item-has-children\\').first().siblings(\\'.responsive-menu-item-has-children\\');\\n                /* Close up just the top level parents to key the rest as it was */\\n                top_siblings.children(\\'.responsive-menu-submenu\\').slideUp(200, \\'linear\\').removeClass(\\'responsive-menu-submenu-open\\');\\n                /* Set each parent arrow to inactive */\\n                top_siblings.each(function() {\\n                    $(this).find(\\'.responsive-menu-subarrow\\').first().html(self.inactiveArrow);\\n                    $(this).find(\\'.responsive-menu-subarrow\\').first().removeClass(\\'responsive-menu-subarrow-active\\');\\n                });\\n                /* Now Repeat for the current item siblings */\\n                first_siblings.children(\\'.responsive-menu-submenu\\').slideUp(200, \\'linear\\').removeClass(\\'responsive-menu-submenu-open\\');\\n                first_siblings.each(function() {\\n                    $(this).find(\\'.responsive-menu-subarrow\\').first().html(self.inactiveArrow);\\n                    $(this).find(\\'.responsive-menu-subarrow\\').first().removeClass(\\'responsive-menu-subarrow-active\\');\\n                });\\n            }\\n            if(sub_menu.hasClass(\\'responsive-menu-submenu-open\\')) {\\n                sub_menu.slideUp(200, \\'linear\\').removeClass(\\'responsive-menu-submenu-open\\');\\n                $(subarrow).html(this.inactiveArrow);\\n                $(subarrow).removeClass(\\'responsive-menu-subarrow-active\\');\\n            } else {\\n                sub_menu.slideDown(200, \\'linear\\').addClass(\\'responsive-menu-submenu-open\\');\\n                $(subarrow).html(this.activeArrow);\\n                $(subarrow).addClass(\\'responsive-menu-subarrow-active\\');\\n            }\\n        },\\n        menuHeight: function() {\\n            return $(this.container).height();\\n        },\\n        menuWidth: function() {\\n            return $(this.container).width();\\n        },\\n        wrapperHeight: function() {\\n            return $(this.wrapper).height();\\n        },\\n        setWrapperTranslate: function() {\\n            switch(this.animationSide) {\\n                case \\'left\\':\\n                    translate = \\'translateX(\\' + this.menuWidth() + \\'px)\\'; break;\\n                case \\'right\\':\\n                    translate = \\'translateX(-\\' + this.menuWidth() + \\'px)\\'; break;\\n                case \\'top\\':\\n                    translate = \\'translateY(\\' + this.wrapperHeight() + \\'px)\\'; break;\\n                case \\'bottom\\':\\n                    translate = \\'translateY(-\\' + this.menuHeight() + \\'px)\\'; break;\\n            }\\n            if(this.animationType == \\'push\\') {\\n                $(this.pageWrapper).css({\\'transform\\':translate});\\n                $(\\'html, body\\').css(\\'overflow-x\\', \\'hidden\\');\\n            }\\n            if(this.pushButton == \\'on\\') {\\n                $(\\'#responsive-menu-button\\').css({\\'transform\\':translate});\\n            }\\n        },\\n        clearWrapperTranslate: function() {\\n            var self = this;\\n            if(this.animationType == \\'push\\') {\\n                $(this.pageWrapper).css({\\'transform\\':\\'\\'});\\n                setTimeout(function() {\\n                    $(\\'html, body\\').css(\\'overflow-x\\', \\'\\');\\n                }, self.animationSpeed);\\n            }\\n            if(this.pushButton == \\'on\\') {\\n                $(\\'#responsive-menu-button\\').css({\\'transform\\':\\'\\'});\\n            }\\n        },\\n        init: function() {\\n            var self = this;\\n            $(this.trigger).on(this.triggerTypes, function(e){\\n                e.stopPropagation();\\n                self.triggerMenu();\\n            });\\n            $(this.trigger).mouseup(function(){\\n                $(self.trigger).blur();\\n            });\\n            $(\\'.responsive-menu-subarrow\\').on(\\'click\\', function(e) {\\n                e.preventDefault();\\n                e.stopPropagation();\\n                self.triggerSubArrow(this);\\n            });\\n            $(window).resize(function() {\\n                if($(window).width() > self.breakpoint) {\\n                    if(self.isOpen){\\n                        self.closeMenu();\\n                    }\\n                } else {\\n                    if($(\\'.responsive-menu-open\\').length>0){\\n                        self.setWrapperTranslate();\\n                    }\\n                }\\n            });\\n            if(this.closeOnLinkClick == \\'on\\') {\\n                $(this.linkElement).on(\\'click\\', function(e) {\\n                    e.preventDefault();\\n                    /* Fix for when close menu on parent clicks is on */\\n                    if(self.itemTriggerSubMenu == \\'on\\' && $(this).is(\\'.responsive-menu-item-has-children > \\' + self.linkElement)) {\\n                        return;\\n                    }\\n                    old_href = $(this).attr(\\'href\\');\\n                    old_target = typeof $(this).attr(\\'target\\') == \\'undefined\\' ? \\'_self\\' : $(this).attr(\\'target\\');\\n                    if(self.isOpen) {\\n                        if($(e.target).closest(\\'.responsive-menu-subarrow\\').length) {\\n                            return;\\n                        }\\n                        self.closeMenu();\\n                        setTimeout(function() {\\n                            window.open(old_href, old_target);\\n                        }, self.animationSpeed);\\n                    }\\n                });\\n            }\\n            if(this.closeOnBodyClick == \\'on\\') {\\n                $(document).on(\\'click\\', \\'body\\', function(e) {\\n                    if(self.isOpen) {\\n                        if($(e.target).closest(\\'#responsive-menu-container\\').length || $(e.target).closest(\\'#responsive-menu-button\\').length) {\\n                            return;\\n                        }\\n                    }\\n                    self.closeMenu();\\n                });\\n            }\\n            if(this.itemTriggerSubMenu == \\'on\\') {\\n                $(\\'.responsive-menu-item-has-children > \\' + this.linkElement).on(\\'click\\', function(e) {\\n                    e.preventDefault();\\n                    self.triggerSubArrow($(this).children(\\'.responsive-menu-subarrow\\').first());\\n                });\\n            }\\n        }\\n    };\\n    ResponsiveMenu.init();\\n});</script><meta property=\"vk:app_id\" content=\"6248716\" />\\n<meta name=\"yandex-verification\" content=\"a3140c88598ce8e5\" />\\n <script type=\"text/javascript\"> (function (d, w, c) { (w[c] = w[c] || []).push(function() { try { w.yaCounter46841331 = new Ya.Metrika({ id:46841331, clickmap:true, trackLinks:true, accurateTrackBounce:true, webvisor:true }); } catch(e) { } }); var n = d.getElementsByTagName(\"script\")[0], s = d.createElement(\"script\"), f = function () { n.parentNode.insertBefore(s, n); }; s.type = \"text/javascript\"; s.async = true; s.src = \"https://mc.yandex.ru/metrika/watch.js\"; if (w.opera == \"[object Opera]\") { d.addEventListener(\"DOMContentLoaded\", f, false); } else { f(); } })(document, window, \"yandex_metrika_callbacks\"); </script> <noscript><div><img src=\"https://mc.yandex.ru/watch/46841331\" style=\"position:absolute; left:-9999px;\" alt=\"\" /></div></noscript> \\n</head>\\n<body class=\"post-template-default single single-post postid-48413 single-format-standard responsive-menu-slide-left\">\\n\\n\\n<div class=\"container\">\\n\\n<div class=\"navbar-header\">\\n<h1><a class=\"navbar-brand\" href=\"https://cher-is.com/\">\\n<img class=\"img-responsive\" src=\"/wp-content/uploads/2017/09/Logotip.png\" style=\"width: 260px; height: 72px;\" />\\n</a></h1>\\n<button type=\"button\" class=\"navbar-toggle collapsed\" data-toggle=\"collapse\" data-target=\"#bs-example-navbar-collapse-1\">\\n<span class=\"sr-only\">Toggle navigation</span>\\n<span class=\"icon-bar\"></span>\\n<span class=\"icon-bar\"></span>\\n<span class=\"icon-bar\"></span>\\n</button>\\n</div>\\n<div class=\"col-sm-4\">\\n<form class=\"form-horizontal podpform\" action=\"https://feedburner.google.com/fb/a/mailverify\" method=\"post\" target=\"popupwindow\" onsubmit=\"window.open(\\'https://feedburner.google.com/fb/a/mailverify?uri=cher-is/feed\\', \\'popupwindow\\', \\'scrollbars=yes,width=550,height=520\\');return true\">\\n<div class=\"form-group\">\\n<lable class=\"podplabel\">ОФОРМИТЬ ПОДПИСКУ</lable>\\n<input type=\"text\" class=\"podptext\" placeholder=\"E-mail...\" name=\"email\" /><input type=\"hidden\" value=\"cher-is/feed\" name=\"uri\" /><input type=\"hidden\" name=\"loc\" value=\"ru_RU\" /><button style=\"border: none;height: 25px;\"><i class=\"fa fa-paper-plane\" aria-hidden=\"true\" style=\"font-size: 16px;color: red;\"></i></button>\\n<lable class=\"podpbut\"></lable>\\n</div>\\n</form>\\n</div>\\n<div class=\"col-sm-4 icon_facebook_vk_telegram\">\\n |\\n<a href=\"https://vk.com/cherepistina\"><i class=\"fa fa-vk \" aria-hidden=\"true\" style=\"color: gray;\"></i></a> &nbsp;|&nbsp;\\n<a href=\"https://t.me/cherepistina\"><i class=\"fa fa-telegram\" aria-hidden=\"true\" style=\"color: gray;\"></i></a>\\n</div>\\n</div>\\n<div class=\" container_menu_top\">\\n<div class=\"container\">\\n<ul class=\"nav navbar-nav \">\\n<div class=\"menu-menu-1-container\"><ul id=\"menu-menu-1\" class=\"menu\"><li id=\"menu-item-2876\" class=\"menu-item menu-item-type-taxonomy menu-item-object-category menu-item-2876\"><a href=\"https://cher-is.com/category/zhkh/\">ЖКХ</a></li>\\n<li id=\"menu-item-2877\" class=\"menu-item menu-item-type-taxonomy menu-item-object-category menu-item-2877\"><a href=\"https://cher-is.com/category/kul-tura/\">Культура</a></li>\\n<li id=\"menu-item-2878\" class=\"menu-item menu-item-type-taxonomy menu-item-object-category current-post-ancestor current-menu-parent current-post-parent menu-item-2878\"><a href=\"https://cher-is.com/category/obshhestvo/\">Общество</a></li>\\n<li id=\"menu-item-2879\" class=\"menu-item menu-item-type-taxonomy menu-item-object-category menu-item-2879\"><a href=\"https://cher-is.com/category/politika/\">Политика</a></li>\\n<li id=\"menu-item-2880\" class=\"menu-item menu-item-type-taxonomy menu-item-object-category menu-item-2880\"><a href=\"https://cher-is.com/category/proisshestviya/\">Происшествия</a></li>\\n<li id=\"menu-item-2881\" class=\"menu-item menu-item-type-taxonomy menu-item-object-category menu-item-2881\"><a href=\"https://cher-is.com/category/sport/\">Спорт</a></li>\\n</ul></div>\\n<li class=\"navbar-collapse parth_menu_search\">\\n<div class=\"searchdiv\">\\n<form>\\n<form action=\"https://cher-is.com/\" method=\"get\">\\n<input type=\"text\" class=\"parth_menu_search\" name=\"s\" id=\"s\" placeholder=\"Поиск\"><i class=\"fa fa-search\" aria-hidden=\"true\"></i>\\n</form>\\n\\n</form>\\n</div>\\n</li>\\n</ul>\\n</div>\\n</div>\\n<div class=\"collapse navbar-collapse\" id=\"bs-example-navbar-collapse-1\">\\n</div>\\n\\n\\n\\n<div class=\"clearfix\"></div>\\n<div class=\"page-title-section\">\\n<div class=\"overlay\">\\n<div class=\"container\">\\n<div class=\"row\">\\n<div class=\"col-md-6\">\\n<div class=\"page-title\"><h1>Известная нейросеть составила образы Череповца и Вологды</h1></div>\\n</div>\\n<div class=\"col-md-6\">\\n<ul class=\"page-breadcrumb\">\\n<li><a href=\"https://cher-is.com\">Главная</a> &nbsp &#47; &nbsp<a href=\"https://cher-is.com/category/vse-novosti/\">Все новости</a> &nbsp &#47; &nbsp<li class=\"active\">Известная нейросеть составила образы Череповца и Вологды</li></li> </ul>\\n</div>\\n</div>\\n</div>\\n</div>\\n</div>\\n\\n<div class=\"clearfix\"></div>\\n<div class=\"page-builder\">\\n<div class=\"container\">\\n<div class=\"row\">\\n\\n<div class=\"col-md-8\">\\n<div id=\"post-48413\" class=\"blog-lg-area-left post-48413 post type-post status-publish format-standard has-post-thumbnail hentry category-vse-novosti category-glavny-e category-iskusstvo category-novosti category-obshhestvo category-slajder tag-midjourney tag-nejroset tag-cherepovets\">\\n<div class=\"media\">\\n\\n<aside class=\"blog-post-date-area\">\\n<div class=\"date\">21 <div class=\"month-year\">Фев,2023</div></div>\\n<div class=\"comment\"><a href=\"https://cher-is.com/izvestnaya-nejroset-sostavila-obrazy-cherepovtsa-i-vologdy/\"><i class=\"fa fa-comments\"></i>0</a></div>\\n</aside>\\n<div class=\"media-body\">\\n<div class=\"blog-lg-box\">\\n<a class=\"img-responsive\" href=\"https://cher-is.com/izvestnaya-nejroset-sostavila-obrazy-cherepovtsa-i-vologdy/\" title=\"Известная нейросеть составила образы Череповца и Вологды\">\\n<img width=\"264\" height=\"408\" src=\"https://cher-is.com/wp-content/uploads/2023/02/cherepovets.png\" class=\"img-responsive wp-post-image\" alt=\"\" loading=\"lazy\" srcset=\"https://cher-is.com/wp-content/uploads/2023/02/cherepovets.png 264w, https://cher-is.com/wp-content/uploads/2023/02/cherepovets-194x300.png 194w\" sizes=\"(max-width: 264px) 100vw, 264px\" />\\n</div>\\n<div class=\"blog-post-lg\">\\n<a href=\"https://cher-is.com/author/admin/\"><img alt=\\'\\' src=\\'https://secure.gravatar.com/avatar/12d14aad72f86a5c2271b4922c91b55f?s=40&#038;d=mm&#038;r=g\\' srcset=\\'https://secure.gravatar.com/avatar/12d14aad72f86a5c2271b4922c91b55f?s=80&#038;d=mm&#038;r=g 2x\\' class=\\'img-responsive img-circle avatar-40 photo\\' height=\\'40\\' width=\\'40\\' loading=\\'lazy\\' /></a>\\nАвтор:<a href=\"https://cher-is.com/author/admin/\">ЧИ</a>\\n<div class=\"blog-tags-lg\"><i class=\"fa fa-tags\"></i><a href=\"https://cher-is.com/tag/midjourney/\" rel=\"tag\">Midjourney</a>, <a href=\"https://cher-is.com/tag/nejroset/\" rel=\"tag\">нейросеть</a>, <a href=\"https://cher-is.com/tag/cherepovets/\" rel=\"tag\">Череповец</a></div>\\n</div>\\n<h3><a href=\"https://cher-is.com/izvestnaya-nejroset-sostavila-obrazy-cherepovtsa-i-vologdy/\" class=\"entry-title\">Известная нейросеть составила образы Череповца и Вологды</a></h3>\\n<p>Нейросеть Midjourney изобразила города России в образах, и получились герои для мрачных сказок.</p>\\n<p>На этот раз автор телеграм-канала «Нейросеть видит» сформировал запрос в Midjourney так, чтобы нейросеть показала российские города в человеческих обличьях. Например, две столицы, Москва и Санкт-Петербург, выглядят как модная пара. Девушка — в стильном кокошнике, а парень с уложенными бородой и усами.</p>\\n<p>Череповец изображён в виде монаха, а Вологда &#8212; знатной женщины.</p>\\n<p>&nbsp;</p>\\n</div>\\n</div>\\n</div>\\n<font style=\"color:gray\">Дата:</font><font style=\"color:#0e3056;font-weight:bold\">\\n<a href=\"https://cher-is.com/2023/02/\">\\n21.02.2023</a>\\n</font>\\n<div id=\"comments\">\\n<input type=\"hidden\" id=\"comments_post_id\" value=\"48413\" />\\n<div id=\\'vk-comments\\' style=\\'max-width:900px\\'>\\n<div id=\\'vk-comments-widget\\'></div>\\n<script type=\\'text/javascript\\'>\\n\\t\\t\\t\\t\\t(function(){\\n\\t\\t\\t\\t\\t\\tdarx.addEvent(document, \\'vk\\', function(){\\n\\t\\t                    VK.Widgets.Comments(\\n\\t\\t                        \\'vk-comments-widget\\', {\\n\\t\\t                            width: 0,\\n\\t\\t                            height: 0,\\n\\t\\t                            limit: 15,\\n\\t\\t                            attach: \\'graffiti,photo,audio,video,link\\',\\n\\t\\t                            autoPublish: 1,\\n\\t\\t                            mini: 1,\\n\\t\\t                            pageUrl: \\'https://cher-is.com/izvestnaya-nejroset-sostavila-obrazy-cherepovtsa-i-vologdy/\\'\\n\\t\\t                        }, 48413);\\n\\t\\t\\t\\t\\t\\t});\\n\\t\\t\\t\\t\\t\\tvar data = {\\n\\t\\t\\t\\t\\t\\t\\tv: 5.52,\\n\\t\\t\\t\\t\\t\\t\\twidget_api_id: 6248716,\\n\\t\\t\\t\\t\\t\\t\\tpage_id: 48413,\\n\\t\\t\\t\\t\\t\\t\\turl: \\'https://cher-is.com/izvestnaya-nejroset-sostavila-obrazy-cherepovtsa-i-vologdy/\\'\\n\\t\\t\\t\\t\\t\\t};\\n\\t\\t\\t\\t\\t\\tdarx.getJSON(\\'https://api.vk.com/method/widgets.getComments\\', data, function (r) {\\n\\t\\t\\t\\t\\t\\t\\tdocument.getElementById(\\'vkapi_comm_vk_count\\').innerHTML = r.response.count;\\n\\t\\t\\t\\t\\t\\t});\\n\\t\\t\\t\\t\\t})();\\n\\t\\t\\t\\t</script>\\n</div>\\n</div>\\n<span class=\"post-navigation hidden\">&laquo; <a href=\"https://cher-is.com/chto-skazhet-putin/\" rel=\"prev\">Что скажет Путин?</a> | <a href=\"https://cher-is.com/idyot-pryamaya-translyatsiya-poslaniya-prezidenta-putina-federal-nomu-sobraniyu/\" rel=\"next\">Идёт прямая трансляция послания президента Путина Федеральному Собранию</a> &raquo;</span>\\n<span id=\"vkapi_comm_vk_count\" class=\"hidden\"></span>\\n</div>\\n\\n\\n<div class=\"col-md-4\">\\n<div class=\"sidebar-section-right\">\\n<div class=\"sidebar-widget\"><div class=\"sidebar-widget-title\"><h3></h3></div><div id=\"vkapi_community-3_wrapper\">\\n<script type=\"text/javascript\"> \\n \\t\\t\\t\\tdarx.addEvent(document, \\'vk\\', function() {\\nVK.Widgets.Group(\\'vkapi_community-3_wrapper\\', {mode: 2, width: 350, height: 450}, 33086750);\\n\\t\\t    \\t});\\n\\t\\t</script></div></div>\\n<div class=\"sidebar-widget\">\\n<div class=\"sidebar-widget-title\"><h3>Свежие записи</h3></div>\\n<ul>\\n<li>\\n<a href=\"https://cher-is.com/zhizn-nalazhivaetsya-aleksej-mordashov-popravil-finansovoe-sostoyanie/\">«Жизнь налаживается»: Алексей Мордашов поправил финансовое состояние</a>\\n</li>\\n<li>\\n<a href=\"https://cher-is.com/v-rossii-hotyat-sokratit-kolichestvo-chinovnikov-i-silovikov/\">В России хотят сократить количество чиновников и силовиков</a>\\n</li>\\n<li>\\n<a href=\"https://cher-is.com/u-ledovogo-dvortsa-poyavitsya-pristrojka/\">У Ледового Дворца появится пристройка</a>\\n</li>\\n<li>\\n<a href=\"https://cher-is.com/v-cherepovetskih-shkolah-vozobnovili-obrabotku-ot-koronavirusa/\">В череповецких школах возобновили обработку от коронавируса</a>\\n</li>\\n<li>\\n<a href=\"https://cher-is.com/russkij-yazy-k-reshili-zashhitit-ot-inostranny-h-zaimstvovanij/\">Русский язык решили защитить от иностранных заимствований</a>\\n</li>\\n<li>\\n<a href=\"https://cher-is.com/v-teplichnom-komplekse-tonshalovskij-raspustilis-800-ty-syach-tyul-panov/\">В тепличном комплексе &#171;Тоншаловский&#187; распустились 800 тысяч тюльпанов</a>\\n</li>\\n<li>\\n<a href=\"https://cher-is.com/v-zshk-poyavyatsya-dve-pyatie-tazhny-e-parkovki-2/\">В ЗШК появятся две пятиэтажные парковки</a>\\n</li>\\n<li>\\n<a href=\"https://cher-is.com/v-zshk-poyavyatsya-dve-pyatie-tazhny-e-parkovki/\">В ЗШК появятся две пятиэтажные парковки</a>\\n</li>\\n<li>\\n<a href=\"https://cher-is.com/gubernator-poblagodaril-komandira-ruhnuvshego-vertoleta/\">Губернатор поблагодарил командира рухнувшего вертолета</a>\\n</li>\\n<li>\\n<a href=\"https://cher-is.com/cherepovchanin-poluchil-blagodarnost-prigozhina-za-snaryady/\">Череповчанин получил благодарность Пригожина за снаряды</a>\\n</li>\\n</ul>\\n</div></div>\\n</div>\\n\\n</div>\\n</div>\\n</div>\\n\\n\\n<div class=\"clearfix\"></div>\\n</div>\\n</div>\\n</div>\\n<div class=\" row-bottom\">\\n<div class=\"container\">\\n<div class=\"col-sm-9 \">\\n<div id=\"true-foot1\" class=\"sidebar\">\\n<div id=\"custom_html-9\" class=\"widget_text foot widget widget_custom_html\"><div class=\"textwidget custom-html-widget\"><ul class=\"nav navbar-nav \">\\n<div class=\"menu-menu-1-container\"><ul id=\"menu-menu-2\" class=\"menu\">\\n<li id=\"menu-item-2877\" class=\"menu-item2 menu-item-type-taxonomy menu-item-object-category menu-item-2877\"><a href=\"/\" style=\"color:white;font-weight:bold\">ГЛАВНАЯ</a></li>\\n<li id=\"menu-item-2878\" class=\"menu-item2 menu-item-type-taxonomy menu-item-object-category menu-item-2878\"><a href=\"/arhiv-vy-puskov/\" style=\"color:white;font-weight:bold\">АРХИВ ВЫПУСКОВ</a></li>\\n<li id=\"menu-item-2879\" class=\"menu-item2 menu-item-type-taxonomy menu-item-object-category menu-item-2879\"><a href=\"/o-gazete/\" style=\"color:white;font-weight:bold\">О ГАЗЕТЕ</a></li>\\n<li id=\"menu-item-2880\" class=\"menu-item2 menu-item-type-taxonomy menu-item-object-category menu-item-2880\"><a href=\"/kontakty/\" style=\"color:white;font-weight:bold\">КОНТАКТЫ</a>\\n</li>\\n</ul></div>\\n</ul></div></div> </div>\\n</div>\\n<div class=\"col-sm-3\">\\n<div id=\"true-foot2\" class=\"sidebar\">\\n<div id=\"text-3\" class=\"foot widget widget_text\"> <div class=\"textwidget\"></div>\\n</div> </div>\\n</div>\\n<div class=\"clearfix\"></div>\\n<p style=\"color: white;\">©2009-2017 Все права защищены. При использовании материалов - ссылка на сайт обязательна</p>\\n</div>\\n</div>\\n<a href=\"#\" class=\"hc_scrollup\"><i class=\"fa fa-chevron-up\"></i></a>\\n<script type=\"text/javascript\">\\n\\t\\t\\t\\twindow.vkAsyncInit = function () {\\n\\t\\t\\t\\t\\tVK.Observer.subscribe(\\'widgets.comments.new_comment\\', function (num, last_comment, date, sign) {\\n\\t\\t\\t\\t\\t\\tvar data = {\\n\\t\\t\\t\\t\\t\\t\\taction: \\'darx.comments\\',\\n\\t\\t\\t\\t\\t\\t\\tprovider: \\'vk\\',\\n\\t\\t\\t\\t\\t\\t\\tjob: \\'add\\',\\n\\t\\t\\t\\t\\t\\t\\tid: document.getElementById(\"comments_post_id\").value,\\n\\t\\t\\t\\t\\t\\t\\tnum: num,\\n\\t\\t\\t\\t\\t\\t\\tlast_comment: last_comment,\\n\\t\\t\\t\\t\\t\\t\\tdate: date,\\n\\t\\t\\t\\t\\t\\t\\tsign: sign\\n\\t\\t\\t\\t\\t\\t};\\n\\t\\t\\t\\t\\t\\tdarx.post(\\'https://cher-is.com/wp-admin/admin-ajax.php\\', data);\\n\\t\\t\\t\\t\\t});\\n\\n\\t\\t\\t\\t\\tVK.Observer.subscribe(\\'widgets.comments.delete_comment\\', function (num, last_comment, date, sign) {\\n\\t\\t\\t\\t\\t\\tvar data = {\\n\\t\\t\\t\\t\\t\\t\\taction: \\'darx.comments\\',\\n\\t\\t\\t\\t\\t\\t\\tprovider: \\'vk\\',\\n\\t\\t\\t\\t\\t\\t\\tjob: \\'remove\\',\\n\\t\\t\\t\\t\\t\\t\\tid: document.getElementById(\"comments_post_id\").value,\\n\\t\\t\\t\\t\\t\\t\\tnum: num,\\n\\t\\t\\t\\t\\t\\t\\tlast_comment: last_comment,\\n\\t\\t\\t\\t\\t\\t\\tdate: date,\\n\\t\\t\\t\\t\\t\\t\\tsign: sign\\n\\t\\t\\t\\t\\t\\t};\\n\\t\\t\\t\\t\\t\\tdarx.post(\\'https://cher-is.com/wp-admin/admin-ajax.php\\', data);\\n\\t\\t\\t\\t\\t});\\n\\t\\t\\t\\t};\\n\\t\\t\\t</script>\\n<script type=\"text/javascript\">\\n\\t\\t\\t\\t(function (d) {\\n\\t\\t\\t\\t\\tvar id = \"vk\";\\n\\t\\t\\t\\t\\tif (d.getElementById(id)) return;\\n\\t\\t\\t\\t\\tvar el = document.createElement(\"script\");\\n\\t\\t\\t\\t\\tel.type = \"text/javascript\";\\n\\t\\t\\t\\t\\tel.async = true;\\n\\t\\t\\t\\t\\tel.id = id;\\n\\t\\t\\t\\t\\tel.src = \"https://vk.com/js/api/openapi.js\";\\n\\t\\t\\t\\t\\tel.onload = function(){darx.fireEvent(d, \"vk\")};\\n\\t\\t\\t\\t\\tvar ref = document.getElementsByTagName(\"script\")[0]; \\n                    ref.parentNode.insertBefore(el,ref);\\n\\t\\t\\t\\t}(document));</script> <script type=\"text/javascript\"> (function (d, w, c) { (w[c] = w[c] || []).push(function() { try { w.yaCounter39652530 = new Ya.Metrika({ id:39652530, clickmap:true, trackLinks:true, accurateTrackBounce:true, webvisor:true, trackHash:true }); } catch(e) { } }); var n = d.getElementsByTagName(\"script\")[0], s = d.createElement(\"script\"), f = function () { n.parentNode.insertBefore(s, n); }; s.type = \"text/javascript\"; s.async = true; s.src = \"https://mc.yandex.ru/metrika/watch.js\"; if (w.opera == \"[object Opera]\") { d.addEventListener(\"DOMContentLoaded\", f, false); } else { f(); } })(document, window, \"yandex_metrika_callbacks\"); </script> <noscript><div><img src=\"https://mc.yandex.ru/watch/39652530\" style=\"position:absolute; left:-9999px;\" alt=\"\" /></div></noscript> <button id=\"responsive-menu-button\" class=\"responsive-menu-button responsive-menu-boring responsive-menu-accessible\" type=\"button\" aria-label=\"Menu\">\\n <span class=\"responsive-menu-box\"><span class=\"responsive-menu-inner\"></span>\\n</span></button><div id=\"responsive-menu-container\" class=\"slide-left\">\\n<div id=\"responsive-menu-wrapper\"><ul id=\"responsive-menu\" class=\"\"><li id=\"responsive-menu-item-2876\" class=\" menu-item menu-item-type-taxonomy menu-item-object-category responsive-menu-item\"><a href=\"https://cher-is.com/category/zhkh/\" class=\"responsive-menu-item-link\">ЖКХ</a></li><li id=\"responsive-menu-item-2877\" class=\" menu-item menu-item-type-taxonomy menu-item-object-category responsive-menu-item\"><a href=\"https://cher-is.com/category/kul-tura/\" class=\"responsive-menu-item-link\">Культура</a></li><li id=\"responsive-menu-item-2878\" class=\" menu-item menu-item-type-taxonomy menu-item-object-category current-post-ancestor current-menu-parent current-post-parent responsive-menu-item responsive-menu-item-current-parent\"><a href=\"https://cher-is.com/category/obshhestvo/\" class=\"responsive-menu-item-link\">Общество</a></li><li id=\"responsive-menu-item-2879\" class=\" menu-item menu-item-type-taxonomy menu-item-object-category responsive-menu-item\"><a href=\"https://cher-is.com/category/politika/\" class=\"responsive-menu-item-link\">Политика</a></li><li id=\"responsive-menu-item-2880\" class=\" menu-item menu-item-type-taxonomy menu-item-object-category responsive-menu-item\"><a href=\"https://cher-is.com/category/proisshestviya/\" class=\"responsive-menu-item-link\">Происшествия</a></li><li id=\"responsive-menu-item-2881\" class=\" menu-item menu-item-type-taxonomy menu-item-object-category responsive-menu-item\"><a href=\"https://cher-is.com/category/sport/\" class=\"responsive-menu-item-link\">Спорт</a></li></ul><div id=\"responsive-menu-search-box\">\\n<form action=\"https://cher-is.com\" class=\"responsive-menu-search-form\" role=\"search\">\\n<input type=\"search\" name=\"s\" placeholder=\"Search\" class=\"responsive-menu-search-box\">\\n</form>\\n</div><div id=\"responsive-menu-additional-content\"></div> </div>\\n</div>\\n<script type=\\'text/javascript\\' id=\\'pt-cv-content-views-script-js-extra\\'>\\n/* <![CDATA[ */\\nvar PT_CV_PUBLIC = {\"_prefix\":\"pt-cv-\",\"page_to_show\":\"5\",\"_nonce\":\"67aa72faa3\",\"is_admin\":\"\",\"is_mobile\":\"\",\"ajaxurl\":\"https:\\\\/\\\\/cher-is.com\\\\/wp-admin\\\\/admin-ajax.php\",\"lang\":\"\",\"loading_image_src\":\"data:image\\\\/gif;base64,R0lGODlhDwAPALMPAMrKygwMDJOTkz09PZWVla+vr3p6euTk5M7OzuXl5TMzMwAAAJmZmWZmZszMzP\\\\/\\\\/\\\\/yH\\\\/C05FVFNDQVBFMi4wAwEAAAAh+QQFCgAPACwAAAAADwAPAAAEQvDJaZaZOIcV8iQK8VRX4iTYoAwZ4iCYoAjZ4RxejhVNoT+mRGP4cyF4Pp0N98sBGIBMEMOotl6YZ3S61Bmbkm4mAgAh+QQFCgAPACwAAAAADQANAAAENPDJSRSZeA418itN8QiK8BiLITVsFiyBBIoYqnoewAD4xPw9iY4XLGYSjkQR4UAUD45DLwIAIfkEBQoADwAsAAAAAA8ACQAABC\\\\/wyVlamTi3nSdgwFNdhEJgTJoNyoB9ISYoQmdjiZPcj7EYCAeCF1gEDo4Dz2eIAAAh+QQFCgAPACwCAAAADQANAAAEM\\\\/DJBxiYeLKdX3IJZT1FU0iIg2RNKx3OkZVnZ98ToRD4MyiDnkAh6BkNC0MvsAj0kMpHBAAh+QQFCgAPACwGAAAACQAPAAAEMDC59KpFDll73HkAA2wVY5KgiK5b0RRoI6MuzG6EQqCDMlSGheEhUAgqgUUAFRySIgAh+QQFCgAPACwCAAIADQANAAAEM\\\\/DJKZNLND\\\\/kkKaHc3xk+QAMYDKsiaqmZCxGVjSFFCxB1vwy2oOgIDxuucxAMTAJFAJNBAAh+QQFCgAPACwAAAYADwAJAAAEMNAs86q1yaWwwv2Ig0jUZx3OYa4XoRAfwADXoAwfo1+CIjyFRuEho60aSNYlOPxEAAAh+QQFCgAPACwAAAIADQANAAAENPA9s4y8+IUVcqaWJ4qEQozSoAzoIyhCK2NFU2SJk0hNnyEOhKR2AzAAj4Pj4GE4W0bkJQIAOw==\"};\\nvar PT_CV_PAGINATION = {\"first\":\"\\\\u00ab\",\"prev\":\"\\\\u2039\",\"next\":\"\\\\u203a\",\"last\":\"\\\\u00bb\",\"goto_first\":\"\\\\u041d\\\\u0430 \\\\u043f\\\\u0435\\\\u0440\\\\u0432\\\\u0443\\\\u044e \\\\u0441\\\\u0442\\\\u0440\\\\u0430\\\\u043d\\\\u0438\\\\u0446\\\\u0443\",\"goto_prev\":\"\\\\u041d\\\\u0430 \\\\u043f\\\\u0440\\\\u0435\\\\u0434\\\\u044b\\\\u0434\\\\u0443\\\\u0449\\\\u0443\\\\u044e \\\\u0441\\\\u0442\\\\u0440\\\\u0430\\\\u043d\\\\u0438\\\\u0446\\\\u0443\",\"goto_next\":\"\\\\u041d\\\\u0430 \\\\u0441\\\\u043b\\\\u0435\\\\u0434\\\\u0443\\\\u044e\\\\u0449\\\\u0443\\\\u044e \\\\u0441\\\\u0442\\\\u0440\\\\u0430\\\\u043d\\\\u0438\\\\u0446\\\\u0443\",\"goto_last\":\"\\\\u041d\\\\u0430 \\\\u043f\\\\u043e\\\\u0441\\\\u043b\\\\u0435\\\\u0434\\\\u043d\\\\u044e\\\\u044e \\\\u0441\\\\u0442\\\\u0440\\\\u0430\\\\u043d\\\\u0438\\\\u0446\\\\u0443\",\"current_page\":\"\\\\u0422\\\\u0435\\\\u043a\\\\u0443\\\\u0449\\\\u0430\\\\u044f \\\\u0441\\\\u0442\\\\u0440\\\\u0430\\\\u043d\\\\u0438\\\\u0446\\\\u0430\",\"goto_page\":\"\\\\u041d\\\\u0430 \\\\u0441\\\\u0442\\\\u0440\\\\u0430\\\\u043d\\\\u0438\\\\u0446\\\\u0443\"};\\n/* ]]> */\\n</script>\\n<script type=\\'text/javascript\\' src=\\'https://cher-is.com/wp-content/plugins/content-views-query-and-display-post-page/public/assets/js/cv.js?ver=1.9.9.4\\' id=\\'pt-cv-content-views-script-js\\'></script>\\n<script type=\\'text/javascript\\' src=\\'https://cher-is.com/wp-includes/js/comment-reply.min.js?ver=5.6.8\\' id=\\'comment-reply-js\\'></script>\\n<script type=\\'text/javascript\\' src=\\'https://cher-is.com/wp-includes/js/wp-embed.min.js?ver=5.6.8\\' id=\\'wp-embed-js\\'></script>\\n</body>\\n</html>'"
            ],
            "application/vnd.google.colaboratory.intrinsic+json": {
              "type": "string"
            }
          },
          "metadata": {},
          "execution_count": 5
        }
      ]
    },
    {
      "cell_type": "markdown",
      "source": [
        "Конечно, страшно, но не очень.\n",
        "\n",
        "Если хочется прямо разобраться с HTML, вот, например, [ссылка](https://www.w3schools.com/html/html_intro.asp). А так нам важно знать, что всякие элементы располагаются в нутри тегов, и выглядит это как-то так (это тэг \\<p\\>, который используется для разбивки страницы на абзацы — paragraph):\n",
        "\n",
        "\\<p\\>This is a paragraph.\\</p\\>\n",
        "\n",
        "Обычно достаточно уметь найти, в каком тэге находится нужная информация, и извлечь её. Для поиска нужно всего лишь нажать на то, что вы хотите извлечь со страницы правой клавишей — Inspect, и после этого вы попадёте в удивительный мир HTML. Но! Вас переведут ровно к тому элементу, который вы ткнули. После этого, поводив по экрану, на котором подсвечиваются блоки, соответствующие тэгам, можно наиболее точно найти то, что вас интересует.\n",
        "\n",
        "Новость выкачанной нами страницы, включая заголовок и картинку, находится в тэге \\<div class=\"blog-lg-box\"\\>Содержимое\\</div\\>. Обратите внимание, в файле очень много тэгов \n",
        "\n",
        "Для извлечения можно использовать библиотеку BeautifulSoup, которую мы уже импортировали. "
      ],
      "metadata": {
        "id": "RQkP_t2fOIRJ"
      }
    },
    {
      "cell_type": "code",
      "source": [
        "#Просим модуль проанализировать наш файл\n",
        "html_cher_soup = BeautifulSoup(html_cher, 'html.parser')\n",
        "\n",
        "#Ищем\n",
        "body_cher_soup = html_cher_soup.find(\"div\", class_=\"media-body\")\n",
        "\n",
        "#Тэг — первая переменная, класс — вторая\n",
        "#Если хотите найти несколько тэгов с одинаковыми классами, используйте find_all\n",
        "#Они будут выданы в виде списка объектов BeautifulSoup — из каждого придётся\n",
        "#извлекать текст\n",
        "\n",
        "body_cher_soup"
      ],
      "metadata": {
        "colab": {
          "base_uri": "https://localhost:8080/"
        },
        "id": "TcjBTNZKdqQQ",
        "outputId": "8e1d000b-7a0f-415e-eb59-ff0a372a4e6f"
      },
      "execution_count": null,
      "outputs": [
        {
          "output_type": "execute_result",
          "data": {
            "text/plain": [
              "<div class=\"media-body\">\n",
              "<div class=\"blog-lg-box\">\n",
              "<a class=\"img-responsive\" href=\"https://cher-is.com/izvestnaya-nejroset-sostavila-obrazy-cherepovtsa-i-vologdy/\" title=\"Известная нейросеть составила образы Череповца и Вологды\">\n",
              "<img alt=\"\" class=\"img-responsive wp-post-image\" height=\"408\" loading=\"lazy\" sizes=\"(max-width: 264px) 100vw, 264px\" src=\"https://cher-is.com/wp-content/uploads/2023/02/cherepovets.png\" srcset=\"https://cher-is.com/wp-content/uploads/2023/02/cherepovets.png 264w, https://cher-is.com/wp-content/uploads/2023/02/cherepovets-194x300.png 194w\" width=\"264\"/>\n",
              "</a></div>\n",
              "<div class=\"blog-post-lg\">\n",
              "<a href=\"https://cher-is.com/author/admin/\"><img alt=\"\" class=\"img-responsive img-circle avatar-40 photo\" height=\"40\" loading=\"lazy\" src=\"https://secure.gravatar.com/avatar/12d14aad72f86a5c2271b4922c91b55f?s=40&amp;d=mm&amp;r=g\" srcset=\"https://secure.gravatar.com/avatar/12d14aad72f86a5c2271b4922c91b55f?s=80&amp;d=mm&amp;r=g 2x\" width=\"40\"/></a>\n",
              "Автор:<a href=\"https://cher-is.com/author/admin/\">ЧИ</a>\n",
              "<div class=\"blog-tags-lg\"><i class=\"fa fa-tags\"></i><a href=\"https://cher-is.com/tag/midjourney/\" rel=\"tag\">Midjourney</a>, <a href=\"https://cher-is.com/tag/nejroset/\" rel=\"tag\">нейросеть</a>, <a href=\"https://cher-is.com/tag/cherepovets/\" rel=\"tag\">Череповец</a></div>\n",
              "</div>\n",
              "<h3><a class=\"entry-title\" href=\"https://cher-is.com/izvestnaya-nejroset-sostavila-obrazy-cherepovtsa-i-vologdy/\">Известная нейросеть составила образы Череповца и Вологды</a></h3>\n",
              "<p>Нейросеть Midjourney изобразила города России в образах, и получились герои для мрачных сказок.</p>\n",
              "<p>На этот раз автор телеграм-канала «Нейросеть видит» сформировал запрос в Midjourney так, чтобы нейросеть показала российские города в человеческих обличьях. Например, две столицы, Москва и Санкт-Петербург, выглядят как модная пара. Девушка — в стильном кокошнике, а парень с уложенными бородой и усами.</p>\n",
              "<p>Череповец изображён в виде монаха, а Вологда — знатной женщины.</p>\n",
              "<p> </p>\n",
              "</div>"
            ]
          },
          "metadata": {},
          "execution_count": 6
        }
      ]
    },
    {
      "cell_type": "markdown",
      "source": [
        "Уже похоже на новость! Если теперь удалить все оставшиеся тэги, которые нас явно не интересуют, можно получить собственно текст."
      ],
      "metadata": {
        "id": "2F14mcfVlpjn"
      }
    },
    {
      "cell_type": "code",
      "source": [
        "cher_news = re.sub('<[^<]+?>', '', body_cher_soup.text).strip()\n",
        "\n",
        "#Как это работает? Регулярное выражение заменяет все (практически все) тэги на\n",
        "#пустую строку. Метод .strip() удаляет лишние переносы строк и подобное по краям\n",
        "#новости\n",
        "#Осторожно! Если вы занимаетесь чем-то серьёзным и работаете с потенциально \n",
        "#опасными сайтами, удалять тэги следует другим способом.\n",
        "\n",
        "cher_news"
      ],
      "metadata": {
        "colab": {
          "base_uri": "https://localhost:8080/",
          "height": 123
        },
        "id": "monf084FmEit",
        "outputId": "87eab7cf-e8e0-4cee-dc7c-4d04694c16ba"
      },
      "execution_count": null,
      "outputs": [
        {
          "output_type": "execute_result",
          "data": {
            "text/plain": [
              "'Автор:ЧИ\\nMidjourney, нейросеть, Череповец\\n\\nИзвестная нейросеть составила образы Череповца и Вологды\\nНейросеть Midjourney изобразила города России в образах, и получились герои для мрачных сказок.\\nНа этот раз автор телеграм-канала «Нейросеть видит» сформировал запрос в Midjourney так, чтобы нейросеть показала российские города в человеческих обличьях. Например, две столицы, Москва и Санкт-Петербург, выглядят как модная пара. Девушка — в стильном кокошнике, а парень с уложенными бородой и усами.\\nЧереповец изображён в виде монаха, а Вологда — знатной женщины.'"
            ],
            "application/vnd.google.colaboratory.intrinsic+json": {
              "type": "string"
            }
          },
          "metadata": {},
          "execution_count": 7
        }
      ]
    },
    {
      "cell_type": "markdown",
      "source": [
        "Чтобы избавиться от автора, названия картинки и остального, можно их удалить в полученном выше тексте или извлекать из текста новости только то, что содержится в тэгах \\<p\\>\\</p\\>."
      ],
      "metadata": {
        "id": "XJN-gv9Yrhxa"
      }
    },
    {
      "cell_type": "code",
      "source": [
        "cher_news_no_author = ''\n",
        "\n",
        "#Приходится использовать цикл, потому что метод find_all выдаёт как результат\n",
        "#не строки, а объекты модуля Beautiful Soup\n",
        "\n",
        "for p in body_cher_soup.find_all(\"p\"): \n",
        "  cher_news_no_author += p.text.strip() \n",
        "\n",
        "cher_news_no_author"
      ],
      "metadata": {
        "colab": {
          "base_uri": "https://localhost:8080/",
          "height": 105
        },
        "id": "Y5Y_tMFmnjtM",
        "outputId": "f19be2d2-0d9f-462d-ca39-dbd970408e98"
      },
      "execution_count": null,
      "outputs": [
        {
          "output_type": "execute_result",
          "data": {
            "text/plain": [
              "'Нейросеть Midjourney изобразила города России в образах, и получились герои для мрачных сказок.На этот раз автор телеграм-канала «Нейросеть видит» сформировал запрос в Midjourney так, чтобы нейросеть показала российские города в человеческих обличьях. Например, две столицы, Москва и Санкт-Петербург, выглядят как модная пара. Девушка — в стильном кокошнике, а парень с уложенными бородой и усами.Череповец изображён в виде монаха, а Вологда — знатной женщины.'"
            ],
            "application/vnd.google.colaboratory.intrinsic+json": {
              "type": "string"
            }
          },
          "metadata": {},
          "execution_count": 8
        }
      ]
    },
    {
      "cell_type": "markdown",
      "source": [
        "## Задание\n",
        "\n",
        "Выкачайте одну любую новость с сайта ИА Панорама. Найдите, где в HTML-файле находится текст и сохраните его в переменную."
      ],
      "metadata": {
        "id": "2iTkkTKFsMld"
      }
    },
    {
      "cell_type": "code",
      "source": [
        "#Впишите сюда код\n",
        "\n"
      ],
      "metadata": {
        "id": "spVAETwVssk7"
      },
      "execution_count": null,
      "outputs": []
    },
    {
      "cell_type": "markdown",
      "source": [
        "## Одна новость — хорошо, но мало\n",
        "\n",
        "Чтобы сделать корпус, выкачивания одной интернет-страницы, конечно, недостаточно. Хотелось бы выкачивать сразу много текстов — или в целом из Интернета, или хотя бы с одного сайта.\n",
        "\n",
        "В целом, выкачать всю нужную информацию с сайта можно, найдя закономерность в том, как называются её страницы. Иногда это просто (например, каждая из новостей может быть просто пронумерована), иногда требуется больше изощрённости."
      ],
      "metadata": {
        "id": "ImCR1tQptkBU"
      }
    },
    {
      "cell_type": "code",
      "source": [
        "from datetime import datetime, timedelta\n",
        "    \n",
        "d = datetime.today() - timedelta(days=1)"
      ],
      "metadata": {
        "id": "L7APiWL0RPHK"
      },
      "execution_count": null,
      "outputs": []
    },
    {
      "cell_type": "code",
      "source": [
        "date_list = [datetime.today() - timedelta(days=x) for x in range(100)]"
      ],
      "metadata": {
        "id": "45LM1u4WDlvD"
      },
      "execution_count": null,
      "outputs": []
    },
    {
      "cell_type": "code",
      "source": [
        "date_list = [f\"{day.day}-{day.month}-{day.year}\" for day in date_list]"
      ],
      "metadata": {
        "id": "EOv2m3h0D-xI"
      },
      "execution_count": null,
      "outputs": []
    },
    {
      "cell_type": "code",
      "source": [
        "date_list[:10]"
      ],
      "metadata": {
        "colab": {
          "base_uri": "https://localhost:8080/"
        },
        "id": "TZ8JO5HVEir_",
        "outputId": "8f05ade6-964c-4663-fc52-9e96e95bc60a"
      },
      "execution_count": null,
      "outputs": [
        {
          "output_type": "execute_result",
          "data": {
            "text/plain": [
              "['4-3-2023',\n",
              " '3-3-2023',\n",
              " '2-3-2023',\n",
              " '1-3-2023',\n",
              " '28-2-2023',\n",
              " '27-2-2023',\n",
              " '26-2-2023',\n",
              " '25-2-2023',\n",
              " '24-2-2023',\n",
              " '23-2-2023']"
            ]
          },
          "metadata": {},
          "execution_count": 19
        }
      ]
    },
    {
      "cell_type": "code",
      "source": [
        "td = datetime.today()\n",
        "f\"{td.day}-{td.month}-{td.year}\""
      ],
      "metadata": {
        "colab": {
          "base_uri": "https://localhost:8080/",
          "height": 36
        },
        "id": "n25u_OFFRUCc",
        "outputId": "e0738729-7a54-4ac8-a836-884b91c1f280"
      },
      "execution_count": null,
      "outputs": [
        {
          "output_type": "execute_result",
          "data": {
            "text/plain": [
              "'4-3-2023'"
            ],
            "application/vnd.google.colaboratory.intrinsic+json": {
              "type": "string"
            }
          },
          "metadata": {},
          "execution_count": 20
        }
      ]
    },
    {
      "cell_type": "code",
      "source": [
        "dates = []\n",
        "n = 100\n",
        "date_list = [datetime.today() - timedelta(days=x) for x in range(n)]\n",
        "date_list = [f\"{date.day}-{date.month}-{date.year}\" for date in date_list]"
      ],
      "metadata": {
        "id": "zxzJSjUrSKb2"
      },
      "execution_count": null,
      "outputs": []
    },
    {
      "cell_type": "code",
      "source": [
        "date_list[-1]"
      ],
      "metadata": {
        "colab": {
          "base_uri": "https://localhost:8080/",
          "height": 36
        },
        "id": "1vIXurmqSHRf",
        "outputId": "38805a7c-afc0-4300-e62f-cf3b2a943852"
      },
      "execution_count": null,
      "outputs": [
        {
          "output_type": "execute_result",
          "data": {
            "text/plain": [
              "'25-11-2022'"
            ],
            "application/vnd.google.colaboratory.intrinsic+json": {
              "type": "string"
            }
          },
          "metadata": {},
          "execution_count": 22
        }
      ]
    },
    {
      "cell_type": "code",
      "source": [
        "all_titles = []\n",
        "all_dates = []\n",
        "all_links = []\n",
        "all_texts = []\n",
        "all_spheres = []\n",
        "\n",
        "for date in tqdm(date_list):\n",
        "  page = f\"https://panorama.pub/news/{date}\"\n",
        "  result = requests.get(page)\n",
        "  html = result.text\n",
        "  soup = BeautifulSoup(html)\n",
        "  titles = soup.find_all('div', {'class': \"pt-2 text-xl lg:text-lg xl:text-base text-center font-semibold\"})\n",
        "  titles = [x.text.strip() for x in titles]\n",
        "  all_titles.extend(titles)\n",
        "  all_dates.extend([date]*len(titles))\n",
        "  links = soup.find_all('a', {'class': \"flex flex-col rounded-md hover:text-secondary hover:bg-accent/[.1] mb-2\"}, href=True)\n",
        "  links = [f\"https://panorama.pub{link['href']}\" for link in links]\n",
        "  all_links.extend(links)\n",
        "  for link in links:\n",
        "    result = requests.get(link)\n",
        "    html = result.text\n",
        "    soup = BeautifulSoup(html)\n",
        "    page_text = soup.find('div', {'itemprop': \"articleBody\"})\n",
        "    lines = [line.text.strip() for line in page_text.find_all('p')]\n",
        "    all_texts.extend([' '.join(lines).replace('\\xa0', \"\").replace('\\n', ' ')])\n",
        "    sphere = soup.find('a', {'class': \"badge\"})\n",
        "    if sphere == None:\n",
        "      all_spheres.append(sphere)\n",
        "    else:\n",
        "      all_spheres.append(sphere.text)\n",
        "\n"
      ],
      "metadata": {
        "colab": {
          "base_uri": "https://localhost:8080/",
          "height": 49,
          "referenced_widgets": [
            "d821ab4b9c9d4da78bb3bd6c667ea7fe",
            "ad23bba7038c40eba63b9f1ef6bdc70d",
            "caf1e059aac84037affdc190a2ed2e64",
            "6cf8f597b5244468a75e740501ac0608",
            "120d8b316dc441aaa7b4a958b1cd3d79",
            "05709b3b113e497bb01f6ea7bc0199cf",
            "61f1e06ba40f444da7ec305ba9b6205a",
            "7880adb1e0dc402d8ef60d52172ecbde",
            "2ac675dce668468784b0514905829692",
            "eeeddd57b6ee497a98c5f0241486727e",
            "92e3a8c1f0624eeca410d8214ec3b5c2"
          ]
        },
        "id": "6HozQ_4hTXZf",
        "outputId": "90f35d45-f8ea-4592-d24d-6db0982c007d"
      },
      "execution_count": null,
      "outputs": [
        {
          "output_type": "display_data",
          "data": {
            "text/plain": [
              "  0%|          | 0/100 [00:00<?, ?it/s]"
            ],
            "application/vnd.jupyter.widget-view+json": {
              "version_major": 2,
              "version_minor": 0,
              "model_id": "d821ab4b9c9d4da78bb3bd6c667ea7fe"
            }
          },
          "metadata": {}
        }
      ]
    },
    {
      "cell_type": "code",
      "source": [
        "all_texts[0]\n"
      ],
      "metadata": {
        "colab": {
          "base_uri": "https://localhost:8080/",
          "height": 192
        },
        "id": "WXbRa80_WmLx",
        "outputId": "48ae7d1e-8ef0-4375-86c3-1925c70c8981"
      },
      "execution_count": null,
      "outputs": [
        {
          "output_type": "execute_result",
          "data": {
            "text/plain": [
              "'Государственная дума приняла в третьем чтении законопроект«О внесении изменении в порядок добычи полезных ископаемых». Начиная с 1 марта этого года, гражданам разрешат добывать на приусадебных участках нефть и природный газ для личного пользования, а также в целях переработки. Согласно выводам экспертов Минэнерго, залежи полезных ископаемых на таких территориях весьма ограничены, поэтому извлечённые объёмы не повлияют как на статистику, так и на цены на рынке нефтепродуктов. Владельцам приусадебных участков также разрешат сдавать земли в аренду нефтегазовым компаниям. Для начала работ по бурению скважин следует оформить соответствующие документы и зарегистрироваться в ФНС в качестве индивидуального предпринимателя или самозанятого. Помимо единого налога, дачникам надлежит заплатить в бюджет НДПИ (налог на добычу природных ископаемых). В случае самовольной добычи природных ископаемых без оформления разрешений или регистрации в налоговом органе продолжат действовать нормы УК РФ.'"
            ],
            "application/vnd.google.colaboratory.intrinsic+json": {
              "type": "string"
            }
          },
          "metadata": {},
          "execution_count": 34
        }
      ]
    },
    {
      "cell_type": "code",
      "source": [
        "len(all_titles) == len(all_dates)"
      ],
      "metadata": {
        "colab": {
          "base_uri": "https://localhost:8080/"
        },
        "id": "0twbh5vuQPbO",
        "outputId": "ac09bed1-0b47-4fdf-ccd1-96a2159833ad"
      },
      "execution_count": null,
      "outputs": [
        {
          "output_type": "execute_result",
          "data": {
            "text/plain": [
              "True"
            ]
          },
          "metadata": {},
          "execution_count": 35
        }
      ]
    },
    {
      "cell_type": "markdown",
      "source": [
        "## Слишком сложно?..\n",
        "\n",
        "К счастью, нередко не нужно руками с нуля писать подобные программы для выкачки сайтов.\n",
        "\n",
        "Некоторые сайты, в том числе крупные соцсети, сами умеют представлять данные в формате, удобном не для пользователя-человека, а для компьютера. Это анзывается API — см., например, [VK API](https://dev.vk.com/api/overview).\n",
        "\n",
        "Кроме этого, есть большое количество готовых модулей или инстументов на основе Python. Универсальная, но достаточно сложная в использовании программа, которая скачивает сайты, самостоятельно переходя по ссылкам, которые находит на их странице (это называется Crawler), — [Scrapy](https://scrapy.org/).\n",
        "\n",
        "Кроме этого, есть модули, которые \"из коробки\" умеют обкачивать определённые типы сайтов — в том числе новостные. Проще всего пользоваться модулем newscatcher — он не поддерживает Панараму, но умеет работать с большим количеством других сайтов."
      ],
      "metadata": {
        "id": "eMpsfFesCa_m"
      }
    },
    {
      "cell_type": "code",
      "source": [
        "#Небольшая часть из множества русскоязычных сайтов, с которыми работает newscatcher\n",
        "\n",
        "newscatcher.urls(language = 'ru')[:15]"
      ],
      "metadata": {
        "colab": {
          "base_uri": "https://localhost:8080/"
        },
        "id": "ud3AQGaGT9mV",
        "outputId": "e336d8c2-e6fd-4fa6-82b6-94c5b2f00128"
      },
      "execution_count": null,
      "outputs": [
        {
          "output_type": "execute_result",
          "data": {
            "text/plain": [
              "['yandex.ru',\n",
              " 'ria.ru',\n",
              " 'rbc.ru',\n",
              " 'kommersant.ru',\n",
              " 'kremlin.ru',\n",
              " 'kp.ru',\n",
              " 'rg.ru',\n",
              " 'lenta.ru',\n",
              " 'vedomosti.ru',\n",
              " 'aif.ru',\n",
              " 'mk.ru',\n",
              " 'government.ru',\n",
              " 'regnum.ru',\n",
              " 'meduza.io',\n",
              " 'newsru.com']"
            ]
          },
          "metadata": {},
          "execution_count": 36
        }
      ]
    },
    {
      "cell_type": "code",
      "source": [
        "#Выкачиваем статьи — получаем особый объект модуля\n",
        "lenta = newscatcher.Newscatcher('lenta.ru')\n",
        "\n",
        "#Извлекаем из него собственно статьи\n",
        "lenta_articles = lenta.get_news()['articles']\n",
        "\n",
        "len(lenta_articles)"
      ],
      "metadata": {
        "colab": {
          "base_uri": "https://localhost:8080/"
        },
        "id": "kqxauw9rX45m",
        "outputId": "2852f9fd-2beb-459b-ec60-6dd9ed97b843"
      },
      "execution_count": null,
      "outputs": [
        {
          "output_type": "execute_result",
          "data": {
            "text/plain": [
              "200"
            ]
          },
          "metadata": {},
          "execution_count": 20
        }
      ]
    },
    {
      "cell_type": "code",
      "source": [
        "lenta_articles[0]"
      ],
      "metadata": {
        "colab": {
          "base_uri": "https://localhost:8080/"
        },
        "id": "e9CCU_VSaMJV",
        "outputId": "acb10797-c5ab-464c-b9f1-6acb946a1d4e"
      },
      "execution_count": null,
      "outputs": [
        {
          "output_type": "execute_result",
          "data": {
            "text/plain": [
              "{'id': 'https://lenta.ru/news/2023/03/04/h3/',\n",
              " 'guidislink': True,\n",
              " 'link': 'https://lenta.ru/news/2023/03/04/h3/',\n",
              " 'authors': [{'name': 'Иван Потапов'}],\n",
              " 'author': 'Иван Потапов',\n",
              " 'author_detail': {'name': 'Иван Потапов'},\n",
              " 'title': 'Япония перенесла первый пуск H3 из-за погоды',\n",
              " 'title_detail': {'type': 'text/plain',\n",
              "  'language': None,\n",
              "  'base': 'https://lenta.ru/rss/',\n",
              "  'value': 'Япония перенесла первый пуск H3 из-за погоды'},\n",
              " 'links': [{'rel': 'alternate',\n",
              "   'type': 'text/html',\n",
              "   'href': 'https://lenta.ru/news/2023/03/04/h3/'},\n",
              "  {'type': 'image/jpeg',\n",
              "   'length': '31892',\n",
              "   'href': 'https://icdn.lenta.ru/images/2023/03/04/10/20230304100550304/pic_89e8a7ac4c302716a884364c27b7be59.jpeg',\n",
              "   'rel': 'enclosure'}],\n",
              " 'summary': 'Первый пуск новой ракеты H3 перенесен с 6 на 7 марта из-за погодных условий в районе космодрома Танэгасима юго-западной префектуры Кагосима. Об этом сообщает Японское агентство аэрокосмических исследований. Старт планируется осуществить в промежутке между 10:37 и 10:44 местного времени.',\n",
              " 'summary_detail': {'type': 'text/html',\n",
              "  'language': None,\n",
              "  'base': 'https://lenta.ru/rss/',\n",
              "  'value': 'Первый пуск новой ракеты H3 перенесен с 6 на 7 марта из-за погодных условий в районе космодрома Танэгасима юго-западной префектуры Кагосима. Об этом сообщает Японское агентство аэрокосмических исследований. Старт планируется осуществить в промежутке между 10:37 и 10:44 местного времени.'},\n",
              " 'published': 'Sat, 04 Mar 2023 10:11:12 +0300',\n",
              " 'published_parsed': time.struct_time(tm_year=2023, tm_mon=3, tm_mday=4, tm_hour=7, tm_min=11, tm_sec=12, tm_wday=5, tm_yday=63, tm_isdst=0),\n",
              " 'tags': [{'term': 'Наука и техника', 'scheme': None, 'label': None}]}"
            ]
          },
          "metadata": {},
          "execution_count": 21
        }
      ]
    },
    {
      "cell_type": "code",
      "source": [
        "print(lenta_articles[0]['title'])\n",
        "print(lenta_articles[0]['link'])"
      ],
      "metadata": {
        "colab": {
          "base_uri": "https://localhost:8080/"
        },
        "id": "jtLFFfGOaXkH",
        "outputId": "f99e8274-dae1-4e38-b7d1-38ecc770300e"
      },
      "execution_count": null,
      "outputs": [
        {
          "output_type": "stream",
          "name": "stdout",
          "text": [
            "Япония перенесла первый пуск H3 из-за погоды\n",
            "https://lenta.ru/news/2023/03/04/h3/\n"
          ]
        }
      ]
    },
    {
      "cell_type": "markdown",
      "source": [
        "## Задание\n",
        "\n",
        "Выкачайте с помощью newscatcher несколько новостей с любого сайта и извлеките из них текст в отдельную переменную."
      ],
      "metadata": {
        "id": "pSl1qrKxWDiI"
      }
    },
    {
      "cell_type": "code",
      "source": [
        "# Впишите сюда код"
      ],
      "metadata": {
        "id": "aBE-apu4WUon"
      },
      "execution_count": null,
      "outputs": []
    },
    {
      "cell_type": "markdown",
      "source": [
        "## Экспорт текстов\n",
        "\n",
        "Осталось сохранить полученные тексты, чтобы не выкачивать каждый раз и иметь доступ в любой момент. Для этого оформим их в виде таблицы, которая содержит всю метаминформацию."
      ],
      "metadata": {
        "id": "IIzGSLJadMdH"
      }
    },
    {
      "cell_type": "code",
      "source": [
        "#Создаём индекс, чтобы пронумеровать каждый текст (это нам понадобится позже)\n",
        "\n",
        "index = [a for a in range(len(all_dates))]\n",
        "\n",
        "#Добавляем в особую табличку тексты. Для этого подаём функции DataFrame словарь\n",
        "#В котором на первом месте — название столбца, на втором — содержимое столбца\n",
        "#Все столбцы должны быть одинаковой длины\n",
        "corpus = pd.DataFrame({'index': index, 'date': all_dates, 'sphere': all_spheres,\n",
        "                       'title': all_titles, 'text': all_texts,  \n",
        "                       'link': all_links})\n",
        "\n",
        "corpus.head()"
      ],
      "metadata": {
        "colab": {
          "base_uri": "https://localhost:8080/",
          "height": 423
        },
        "id": "yKsEELhvdKUT",
        "outputId": "15a77dd0-d9ee-4f7d-e3bb-5591be6ad4fe"
      },
      "execution_count": null,
      "outputs": [
        {
          "output_type": "execute_result",
          "data": {
            "text/plain": [
              "   index      date    sphere  \\\n",
              "0      0  4-3-2023  Общество   \n",
              "1      1  4-3-2023  Политика   \n",
              "2      2  4-3-2023  Политика   \n",
              "3      3  4-3-2023  Политика   \n",
              "4      4  3-3-2023  Общество   \n",
              "\n",
              "                                               title  \\\n",
              "0  Гражданам разрешили добывать нефть и газ на св...   \n",
              "1  Китай подал заявку на вступление в Союзное гос...   \n",
              "2  Деколонизаторки из Франции потребовали вернуть...   \n",
              "3  Победа России: Госдума пересмотрела результаты...   \n",
              "4        Бездетных россиян будут ежегодно штрафовать   \n",
              "\n",
              "                                                text  \\\n",
              "0  Государственная дума приняла в третьем чтении ...   \n",
              "1  Заведующий Канцелярией Комиссии ЦК КПК по инос...   \n",
              "2  Активисты движения «Смерть колониализму» из Па...   \n",
              "3  Государственная дума приняла постановление «Об...   \n",
              "4  Государственная дума приняла в первом чтении з...   \n",
              "\n",
              "                                                link  \n",
              "0  https://panorama.pub/news/grazdanam-razresili-...  \n",
              "1  https://panorama.pub/news/kitaj-podal-zaavku-n...  \n",
              "2  https://panorama.pub/news/dekolonizatorki-iz-f...  \n",
              "3  https://panorama.pub/news/gosduma-peresmotrela...  \n",
              "4  https://panorama.pub/news/bezdetnyh-rossian-pr...  "
            ],
            "text/html": [
              "\n",
              "  <div id=\"df-6340e493-e647-481d-82a5-2e38cd82f05a\">\n",
              "    <div class=\"colab-df-container\">\n",
              "      <div>\n",
              "<style scoped>\n",
              "    .dataframe tbody tr th:only-of-type {\n",
              "        vertical-align: middle;\n",
              "    }\n",
              "\n",
              "    .dataframe tbody tr th {\n",
              "        vertical-align: top;\n",
              "    }\n",
              "\n",
              "    .dataframe thead th {\n",
              "        text-align: right;\n",
              "    }\n",
              "</style>\n",
              "<table border=\"1\" class=\"dataframe\">\n",
              "  <thead>\n",
              "    <tr style=\"text-align: right;\">\n",
              "      <th></th>\n",
              "      <th>index</th>\n",
              "      <th>date</th>\n",
              "      <th>sphere</th>\n",
              "      <th>title</th>\n",
              "      <th>text</th>\n",
              "      <th>link</th>\n",
              "    </tr>\n",
              "  </thead>\n",
              "  <tbody>\n",
              "    <tr>\n",
              "      <th>0</th>\n",
              "      <td>0</td>\n",
              "      <td>4-3-2023</td>\n",
              "      <td>Общество</td>\n",
              "      <td>Гражданам разрешили добывать нефть и газ на св...</td>\n",
              "      <td>Государственная дума приняла в третьем чтении ...</td>\n",
              "      <td>https://panorama.pub/news/grazdanam-razresili-...</td>\n",
              "    </tr>\n",
              "    <tr>\n",
              "      <th>1</th>\n",
              "      <td>1</td>\n",
              "      <td>4-3-2023</td>\n",
              "      <td>Политика</td>\n",
              "      <td>Китай подал заявку на вступление в Союзное гос...</td>\n",
              "      <td>Заведующий Канцелярией Комиссии ЦК КПК по инос...</td>\n",
              "      <td>https://panorama.pub/news/kitaj-podal-zaavku-n...</td>\n",
              "    </tr>\n",
              "    <tr>\n",
              "      <th>2</th>\n",
              "      <td>2</td>\n",
              "      <td>4-3-2023</td>\n",
              "      <td>Политика</td>\n",
              "      <td>Деколонизаторки из Франции потребовали вернуть...</td>\n",
              "      <td>Активисты движения «Смерть колониализму» из Па...</td>\n",
              "      <td>https://panorama.pub/news/dekolonizatorki-iz-f...</td>\n",
              "    </tr>\n",
              "    <tr>\n",
              "      <th>3</th>\n",
              "      <td>3</td>\n",
              "      <td>4-3-2023</td>\n",
              "      <td>Политика</td>\n",
              "      <td>Победа России: Госдума пересмотрела результаты...</td>\n",
              "      <td>Государственная дума приняла постановление «Об...</td>\n",
              "      <td>https://panorama.pub/news/gosduma-peresmotrela...</td>\n",
              "    </tr>\n",
              "    <tr>\n",
              "      <th>4</th>\n",
              "      <td>4</td>\n",
              "      <td>3-3-2023</td>\n",
              "      <td>Общество</td>\n",
              "      <td>Бездетных россиян будут ежегодно штрафовать</td>\n",
              "      <td>Государственная дума приняла в первом чтении з...</td>\n",
              "      <td>https://panorama.pub/news/bezdetnyh-rossian-pr...</td>\n",
              "    </tr>\n",
              "  </tbody>\n",
              "</table>\n",
              "</div>\n",
              "      <button class=\"colab-df-convert\" onclick=\"convertToInteractive('df-6340e493-e647-481d-82a5-2e38cd82f05a')\"\n",
              "              title=\"Convert this dataframe to an interactive table.\"\n",
              "              style=\"display:none;\">\n",
              "        \n",
              "  <svg xmlns=\"http://www.w3.org/2000/svg\" height=\"24px\"viewBox=\"0 0 24 24\"\n",
              "       width=\"24px\">\n",
              "    <path d=\"M0 0h24v24H0V0z\" fill=\"none\"/>\n",
              "    <path d=\"M18.56 5.44l.94 2.06.94-2.06 2.06-.94-2.06-.94-.94-2.06-.94 2.06-2.06.94zm-11 1L8.5 8.5l.94-2.06 2.06-.94-2.06-.94L8.5 2.5l-.94 2.06-2.06.94zm10 10l.94 2.06.94-2.06 2.06-.94-2.06-.94-.94-2.06-.94 2.06-2.06.94z\"/><path d=\"M17.41 7.96l-1.37-1.37c-.4-.4-.92-.59-1.43-.59-.52 0-1.04.2-1.43.59L10.3 9.45l-7.72 7.72c-.78.78-.78 2.05 0 2.83L4 21.41c.39.39.9.59 1.41.59.51 0 1.02-.2 1.41-.59l7.78-7.78 2.81-2.81c.8-.78.8-2.07 0-2.86zM5.41 20L4 18.59l7.72-7.72 1.47 1.35L5.41 20z\"/>\n",
              "  </svg>\n",
              "      </button>\n",
              "      \n",
              "  <style>\n",
              "    .colab-df-container {\n",
              "      display:flex;\n",
              "      flex-wrap:wrap;\n",
              "      gap: 12px;\n",
              "    }\n",
              "\n",
              "    .colab-df-convert {\n",
              "      background-color: #E8F0FE;\n",
              "      border: none;\n",
              "      border-radius: 50%;\n",
              "      cursor: pointer;\n",
              "      display: none;\n",
              "      fill: #1967D2;\n",
              "      height: 32px;\n",
              "      padding: 0 0 0 0;\n",
              "      width: 32px;\n",
              "    }\n",
              "\n",
              "    .colab-df-convert:hover {\n",
              "      background-color: #E2EBFA;\n",
              "      box-shadow: 0px 1px 2px rgba(60, 64, 67, 0.3), 0px 1px 3px 1px rgba(60, 64, 67, 0.15);\n",
              "      fill: #174EA6;\n",
              "    }\n",
              "\n",
              "    [theme=dark] .colab-df-convert {\n",
              "      background-color: #3B4455;\n",
              "      fill: #D2E3FC;\n",
              "    }\n",
              "\n",
              "    [theme=dark] .colab-df-convert:hover {\n",
              "      background-color: #434B5C;\n",
              "      box-shadow: 0px 1px 3px 1px rgba(0, 0, 0, 0.15);\n",
              "      filter: drop-shadow(0px 1px 2px rgba(0, 0, 0, 0.3));\n",
              "      fill: #FFFFFF;\n",
              "    }\n",
              "  </style>\n",
              "\n",
              "      <script>\n",
              "        const buttonEl =\n",
              "          document.querySelector('#df-6340e493-e647-481d-82a5-2e38cd82f05a button.colab-df-convert');\n",
              "        buttonEl.style.display =\n",
              "          google.colab.kernel.accessAllowed ? 'block' : 'none';\n",
              "\n",
              "        async function convertToInteractive(key) {\n",
              "          const element = document.querySelector('#df-6340e493-e647-481d-82a5-2e38cd82f05a');\n",
              "          const dataTable =\n",
              "            await google.colab.kernel.invokeFunction('convertToInteractive',\n",
              "                                                     [key], {});\n",
              "          if (!dataTable) return;\n",
              "\n",
              "          const docLinkHtml = 'Like what you see? Visit the ' +\n",
              "            '<a target=\"_blank\" href=https://colab.research.google.com/notebooks/data_table.ipynb>data table notebook</a>'\n",
              "            + ' to learn more about interactive tables.';\n",
              "          element.innerHTML = '';\n",
              "          dataTable['output_type'] = 'display_data';\n",
              "          await google.colab.output.renderOutput(dataTable, element);\n",
              "          const docLink = document.createElement('div');\n",
              "          docLink.innerHTML = docLinkHtml;\n",
              "          element.appendChild(docLink);\n",
              "        }\n",
              "      </script>\n",
              "    </div>\n",
              "  </div>\n",
              "  "
            ]
          },
          "metadata": {},
          "execution_count": 37
        }
      ]
    },
    {
      "cell_type": "code",
      "source": [
        "corpus.to_csv('panorama_corpus.tsv', sep = '\\t', encoding='utf-8',  index = False)"
      ],
      "metadata": {
        "id": "q0QMWliFh7SW"
      },
      "execution_count": null,
      "outputs": []
    },
    {
      "cell_type": "code",
      "source": [],
      "metadata": {
        "id": "XwkBEF92tc4T"
      },
      "execution_count": null,
      "outputs": []
    }
  ]
}