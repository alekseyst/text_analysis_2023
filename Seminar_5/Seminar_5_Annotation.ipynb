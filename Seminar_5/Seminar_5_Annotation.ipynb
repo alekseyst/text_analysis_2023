{
  "nbformat": 4,
  "nbformat_minor": 0,
  "metadata": {
    "colab": {
      "provenance": []
    },
    "kernelspec": {
      "name": "python3",
      "display_name": "Python 3"
    },
    "language_info": {
      "name": "python"
    }
  },
  "cells": [
    {
      "cell_type": "markdown",
      "source": [
        "#Разметка корпуса и работа с ним\n",
        "\n",
        "На этом семинаре у нас две задачи:\n",
        "\n",
        "1. Научиться делать морфологическую и синтаксическую разметку корпуса.\n",
        "2. Научиться работать с ним: извлекать и обобщать информацию.\n",
        "\n",
        "[Ссылка](https://colab.research.google.com/drive/1CriijFyazxjU6PrkiR8vW1XWhz2GL2pq?usp=sharing) на тетрадку в Google Colab."
      ],
      "metadata": {
        "id": "MfqN-TUhIFDm"
      }
    },
    {
      "cell_type": "code",
      "source": [
        "!pip install spacy"
      ],
      "metadata": {
        "id": "9GC0bi67dqmN"
      },
      "execution_count": null,
      "outputs": []
    },
    {
      "cell_type": "code",
      "execution_count": null,
      "metadata": {
        "id": "SZZiHoAac4sO",
        "colab": {
          "base_uri": "https://localhost:8080/"
        },
        "outputId": "5d88c091-eab4-4fe6-8156-9b708320df4c"
      },
      "outputs": [
        {
          "output_type": "stream",
          "name": "stderr",
          "text": [
            "/usr/local/lib/python3.8/dist-packages/torch/cuda/__init__.py:497: UserWarning: Can't initialize NVML\n",
            "  warnings.warn(\"Can't initialize NVML\")\n"
          ]
        }
      ],
      "source": [
        "#Работа с таблицами — понадобится, чтобы хранить наш корпус\n",
        "import pandas as pd\n",
        "\n",
        "#Выполнение быстрых математических вычислений — пригодится, потому что иначе\n",
        "#корпус с большим количеством текстов может долго обрабатываться\n",
        "import numpy as np\n",
        "\n",
        "#Разметка морфологии и синтаксиса\n",
        "import spacy"
      ]
    },
    {
      "cell_type": "code",
      "source": [
        "#Считываем из файла выкачанный раньше корпус\n",
        "\n",
        "panorama_corpus = pd.read_csv('panorama_corpus.tsv', sep='\\t')"
      ],
      "metadata": {
        "id": "LjL9wK0x0NNm"
      },
      "execution_count": null,
      "outputs": []
    },
    {
      "cell_type": "code",
      "source": [
        "panorama_corpus.head()"
      ],
      "metadata": {
        "colab": {
          "base_uri": "https://localhost:8080/",
          "height": 423
        },
        "id": "MxhWqfAx1OAX",
        "outputId": "720923ab-3d96-4dcc-e45f-29b4dee2710d"
      },
      "execution_count": null,
      "outputs": [
        {
          "output_type": "execute_result",
          "data": {
            "text/plain": [
              "   index      date    sphere  \\\n",
              "0      0  4-3-2023  Общество   \n",
              "1      1  4-3-2023  Политика   \n",
              "2      2  4-3-2023  Политика   \n",
              "3      3  4-3-2023  Политика   \n",
              "4      4  3-3-2023  Общество   \n",
              "\n",
              "                                               title  \\\n",
              "0  Гражданам разрешили добывать нефть и газ на св...   \n",
              "1  Китай подал заявку на вступление в Союзное гос...   \n",
              "2  Деколонизаторки из Франции потребовали вернуть...   \n",
              "3  Победа России: Госдума пересмотрела результаты...   \n",
              "4        Бездетных россиян будут ежегодно штрафовать   \n",
              "\n",
              "                                                text  \\\n",
              "0  Государственная дума приняла в третьем чтении ...   \n",
              "1  Заведующий Канцелярией Комиссии ЦК КПК по инос...   \n",
              "2  Активисты движения «Смерть колониализму» из Па...   \n",
              "3  Государственная дума приняла постановление «Об...   \n",
              "4  Государственная дума приняла в первом чтении з...   \n",
              "\n",
              "                                                link  \n",
              "0  https://panorama.pub/news/grazdanam-razresili-...  \n",
              "1  https://panorama.pub/news/kitaj-podal-zaavku-n...  \n",
              "2  https://panorama.pub/news/dekolonizatorki-iz-f...  \n",
              "3  https://panorama.pub/news/gosduma-peresmotrela...  \n",
              "4  https://panorama.pub/news/bezdetnyh-rossian-pr...  "
            ],
            "text/html": [
              "\n",
              "  <div id=\"df-33d5e554-1ddb-4323-a334-d42aea99a56f\">\n",
              "    <div class=\"colab-df-container\">\n",
              "      <div>\n",
              "<style scoped>\n",
              "    .dataframe tbody tr th:only-of-type {\n",
              "        vertical-align: middle;\n",
              "    }\n",
              "\n",
              "    .dataframe tbody tr th {\n",
              "        vertical-align: top;\n",
              "    }\n",
              "\n",
              "    .dataframe thead th {\n",
              "        text-align: right;\n",
              "    }\n",
              "</style>\n",
              "<table border=\"1\" class=\"dataframe\">\n",
              "  <thead>\n",
              "    <tr style=\"text-align: right;\">\n",
              "      <th></th>\n",
              "      <th>index</th>\n",
              "      <th>date</th>\n",
              "      <th>sphere</th>\n",
              "      <th>title</th>\n",
              "      <th>text</th>\n",
              "      <th>link</th>\n",
              "    </tr>\n",
              "  </thead>\n",
              "  <tbody>\n",
              "    <tr>\n",
              "      <th>0</th>\n",
              "      <td>0</td>\n",
              "      <td>4-3-2023</td>\n",
              "      <td>Общество</td>\n",
              "      <td>Гражданам разрешили добывать нефть и газ на св...</td>\n",
              "      <td>Государственная дума приняла в третьем чтении ...</td>\n",
              "      <td>https://panorama.pub/news/grazdanam-razresili-...</td>\n",
              "    </tr>\n",
              "    <tr>\n",
              "      <th>1</th>\n",
              "      <td>1</td>\n",
              "      <td>4-3-2023</td>\n",
              "      <td>Политика</td>\n",
              "      <td>Китай подал заявку на вступление в Союзное гос...</td>\n",
              "      <td>Заведующий Канцелярией Комиссии ЦК КПК по инос...</td>\n",
              "      <td>https://panorama.pub/news/kitaj-podal-zaavku-n...</td>\n",
              "    </tr>\n",
              "    <tr>\n",
              "      <th>2</th>\n",
              "      <td>2</td>\n",
              "      <td>4-3-2023</td>\n",
              "      <td>Политика</td>\n",
              "      <td>Деколонизаторки из Франции потребовали вернуть...</td>\n",
              "      <td>Активисты движения «Смерть колониализму» из Па...</td>\n",
              "      <td>https://panorama.pub/news/dekolonizatorki-iz-f...</td>\n",
              "    </tr>\n",
              "    <tr>\n",
              "      <th>3</th>\n",
              "      <td>3</td>\n",
              "      <td>4-3-2023</td>\n",
              "      <td>Политика</td>\n",
              "      <td>Победа России: Госдума пересмотрела результаты...</td>\n",
              "      <td>Государственная дума приняла постановление «Об...</td>\n",
              "      <td>https://panorama.pub/news/gosduma-peresmotrela...</td>\n",
              "    </tr>\n",
              "    <tr>\n",
              "      <th>4</th>\n",
              "      <td>4</td>\n",
              "      <td>3-3-2023</td>\n",
              "      <td>Общество</td>\n",
              "      <td>Бездетных россиян будут ежегодно штрафовать</td>\n",
              "      <td>Государственная дума приняла в первом чтении з...</td>\n",
              "      <td>https://panorama.pub/news/bezdetnyh-rossian-pr...</td>\n",
              "    </tr>\n",
              "  </tbody>\n",
              "</table>\n",
              "</div>\n",
              "      <button class=\"colab-df-convert\" onclick=\"convertToInteractive('df-33d5e554-1ddb-4323-a334-d42aea99a56f')\"\n",
              "              title=\"Convert this dataframe to an interactive table.\"\n",
              "              style=\"display:none;\">\n",
              "        \n",
              "  <svg xmlns=\"http://www.w3.org/2000/svg\" height=\"24px\"viewBox=\"0 0 24 24\"\n",
              "       width=\"24px\">\n",
              "    <path d=\"M0 0h24v24H0V0z\" fill=\"none\"/>\n",
              "    <path d=\"M18.56 5.44l.94 2.06.94-2.06 2.06-.94-2.06-.94-.94-2.06-.94 2.06-2.06.94zm-11 1L8.5 8.5l.94-2.06 2.06-.94-2.06-.94L8.5 2.5l-.94 2.06-2.06.94zm10 10l.94 2.06.94-2.06 2.06-.94-2.06-.94-.94-2.06-.94 2.06-2.06.94z\"/><path d=\"M17.41 7.96l-1.37-1.37c-.4-.4-.92-.59-1.43-.59-.52 0-1.04.2-1.43.59L10.3 9.45l-7.72 7.72c-.78.78-.78 2.05 0 2.83L4 21.41c.39.39.9.59 1.41.59.51 0 1.02-.2 1.41-.59l7.78-7.78 2.81-2.81c.8-.78.8-2.07 0-2.86zM5.41 20L4 18.59l7.72-7.72 1.47 1.35L5.41 20z\"/>\n",
              "  </svg>\n",
              "      </button>\n",
              "      \n",
              "  <style>\n",
              "    .colab-df-container {\n",
              "      display:flex;\n",
              "      flex-wrap:wrap;\n",
              "      gap: 12px;\n",
              "    }\n",
              "\n",
              "    .colab-df-convert {\n",
              "      background-color: #E8F0FE;\n",
              "      border: none;\n",
              "      border-radius: 50%;\n",
              "      cursor: pointer;\n",
              "      display: none;\n",
              "      fill: #1967D2;\n",
              "      height: 32px;\n",
              "      padding: 0 0 0 0;\n",
              "      width: 32px;\n",
              "    }\n",
              "\n",
              "    .colab-df-convert:hover {\n",
              "      background-color: #E2EBFA;\n",
              "      box-shadow: 0px 1px 2px rgba(60, 64, 67, 0.3), 0px 1px 3px 1px rgba(60, 64, 67, 0.15);\n",
              "      fill: #174EA6;\n",
              "    }\n",
              "\n",
              "    [theme=dark] .colab-df-convert {\n",
              "      background-color: #3B4455;\n",
              "      fill: #D2E3FC;\n",
              "    }\n",
              "\n",
              "    [theme=dark] .colab-df-convert:hover {\n",
              "      background-color: #434B5C;\n",
              "      box-shadow: 0px 1px 3px 1px rgba(0, 0, 0, 0.15);\n",
              "      filter: drop-shadow(0px 1px 2px rgba(0, 0, 0, 0.3));\n",
              "      fill: #FFFFFF;\n",
              "    }\n",
              "  </style>\n",
              "\n",
              "      <script>\n",
              "        const buttonEl =\n",
              "          document.querySelector('#df-33d5e554-1ddb-4323-a334-d42aea99a56f button.colab-df-convert');\n",
              "        buttonEl.style.display =\n",
              "          google.colab.kernel.accessAllowed ? 'block' : 'none';\n",
              "\n",
              "        async function convertToInteractive(key) {\n",
              "          const element = document.querySelector('#df-33d5e554-1ddb-4323-a334-d42aea99a56f');\n",
              "          const dataTable =\n",
              "            await google.colab.kernel.invokeFunction('convertToInteractive',\n",
              "                                                     [key], {});\n",
              "          if (!dataTable) return;\n",
              "\n",
              "          const docLinkHtml = 'Like what you see? Visit the ' +\n",
              "            '<a target=\"_blank\" href=https://colab.research.google.com/notebooks/data_table.ipynb>data table notebook</a>'\n",
              "            + ' to learn more about interactive tables.';\n",
              "          element.innerHTML = '';\n",
              "          dataTable['output_type'] = 'display_data';\n",
              "          await google.colab.output.renderOutput(dataTable, element);\n",
              "          const docLink = document.createElement('div');\n",
              "          docLink.innerHTML = docLinkHtml;\n",
              "          element.appendChild(docLink);\n",
              "        }\n",
              "      </script>\n",
              "    </div>\n",
              "  </div>\n",
              "  "
            ]
          },
          "metadata": {},
          "execution_count": 117
        }
      ]
    },
    {
      "cell_type": "markdown",
      "source": [
        "##Разметка\n",
        "\n",
        "В Python есть много уже готовых средств для анализа текста: nltk, pymorphy2, pymystem3, spaCy и т. д. Разные модули лучше работают для разных языков: из перечисленных первый лучше работает для английского, второй — для русского и украинского, третий — только для русского, четвёртый содержит модели для многих языков.\n",
        "\n",
        "Мы будем использовать [spaCy](https://spacy.io/). Это модуль, который обладает очень широкой функциональностью и содержит [обученные модели](https://spacy.io/models) для множества языков, в том числе для всех групп нашего курса, кроме арабской.\n",
        "\n",
        "Но осторожно — для конкретного языка может быть собственный, более точный инструмент!"
      ],
      "metadata": {
        "id": "R6oxg6TiMhMb"
      }
    },
    {
      "cell_type": "code",
      "source": [
        "#Скачиваем обученную для русского языка модель\n",
        "!python -m spacy download ru_core_news_md"
      ],
      "metadata": {
        "id": "8mKmkjR8PF9m"
      },
      "execution_count": null,
      "outputs": []
    },
    {
      "cell_type": "code",
      "source": [
        "#Загружаем модель\n",
        "nlp = spacy.load(\"ru_core_news_md\")"
      ],
      "metadata": {
        "id": "qHb-kDGJOlNy"
      },
      "execution_count": null,
      "outputs": []
    },
    {
      "cell_type": "markdown",
      "source": [
        "### Функциональность spaCy\n",
        "\n",
        "Теперь мы можем использовать загруженную модель, чтобы разбить текст на предложения, разбить предложения на слова, выполнить морфологическую и синтаксическую разметку и т. д."
      ],
      "metadata": {
        "id": "azMQ3DdvQpj6"
      }
    },
    {
      "cell_type": "code",
      "source": [
        "#Анализируем текст загруженной моделью\n",
        "\n",
        "text = '''Один человек небольшого роста сказал: \"Я согласен на все, только бы быть капельку повыше\". Только он это сказал, как смотрит — перед ним волшебница. А человек небольшого роста стоит и от страха ничего сказать не может.\n",
        "\n",
        "\"Ну?\" — говорит волшебница. А человек небольшого роста стоит и молчит. Волшебница исчезла. Тут человек небольшого роста начал плакать и кусать себе ногти. Сначала на руках ногти сгрыз, а потом на ногах.\n",
        "\n",
        "* * *\n",
        "\n",
        "Читатель, вдумайся в эту басню, и тебе станет не по себе.'''\n",
        "\n",
        "text_analyzed = nlp(text)"
      ],
      "metadata": {
        "id": "Gsk4F68cUme1"
      },
      "execution_count": null,
      "outputs": []
    },
    {
      "cell_type": "code",
      "source": [
        "#Выглядит новая переменная, как текст, но на самом деле это особый объект spaCy\n",
        "#в котором содержится много всего интересного\n",
        "\n",
        "text_analyzed"
      ],
      "metadata": {
        "colab": {
          "base_uri": "https://localhost:8080/"
        },
        "id": "AeIf0yi6WBzf",
        "outputId": "a0001294-bd8b-4a88-f80c-87f7e2b8e9a7"
      },
      "execution_count": null,
      "outputs": [
        {
          "output_type": "execute_result",
          "data": {
            "text/plain": [
              "Один человек небольшого роста сказал: \"Я согласен на все, только бы быть капельку повыше\". Только он это сказал, как смотрит — перед ним волшебница. А человек небольшого роста стоит и от страха ничего сказать не может.\n",
              "\n",
              "\"Ну?\" — говорит волшебница. А человек небольшого роста стоит и молчит. Волшебница исчезла. Тут человек небольшого роста начал плакать и кусать себе ногти. Сначала на руках ногти сгрыз, а потом на ногах.\n",
              "\n",
              "* * *\n",
              "\n",
              "Читатель, вдумайся в эту басню, и тебе станет не по себе."
            ]
          },
          "metadata": {},
          "execution_count": 13
        }
      ]
    },
    {
      "cell_type": "code",
      "source": [
        "#Делим на предложения\n",
        "\n",
        "sentences = [sent.text.strip() for sent in text_analyzed.sents]\n",
        "\n",
        "sentences[:3]"
      ],
      "metadata": {
        "colab": {
          "base_uri": "https://localhost:8080/"
        },
        "id": "lNWHtQrNWVpT",
        "outputId": "e9c28411-71d3-49da-f079-645836288c01"
      },
      "execution_count": null,
      "outputs": [
        {
          "output_type": "execute_result",
          "data": {
            "text/plain": [
              "['Один человек небольшого роста сказал: \"Я согласен на все, только бы быть капельку повыше\".',\n",
              " 'Только он это сказал, как смотрит — перед ним волшебница.',\n",
              " 'А человек небольшого роста стоит и от страха ничего сказать не может.']"
            ]
          },
          "metadata": {},
          "execution_count": 21
        }
      ]
    },
    {
      "cell_type": "code",
      "source": [
        "#Получаем сколько-то токенов\n",
        "\n",
        "tokens = [token.text.strip() for token in text_analyzed]\n",
        "\n",
        "tokens[:15]"
      ],
      "metadata": {
        "colab": {
          "base_uri": "https://localhost:8080/"
        },
        "id": "Mcd0ekgkXIaF",
        "outputId": "8cb0ffe6-e2b4-41ce-ea73-02a0988b6fe3"
      },
      "execution_count": null,
      "outputs": [
        {
          "output_type": "execute_result",
          "data": {
            "text/plain": [
              "['Один',\n",
              " 'человек',\n",
              " 'небольшого',\n",
              " 'роста',\n",
              " 'сказал',\n",
              " ':',\n",
              " '\"',\n",
              " 'Я',\n",
              " 'согласен',\n",
              " 'на',\n",
              " 'все',\n",
              " ',',\n",
              " 'только',\n",
              " 'бы',\n",
              " 'быть']"
            ]
          },
          "metadata": {},
          "execution_count": 30
        }
      ]
    },
    {
      "cell_type": "code",
      "source": [
        "#Лемматизация\n",
        "\n",
        "text_analyzed[4].lemma_"
      ],
      "metadata": {
        "colab": {
          "base_uri": "https://localhost:8080/",
          "height": 36
        },
        "id": "O97ahPySY_qq",
        "outputId": "bc713f1f-5ea7-430d-9185-80a706eae105"
      },
      "execution_count": null,
      "outputs": [
        {
          "output_type": "execute_result",
          "data": {
            "text/plain": [
              "'сказать'"
            ],
            "application/vnd.google.colaboratory.intrinsic+json": {
              "type": "string"
            }
          },
          "metadata": {},
          "execution_count": 31
        }
      ]
    },
    {
      "cell_type": "code",
      "source": [
        "#Часть речи\n",
        "\n",
        "text_analyzed[4].pos_"
      ],
      "metadata": {
        "colab": {
          "base_uri": "https://localhost:8080/",
          "height": 36
        },
        "id": "wB0f4_LZZnWu",
        "outputId": "b32c8d85-3985-4edd-edb8-e48eefe2c121"
      },
      "execution_count": null,
      "outputs": [
        {
          "output_type": "execute_result",
          "data": {
            "text/plain": [
              "'VERB'"
            ],
            "application/vnd.google.colaboratory.intrinsic+json": {
              "type": "string"
            }
          },
          "metadata": {},
          "execution_count": 32
        }
      ]
    },
    {
      "cell_type": "code",
      "source": [
        "#Морфологическая разметка\n",
        "\n",
        "text_analyzed[4].morph"
      ],
      "metadata": {
        "colab": {
          "base_uri": "https://localhost:8080/"
        },
        "id": "EUnVW2mAZy5j",
        "outputId": "b33b0de7-4f14-4d2b-eda5-b3ed34f98770"
      },
      "execution_count": null,
      "outputs": [
        {
          "output_type": "stream",
          "name": "stdout",
          "text": [
            "Aspect=Perf\n",
            "Gender=Masc\n",
            "Mood=Ind\n",
            "Number=Sing\n",
            "Tense=Past\n",
            "VerbForm=Fin\n",
            "Voice=Act\n"
          ]
        }
      ]
    },
    {
      "cell_type": "code",
      "source": [
        "#Это объект, по которому можно итерировать\n",
        "\n",
        "for morph in text_analyzed[4].morph:\n",
        "  print(morph)\n",
        "\n",
        "#Если нужны просто все грамматические признаки внутри строки, используйте str()"
      ],
      "metadata": {
        "colab": {
          "base_uri": "https://localhost:8080/"
        },
        "id": "jlUb3QoCbyla",
        "outputId": "5042243a-741c-49bc-cc58-00fe16d3a2a7"
      },
      "execution_count": null,
      "outputs": [
        {
          "output_type": "stream",
          "name": "stdout",
          "text": [
            "Aspect=Perf\n",
            "Gender=Masc\n",
            "Mood=Ind\n",
            "Number=Sing\n",
            "Tense=Past\n",
            "VerbForm=Fin\n",
            "Voice=Act\n"
          ]
        }
      ]
    },
    {
      "cell_type": "code",
      "source": [
        "#Синтаксическая разметка\n",
        "\n",
        "text_analyzed[1].dep_"
      ],
      "metadata": {
        "colab": {
          "base_uri": "https://localhost:8080/",
          "height": 36
        },
        "id": "Z8RDkwOPb_Cp",
        "outputId": "098477d3-e9a1-4fdb-a013-1987a8c330af"
      },
      "execution_count": null,
      "outputs": [
        {
          "output_type": "execute_result",
          "data": {
            "text/plain": [
              "'nsubj'"
            ],
            "application/vnd.google.colaboratory.intrinsic+json": {
              "type": "string"
            }
          },
          "metadata": {},
          "execution_count": 49
        }
      ]
    },
    {
      "cell_type": "code",
      "source": [
        "#Также можно узнать, от какого слова зависит то, которое вас интересует и какой\n",
        "#у него номер в редложении\n",
        "\n",
        "print(text_analyzed[1].dep_, text_analyzed[1].head,\n",
        "      text_analyzed[1].head.i, sep=', ')"
      ],
      "metadata": {
        "colab": {
          "base_uri": "https://localhost:8080/"
        },
        "id": "qQ1o4LpIcQRa",
        "outputId": "2521226b-8898-414a-a3a7-1da1a8da7048"
      },
      "execution_count": null,
      "outputs": [
        {
          "output_type": "stream",
          "name": "stdout",
          "text": [
            "nsubj, сказал, 4, [Один, человек, небольшого, роста]\n"
          ]
        }
      ]
    },
    {
      "cell_type": "markdown",
      "source": [
        "Больше о разметке можно прочесть [здесь](https://spacy.io/usage/linguistic-features)."
      ],
      "metadata": {
        "id": "h28r_U-VgB9x"
      }
    },
    {
      "cell_type": "markdown",
      "source": [
        "#Задание\n",
        "\n",
        "Получите морфологическую и синтаксическую разметку для первых трёх токенов из любой новости. Выведите её влюбом удобном виде."
      ],
      "metadata": {
        "id": "Ukb7aYnSgZg7"
      }
    },
    {
      "cell_type": "code",
      "source": [
        "#Впишите сюда код\n",
        "\n"
      ],
      "metadata": {
        "id": "hvXVKpsAgqGS"
      },
      "execution_count": null,
      "outputs": []
    },
    {
      "cell_type": "markdown",
      "source": [
        "## Структура корпуса\n",
        "\n",
        "Перед тем как продолжать, необходимо продумать структуру корпуса. Есть мета-информация о текстах, есть разметка по словам, гипотетически может быть разметка на уровне предложений. Всю эту информацию имеет смысл не смешивать, а хранить в отдельных табличках (при этом мы фактически создаём реляционную базу данных).\n",
        "\n",
        "Для наших целей оставим две таблички: одну, которую мы уже загрузили, и вторую, в которой будет разметка для каждого слова."
      ],
      "metadata": {
        "id": "-UMFE7qHL4kE"
      }
    },
    {
      "cell_type": "code",
      "source": [
        "#Пройдёмся по каждому слову каждой из новостей и добавим в новую табличку\n",
        "cols = ['index', 'text_index', 'word', 'lemma', 'pos', 'morph',\n",
        "        'synt_relation', 'head']\n",
        "words = []\n",
        "\n",
        "for text_index, row in enumerate(panorama_corpus['text']):\n",
        "  news_nlp = nlp(row)\n",
        "  for word_index, word in enumerate(news_nlp):\n",
        "    words.append([word_index, text_index, word, word.lemma_, word.pos_,\n",
        "                  str(word.morph), word.dep_, word.head])\n",
        "\n",
        "panorama_by_word = pd.DataFrame(words, columns = cols)"
      ],
      "metadata": {
        "id": "Qzo9bSOaizdl"
      },
      "execution_count": null,
      "outputs": []
    },
    {
      "cell_type": "code",
      "source": [
        "panorama_by_word.head()"
      ],
      "metadata": {
        "colab": {
          "base_uri": "https://localhost:8080/",
          "height": 270
        },
        "id": "s7XgGYowmFvP",
        "outputId": "2cd8bff1-646b-4843-8193-1d8dc0f3ce5a"
      },
      "execution_count": null,
      "outputs": [
        {
          "output_type": "execute_result",
          "data": {
            "text/plain": [
              "   index  text_index             word            lemma   pos  \\\n",
              "0      0           0  Государственная  государственный   ADJ   \n",
              "1      1           0             дума             дума  NOUN   \n",
              "2      2           0          приняла          принять  VERB   \n",
              "3      3           0                в                в   ADP   \n",
              "4      4           0          третьем           третий   ADJ   \n",
              "\n",
              "                                               morph synt_relation     head  \n",
              "0         Case=Nom|Degree=Pos|Gender=Fem|Number=Sing          amod     дума  \n",
              "1       Animacy=Inan|Case=Nom|Gender=Fem|Number=Sing         nsubj  приняла  \n",
              "2  Aspect=Perf|Gender=Fem|Mood=Ind|Number=Sing|Te...          ROOT  приняла  \n",
              "3                                                             case   чтении  \n",
              "4        Case=Loc|Degree=Pos|Gender=Neut|Number=Sing          amod   чтении  "
            ],
            "text/html": [
              "\n",
              "  <div id=\"df-e24f4707-52b7-455c-8178-ae645f58a64c\">\n",
              "    <div class=\"colab-df-container\">\n",
              "      <div>\n",
              "<style scoped>\n",
              "    .dataframe tbody tr th:only-of-type {\n",
              "        vertical-align: middle;\n",
              "    }\n",
              "\n",
              "    .dataframe tbody tr th {\n",
              "        vertical-align: top;\n",
              "    }\n",
              "\n",
              "    .dataframe thead th {\n",
              "        text-align: right;\n",
              "    }\n",
              "</style>\n",
              "<table border=\"1\" class=\"dataframe\">\n",
              "  <thead>\n",
              "    <tr style=\"text-align: right;\">\n",
              "      <th></th>\n",
              "      <th>index</th>\n",
              "      <th>text_index</th>\n",
              "      <th>word</th>\n",
              "      <th>lemma</th>\n",
              "      <th>pos</th>\n",
              "      <th>morph</th>\n",
              "      <th>synt_relation</th>\n",
              "      <th>head</th>\n",
              "    </tr>\n",
              "  </thead>\n",
              "  <tbody>\n",
              "    <tr>\n",
              "      <th>0</th>\n",
              "      <td>0</td>\n",
              "      <td>0</td>\n",
              "      <td>Государственная</td>\n",
              "      <td>государственный</td>\n",
              "      <td>ADJ</td>\n",
              "      <td>Case=Nom|Degree=Pos|Gender=Fem|Number=Sing</td>\n",
              "      <td>amod</td>\n",
              "      <td>дума</td>\n",
              "    </tr>\n",
              "    <tr>\n",
              "      <th>1</th>\n",
              "      <td>1</td>\n",
              "      <td>0</td>\n",
              "      <td>дума</td>\n",
              "      <td>дума</td>\n",
              "      <td>NOUN</td>\n",
              "      <td>Animacy=Inan|Case=Nom|Gender=Fem|Number=Sing</td>\n",
              "      <td>nsubj</td>\n",
              "      <td>приняла</td>\n",
              "    </tr>\n",
              "    <tr>\n",
              "      <th>2</th>\n",
              "      <td>2</td>\n",
              "      <td>0</td>\n",
              "      <td>приняла</td>\n",
              "      <td>принять</td>\n",
              "      <td>VERB</td>\n",
              "      <td>Aspect=Perf|Gender=Fem|Mood=Ind|Number=Sing|Te...</td>\n",
              "      <td>ROOT</td>\n",
              "      <td>приняла</td>\n",
              "    </tr>\n",
              "    <tr>\n",
              "      <th>3</th>\n",
              "      <td>3</td>\n",
              "      <td>0</td>\n",
              "      <td>в</td>\n",
              "      <td>в</td>\n",
              "      <td>ADP</td>\n",
              "      <td></td>\n",
              "      <td>case</td>\n",
              "      <td>чтении</td>\n",
              "    </tr>\n",
              "    <tr>\n",
              "      <th>4</th>\n",
              "      <td>4</td>\n",
              "      <td>0</td>\n",
              "      <td>третьем</td>\n",
              "      <td>третий</td>\n",
              "      <td>ADJ</td>\n",
              "      <td>Case=Loc|Degree=Pos|Gender=Neut|Number=Sing</td>\n",
              "      <td>amod</td>\n",
              "      <td>чтении</td>\n",
              "    </tr>\n",
              "  </tbody>\n",
              "</table>\n",
              "</div>\n",
              "      <button class=\"colab-df-convert\" onclick=\"convertToInteractive('df-e24f4707-52b7-455c-8178-ae645f58a64c')\"\n",
              "              title=\"Convert this dataframe to an interactive table.\"\n",
              "              style=\"display:none;\">\n",
              "        \n",
              "  <svg xmlns=\"http://www.w3.org/2000/svg\" height=\"24px\"viewBox=\"0 0 24 24\"\n",
              "       width=\"24px\">\n",
              "    <path d=\"M0 0h24v24H0V0z\" fill=\"none\"/>\n",
              "    <path d=\"M18.56 5.44l.94 2.06.94-2.06 2.06-.94-2.06-.94-.94-2.06-.94 2.06-2.06.94zm-11 1L8.5 8.5l.94-2.06 2.06-.94-2.06-.94L8.5 2.5l-.94 2.06-2.06.94zm10 10l.94 2.06.94-2.06 2.06-.94-2.06-.94-.94-2.06-.94 2.06-2.06.94z\"/><path d=\"M17.41 7.96l-1.37-1.37c-.4-.4-.92-.59-1.43-.59-.52 0-1.04.2-1.43.59L10.3 9.45l-7.72 7.72c-.78.78-.78 2.05 0 2.83L4 21.41c.39.39.9.59 1.41.59.51 0 1.02-.2 1.41-.59l7.78-7.78 2.81-2.81c.8-.78.8-2.07 0-2.86zM5.41 20L4 18.59l7.72-7.72 1.47 1.35L5.41 20z\"/>\n",
              "  </svg>\n",
              "      </button>\n",
              "      \n",
              "  <style>\n",
              "    .colab-df-container {\n",
              "      display:flex;\n",
              "      flex-wrap:wrap;\n",
              "      gap: 12px;\n",
              "    }\n",
              "\n",
              "    .colab-df-convert {\n",
              "      background-color: #E8F0FE;\n",
              "      border: none;\n",
              "      border-radius: 50%;\n",
              "      cursor: pointer;\n",
              "      display: none;\n",
              "      fill: #1967D2;\n",
              "      height: 32px;\n",
              "      padding: 0 0 0 0;\n",
              "      width: 32px;\n",
              "    }\n",
              "\n",
              "    .colab-df-convert:hover {\n",
              "      background-color: #E2EBFA;\n",
              "      box-shadow: 0px 1px 2px rgba(60, 64, 67, 0.3), 0px 1px 3px 1px rgba(60, 64, 67, 0.15);\n",
              "      fill: #174EA6;\n",
              "    }\n",
              "\n",
              "    [theme=dark] .colab-df-convert {\n",
              "      background-color: #3B4455;\n",
              "      fill: #D2E3FC;\n",
              "    }\n",
              "\n",
              "    [theme=dark] .colab-df-convert:hover {\n",
              "      background-color: #434B5C;\n",
              "      box-shadow: 0px 1px 3px 1px rgba(0, 0, 0, 0.15);\n",
              "      filter: drop-shadow(0px 1px 2px rgba(0, 0, 0, 0.3));\n",
              "      fill: #FFFFFF;\n",
              "    }\n",
              "  </style>\n",
              "\n",
              "      <script>\n",
              "        const buttonEl =\n",
              "          document.querySelector('#df-e24f4707-52b7-455c-8178-ae645f58a64c button.colab-df-convert');\n",
              "        buttonEl.style.display =\n",
              "          google.colab.kernel.accessAllowed ? 'block' : 'none';\n",
              "\n",
              "        async function convertToInteractive(key) {\n",
              "          const element = document.querySelector('#df-e24f4707-52b7-455c-8178-ae645f58a64c');\n",
              "          const dataTable =\n",
              "            await google.colab.kernel.invokeFunction('convertToInteractive',\n",
              "                                                     [key], {});\n",
              "          if (!dataTable) return;\n",
              "\n",
              "          const docLinkHtml = 'Like what you see? Visit the ' +\n",
              "            '<a target=\"_blank\" href=https://colab.research.google.com/notebooks/data_table.ipynb>data table notebook</a>'\n",
              "            + ' to learn more about interactive tables.';\n",
              "          element.innerHTML = '';\n",
              "          dataTable['output_type'] = 'display_data';\n",
              "          await google.colab.output.renderOutput(dataTable, element);\n",
              "          const docLink = document.createElement('div');\n",
              "          docLink.innerHTML = docLinkHtml;\n",
              "          element.appendChild(docLink);\n",
              "        }\n",
              "      </script>\n",
              "    </div>\n",
              "  </div>\n",
              "  "
            ]
          },
          "metadata": {},
          "execution_count": 99
        }
      ]
    },
    {
      "cell_type": "markdown",
      "source": [
        "##Работа с таблицами с помощью Pandas\n",
        "\n",
        "С полученной таблицей можно сделать очень много всего: извлечь любые данные, аггрегировать, представить в виде, удобном для построения графиков или статистического анализа."
      ],
      "metadata": {
        "id": "pWSYmPlgnwAT"
      }
    },
    {
      "cell_type": "code",
      "source": [
        "#Ищем по любой колонке — например, по лемме\n",
        "\n",
        "panorama_by_word[panorama_by_word['lemma'] == 'стол']"
      ],
      "metadata": {
        "colab": {
          "base_uri": "https://localhost:8080/",
          "height": 395
        },
        "id": "1bOReoJLq_mx",
        "outputId": "76efecb9-381c-48c4-f7f8-f5f723e70fa5"
      },
      "execution_count": null,
      "outputs": [
        {
          "output_type": "execute_result",
          "data": {
            "text/plain": [
              "        index  text_index    word lemma   pos  \\\n",
              "14768     101          79   столу  стол  NOUN   \n",
              "39515     120         210   стола  стол  NOUN   \n",
              "74189     287         389   столе  стол  NOUN   \n",
              "81556     135         423   столы  стол  NOUN   \n",
              "81814     188         424  столах  стол  NOUN   \n",
              "93824      74         488    стол  стол  NOUN   \n",
              "109221      4         569    стол  стол  NOUN   \n",
              "110873      3         578   стола  стол  NOUN   \n",
              "112665     77         587    стол  стол  NOUN   \n",
              "\n",
              "                                                morph synt_relation  \\\n",
              "14768   Animacy=Inan|Case=Dat|Gender=Masc|Number=Sing           obl   \n",
              "39515   Animacy=Inan|Case=Gen|Gender=Masc|Number=Sing           obl   \n",
              "74189   Animacy=Inan|Case=Loc|Gender=Masc|Number=Sing          nmod   \n",
              "81556   Animacy=Inan|Case=Acc|Gender=Masc|Number=Plur           obj   \n",
              "81814   Animacy=Inan|Case=Loc|Gender=Masc|Number=Plur           obl   \n",
              "93824   Animacy=Inan|Case=Acc|Gender=Masc|Number=Sing           obj   \n",
              "109221  Animacy=Inan|Case=Acc|Gender=Masc|Number=Sing           obj   \n",
              "110873  Animacy=Inan|Case=Gen|Gender=Masc|Number=Sing           obl   \n",
              "112665  Animacy=Inan|Case=Nom|Gender=Masc|Number=Sing    nsubj:pass   \n",
              "\n",
              "                head  \n",
              "14768        подавал  \n",
              "39515     приобрести  \n",
              "74189      появления  \n",
              "81556     предлагают  \n",
              "81814           есть  \n",
              "93824        накрыть  \n",
              "109221  анонсировала  \n",
              "110873      обсудили  \n",
              "112665      проведён  "
            ],
            "text/html": [
              "\n",
              "  <div id=\"df-a3fba78c-c988-4438-ab3f-d03fbe9e8f69\">\n",
              "    <div class=\"colab-df-container\">\n",
              "      <div>\n",
              "<style scoped>\n",
              "    .dataframe tbody tr th:only-of-type {\n",
              "        vertical-align: middle;\n",
              "    }\n",
              "\n",
              "    .dataframe tbody tr th {\n",
              "        vertical-align: top;\n",
              "    }\n",
              "\n",
              "    .dataframe thead th {\n",
              "        text-align: right;\n",
              "    }\n",
              "</style>\n",
              "<table border=\"1\" class=\"dataframe\">\n",
              "  <thead>\n",
              "    <tr style=\"text-align: right;\">\n",
              "      <th></th>\n",
              "      <th>index</th>\n",
              "      <th>text_index</th>\n",
              "      <th>word</th>\n",
              "      <th>lemma</th>\n",
              "      <th>pos</th>\n",
              "      <th>morph</th>\n",
              "      <th>synt_relation</th>\n",
              "      <th>head</th>\n",
              "    </tr>\n",
              "  </thead>\n",
              "  <tbody>\n",
              "    <tr>\n",
              "      <th>14768</th>\n",
              "      <td>101</td>\n",
              "      <td>79</td>\n",
              "      <td>столу</td>\n",
              "      <td>стол</td>\n",
              "      <td>NOUN</td>\n",
              "      <td>Animacy=Inan|Case=Dat|Gender=Masc|Number=Sing</td>\n",
              "      <td>obl</td>\n",
              "      <td>подавал</td>\n",
              "    </tr>\n",
              "    <tr>\n",
              "      <th>39515</th>\n",
              "      <td>120</td>\n",
              "      <td>210</td>\n",
              "      <td>стола</td>\n",
              "      <td>стол</td>\n",
              "      <td>NOUN</td>\n",
              "      <td>Animacy=Inan|Case=Gen|Gender=Masc|Number=Sing</td>\n",
              "      <td>obl</td>\n",
              "      <td>приобрести</td>\n",
              "    </tr>\n",
              "    <tr>\n",
              "      <th>74189</th>\n",
              "      <td>287</td>\n",
              "      <td>389</td>\n",
              "      <td>столе</td>\n",
              "      <td>стол</td>\n",
              "      <td>NOUN</td>\n",
              "      <td>Animacy=Inan|Case=Loc|Gender=Masc|Number=Sing</td>\n",
              "      <td>nmod</td>\n",
              "      <td>появления</td>\n",
              "    </tr>\n",
              "    <tr>\n",
              "      <th>81556</th>\n",
              "      <td>135</td>\n",
              "      <td>423</td>\n",
              "      <td>столы</td>\n",
              "      <td>стол</td>\n",
              "      <td>NOUN</td>\n",
              "      <td>Animacy=Inan|Case=Acc|Gender=Masc|Number=Plur</td>\n",
              "      <td>obj</td>\n",
              "      <td>предлагают</td>\n",
              "    </tr>\n",
              "    <tr>\n",
              "      <th>81814</th>\n",
              "      <td>188</td>\n",
              "      <td>424</td>\n",
              "      <td>столах</td>\n",
              "      <td>стол</td>\n",
              "      <td>NOUN</td>\n",
              "      <td>Animacy=Inan|Case=Loc|Gender=Masc|Number=Plur</td>\n",
              "      <td>obl</td>\n",
              "      <td>есть</td>\n",
              "    </tr>\n",
              "    <tr>\n",
              "      <th>93824</th>\n",
              "      <td>74</td>\n",
              "      <td>488</td>\n",
              "      <td>стол</td>\n",
              "      <td>стол</td>\n",
              "      <td>NOUN</td>\n",
              "      <td>Animacy=Inan|Case=Acc|Gender=Masc|Number=Sing</td>\n",
              "      <td>obj</td>\n",
              "      <td>накрыть</td>\n",
              "    </tr>\n",
              "    <tr>\n",
              "      <th>109221</th>\n",
              "      <td>4</td>\n",
              "      <td>569</td>\n",
              "      <td>стол</td>\n",
              "      <td>стол</td>\n",
              "      <td>NOUN</td>\n",
              "      <td>Animacy=Inan|Case=Acc|Gender=Masc|Number=Sing</td>\n",
              "      <td>obj</td>\n",
              "      <td>анонсировала</td>\n",
              "    </tr>\n",
              "    <tr>\n",
              "      <th>110873</th>\n",
              "      <td>3</td>\n",
              "      <td>578</td>\n",
              "      <td>стола</td>\n",
              "      <td>стол</td>\n",
              "      <td>NOUN</td>\n",
              "      <td>Animacy=Inan|Case=Gen|Gender=Masc|Number=Sing</td>\n",
              "      <td>obl</td>\n",
              "      <td>обсудили</td>\n",
              "    </tr>\n",
              "    <tr>\n",
              "      <th>112665</th>\n",
              "      <td>77</td>\n",
              "      <td>587</td>\n",
              "      <td>стол</td>\n",
              "      <td>стол</td>\n",
              "      <td>NOUN</td>\n",
              "      <td>Animacy=Inan|Case=Nom|Gender=Masc|Number=Sing</td>\n",
              "      <td>nsubj:pass</td>\n",
              "      <td>проведён</td>\n",
              "    </tr>\n",
              "  </tbody>\n",
              "</table>\n",
              "</div>\n",
              "      <button class=\"colab-df-convert\" onclick=\"convertToInteractive('df-a3fba78c-c988-4438-ab3f-d03fbe9e8f69')\"\n",
              "              title=\"Convert this dataframe to an interactive table.\"\n",
              "              style=\"display:none;\">\n",
              "        \n",
              "  <svg xmlns=\"http://www.w3.org/2000/svg\" height=\"24px\"viewBox=\"0 0 24 24\"\n",
              "       width=\"24px\">\n",
              "    <path d=\"M0 0h24v24H0V0z\" fill=\"none\"/>\n",
              "    <path d=\"M18.56 5.44l.94 2.06.94-2.06 2.06-.94-2.06-.94-.94-2.06-.94 2.06-2.06.94zm-11 1L8.5 8.5l.94-2.06 2.06-.94-2.06-.94L8.5 2.5l-.94 2.06-2.06.94zm10 10l.94 2.06.94-2.06 2.06-.94-2.06-.94-.94-2.06-.94 2.06-2.06.94z\"/><path d=\"M17.41 7.96l-1.37-1.37c-.4-.4-.92-.59-1.43-.59-.52 0-1.04.2-1.43.59L10.3 9.45l-7.72 7.72c-.78.78-.78 2.05 0 2.83L4 21.41c.39.39.9.59 1.41.59.51 0 1.02-.2 1.41-.59l7.78-7.78 2.81-2.81c.8-.78.8-2.07 0-2.86zM5.41 20L4 18.59l7.72-7.72 1.47 1.35L5.41 20z\"/>\n",
              "  </svg>\n",
              "      </button>\n",
              "      \n",
              "  <style>\n",
              "    .colab-df-container {\n",
              "      display:flex;\n",
              "      flex-wrap:wrap;\n",
              "      gap: 12px;\n",
              "    }\n",
              "\n",
              "    .colab-df-convert {\n",
              "      background-color: #E8F0FE;\n",
              "      border: none;\n",
              "      border-radius: 50%;\n",
              "      cursor: pointer;\n",
              "      display: none;\n",
              "      fill: #1967D2;\n",
              "      height: 32px;\n",
              "      padding: 0 0 0 0;\n",
              "      width: 32px;\n",
              "    }\n",
              "\n",
              "    .colab-df-convert:hover {\n",
              "      background-color: #E2EBFA;\n",
              "      box-shadow: 0px 1px 2px rgba(60, 64, 67, 0.3), 0px 1px 3px 1px rgba(60, 64, 67, 0.15);\n",
              "      fill: #174EA6;\n",
              "    }\n",
              "\n",
              "    [theme=dark] .colab-df-convert {\n",
              "      background-color: #3B4455;\n",
              "      fill: #D2E3FC;\n",
              "    }\n",
              "\n",
              "    [theme=dark] .colab-df-convert:hover {\n",
              "      background-color: #434B5C;\n",
              "      box-shadow: 0px 1px 3px 1px rgba(0, 0, 0, 0.15);\n",
              "      filter: drop-shadow(0px 1px 2px rgba(0, 0, 0, 0.3));\n",
              "      fill: #FFFFFF;\n",
              "    }\n",
              "  </style>\n",
              "\n",
              "      <script>\n",
              "        const buttonEl =\n",
              "          document.querySelector('#df-a3fba78c-c988-4438-ab3f-d03fbe9e8f69 button.colab-df-convert');\n",
              "        buttonEl.style.display =\n",
              "          google.colab.kernel.accessAllowed ? 'block' : 'none';\n",
              "\n",
              "        async function convertToInteractive(key) {\n",
              "          const element = document.querySelector('#df-a3fba78c-c988-4438-ab3f-d03fbe9e8f69');\n",
              "          const dataTable =\n",
              "            await google.colab.kernel.invokeFunction('convertToInteractive',\n",
              "                                                     [key], {});\n",
              "          if (!dataTable) return;\n",
              "\n",
              "          const docLinkHtml = 'Like what you see? Visit the ' +\n",
              "            '<a target=\"_blank\" href=https://colab.research.google.com/notebooks/data_table.ipynb>data table notebook</a>'\n",
              "            + ' to learn more about interactive tables.';\n",
              "          element.innerHTML = '';\n",
              "          dataTable['output_type'] = 'display_data';\n",
              "          await google.colab.output.renderOutput(dataTable, element);\n",
              "          const docLink = document.createElement('div');\n",
              "          docLink.innerHTML = docLinkHtml;\n",
              "          element.appendChild(docLink);\n",
              "        }\n",
              "      </script>\n",
              "    </div>\n",
              "  </div>\n",
              "  "
            ]
          },
          "metadata": {},
          "execution_count": 101
        }
      ]
    },
    {
      "cell_type": "code",
      "source": [
        "#Ищем по больше, чем одному параметру\n",
        "\n",
        "panorama_by_word[(panorama_by_word['lemma'] == 'стол') &\n",
        "                 (panorama_by_word['synt_relation'] == 'obj')]"
      ],
      "metadata": {
        "colab": {
          "base_uri": "https://localhost:8080/",
          "height": 207
        },
        "id": "YYLKdmNYrUdC",
        "outputId": "8f6567b6-2f21-48c4-e4d3-55af44c973c5"
      },
      "execution_count": null,
      "outputs": [
        {
          "output_type": "execute_result",
          "data": {
            "text/plain": [
              "        index  text_index   word lemma   pos  \\\n",
              "81556     135         423  столы  стол  NOUN   \n",
              "93824      74         488   стол  стол  NOUN   \n",
              "109221      4         569   стол  стол  NOUN   \n",
              "\n",
              "                                                morph synt_relation  \\\n",
              "81556   Animacy=Inan|Case=Acc|Gender=Masc|Number=Plur           obj   \n",
              "93824   Animacy=Inan|Case=Acc|Gender=Masc|Number=Sing           obj   \n",
              "109221  Animacy=Inan|Case=Acc|Gender=Masc|Number=Sing           obj   \n",
              "\n",
              "                head  \n",
              "81556     предлагают  \n",
              "93824        накрыть  \n",
              "109221  анонсировала  "
            ],
            "text/html": [
              "\n",
              "  <div id=\"df-3f59d95b-15c0-48e9-9f6f-aec6803a49e7\">\n",
              "    <div class=\"colab-df-container\">\n",
              "      <div>\n",
              "<style scoped>\n",
              "    .dataframe tbody tr th:only-of-type {\n",
              "        vertical-align: middle;\n",
              "    }\n",
              "\n",
              "    .dataframe tbody tr th {\n",
              "        vertical-align: top;\n",
              "    }\n",
              "\n",
              "    .dataframe thead th {\n",
              "        text-align: right;\n",
              "    }\n",
              "</style>\n",
              "<table border=\"1\" class=\"dataframe\">\n",
              "  <thead>\n",
              "    <tr style=\"text-align: right;\">\n",
              "      <th></th>\n",
              "      <th>index</th>\n",
              "      <th>text_index</th>\n",
              "      <th>word</th>\n",
              "      <th>lemma</th>\n",
              "      <th>pos</th>\n",
              "      <th>morph</th>\n",
              "      <th>synt_relation</th>\n",
              "      <th>head</th>\n",
              "    </tr>\n",
              "  </thead>\n",
              "  <tbody>\n",
              "    <tr>\n",
              "      <th>81556</th>\n",
              "      <td>135</td>\n",
              "      <td>423</td>\n",
              "      <td>столы</td>\n",
              "      <td>стол</td>\n",
              "      <td>NOUN</td>\n",
              "      <td>Animacy=Inan|Case=Acc|Gender=Masc|Number=Plur</td>\n",
              "      <td>obj</td>\n",
              "      <td>предлагают</td>\n",
              "    </tr>\n",
              "    <tr>\n",
              "      <th>93824</th>\n",
              "      <td>74</td>\n",
              "      <td>488</td>\n",
              "      <td>стол</td>\n",
              "      <td>стол</td>\n",
              "      <td>NOUN</td>\n",
              "      <td>Animacy=Inan|Case=Acc|Gender=Masc|Number=Sing</td>\n",
              "      <td>obj</td>\n",
              "      <td>накрыть</td>\n",
              "    </tr>\n",
              "    <tr>\n",
              "      <th>109221</th>\n",
              "      <td>4</td>\n",
              "      <td>569</td>\n",
              "      <td>стол</td>\n",
              "      <td>стол</td>\n",
              "      <td>NOUN</td>\n",
              "      <td>Animacy=Inan|Case=Acc|Gender=Masc|Number=Sing</td>\n",
              "      <td>obj</td>\n",
              "      <td>анонсировала</td>\n",
              "    </tr>\n",
              "  </tbody>\n",
              "</table>\n",
              "</div>\n",
              "      <button class=\"colab-df-convert\" onclick=\"convertToInteractive('df-3f59d95b-15c0-48e9-9f6f-aec6803a49e7')\"\n",
              "              title=\"Convert this dataframe to an interactive table.\"\n",
              "              style=\"display:none;\">\n",
              "        \n",
              "  <svg xmlns=\"http://www.w3.org/2000/svg\" height=\"24px\"viewBox=\"0 0 24 24\"\n",
              "       width=\"24px\">\n",
              "    <path d=\"M0 0h24v24H0V0z\" fill=\"none\"/>\n",
              "    <path d=\"M18.56 5.44l.94 2.06.94-2.06 2.06-.94-2.06-.94-.94-2.06-.94 2.06-2.06.94zm-11 1L8.5 8.5l.94-2.06 2.06-.94-2.06-.94L8.5 2.5l-.94 2.06-2.06.94zm10 10l.94 2.06.94-2.06 2.06-.94-2.06-.94-.94-2.06-.94 2.06-2.06.94z\"/><path d=\"M17.41 7.96l-1.37-1.37c-.4-.4-.92-.59-1.43-.59-.52 0-1.04.2-1.43.59L10.3 9.45l-7.72 7.72c-.78.78-.78 2.05 0 2.83L4 21.41c.39.39.9.59 1.41.59.51 0 1.02-.2 1.41-.59l7.78-7.78 2.81-2.81c.8-.78.8-2.07 0-2.86zM5.41 20L4 18.59l7.72-7.72 1.47 1.35L5.41 20z\"/>\n",
              "  </svg>\n",
              "      </button>\n",
              "      \n",
              "  <style>\n",
              "    .colab-df-container {\n",
              "      display:flex;\n",
              "      flex-wrap:wrap;\n",
              "      gap: 12px;\n",
              "    }\n",
              "\n",
              "    .colab-df-convert {\n",
              "      background-color: #E8F0FE;\n",
              "      border: none;\n",
              "      border-radius: 50%;\n",
              "      cursor: pointer;\n",
              "      display: none;\n",
              "      fill: #1967D2;\n",
              "      height: 32px;\n",
              "      padding: 0 0 0 0;\n",
              "      width: 32px;\n",
              "    }\n",
              "\n",
              "    .colab-df-convert:hover {\n",
              "      background-color: #E2EBFA;\n",
              "      box-shadow: 0px 1px 2px rgba(60, 64, 67, 0.3), 0px 1px 3px 1px rgba(60, 64, 67, 0.15);\n",
              "      fill: #174EA6;\n",
              "    }\n",
              "\n",
              "    [theme=dark] .colab-df-convert {\n",
              "      background-color: #3B4455;\n",
              "      fill: #D2E3FC;\n",
              "    }\n",
              "\n",
              "    [theme=dark] .colab-df-convert:hover {\n",
              "      background-color: #434B5C;\n",
              "      box-shadow: 0px 1px 3px 1px rgba(0, 0, 0, 0.15);\n",
              "      filter: drop-shadow(0px 1px 2px rgba(0, 0, 0, 0.3));\n",
              "      fill: #FFFFFF;\n",
              "    }\n",
              "  </style>\n",
              "\n",
              "      <script>\n",
              "        const buttonEl =\n",
              "          document.querySelector('#df-3f59d95b-15c0-48e9-9f6f-aec6803a49e7 button.colab-df-convert');\n",
              "        buttonEl.style.display =\n",
              "          google.colab.kernel.accessAllowed ? 'block' : 'none';\n",
              "\n",
              "        async function convertToInteractive(key) {\n",
              "          const element = document.querySelector('#df-3f59d95b-15c0-48e9-9f6f-aec6803a49e7');\n",
              "          const dataTable =\n",
              "            await google.colab.kernel.invokeFunction('convertToInteractive',\n",
              "                                                     [key], {});\n",
              "          if (!dataTable) return;\n",
              "\n",
              "          const docLinkHtml = 'Like what you see? Visit the ' +\n",
              "            '<a target=\"_blank\" href=https://colab.research.google.com/notebooks/data_table.ipynb>data table notebook</a>'\n",
              "            + ' to learn more about interactive tables.';\n",
              "          element.innerHTML = '';\n",
              "          dataTable['output_type'] = 'display_data';\n",
              "          await google.colab.output.renderOutput(dataTable, element);\n",
              "          const docLink = document.createElement('div');\n",
              "          docLink.innerHTML = docLinkHtml;\n",
              "          element.appendChild(docLink);\n",
              "        }\n",
              "      </script>\n",
              "    </div>\n",
              "  </div>\n",
              "  "
            ]
          },
          "metadata": {},
          "execution_count": 102
        }
      ]
    },
    {
      "cell_type": "code",
      "source": [
        "#Создаём частотный список для столбца\n",
        "#.groupby() группирует таблицу по значением одного из столбцов, собирает вместе\n",
        "#После этого со сгруппированными значениями можно что-то сделать: посчитать,\n",
        "#сложить, найти среднее и т. д. Методы .size() и .count() — считают элементы\n",
        "\n",
        "panorama_by_word.groupby('lemma').size().nlargest(5)"
      ],
      "metadata": {
        "colab": {
          "base_uri": "https://localhost:8080/"
        },
        "id": "_WojmgMJrvjs",
        "outputId": "2e1792bf-287c-4c48-f414-5162bd63b639"
      },
      "execution_count": null,
      "outputs": [
        {
          "output_type": "execute_result",
          "data": {
            "text/plain": [
              "lemma\n",
              ",    8146\n",
              ".    5532\n",
              "в    4142\n",
              "\"    3463\n",
              "и    2732\n",
              "dtype: int64"
            ]
          },
          "metadata": {},
          "execution_count": 104
        }
      ]
    },
    {
      "cell_type": "markdown",
      "source": [
        "# Задание\n",
        "\n",
        "Посчитайте количество лемм так, чтобы среди них не учитывались пунктуационные знаки."
      ],
      "metadata": {
        "id": "3nCN1JxHrUEv"
      }
    },
    {
      "cell_type": "code",
      "source": [
        "#Впишите сюда свой код\n",
        "\n"
      ],
      "metadata": {
        "id": "WSp20AfF0qU1"
      },
      "execution_count": null,
      "outputs": []
    },
    {
      "cell_type": "code",
      "source": [
        "# Можно искать по подстроке, а не по полному совпадению\n",
        "\n",
        "panorama_by_word[(panorama_by_word['lemma'] == 'стол') &\n",
        "                 (panorama_by_word['morph'].str.contains('Number=Plur'))]"
      ],
      "metadata": {
        "colab": {
          "base_uri": "https://localhost:8080/",
          "height": 176
        },
        "id": "ibORLLld0z_T",
        "outputId": "5572c102-cd10-4289-9825-abcdddbfa2be"
      },
      "execution_count": null,
      "outputs": [
        {
          "output_type": "execute_result",
          "data": {
            "text/plain": [
              "       index  text_index    word lemma   pos  \\\n",
              "81556    135         423   столы  стол  NOUN   \n",
              "81814    188         424  столах  стол  NOUN   \n",
              "\n",
              "                                               morph synt_relation        head  \n",
              "81556  Animacy=Inan|Case=Acc|Gender=Masc|Number=Plur           obj  предлагают  \n",
              "81814  Animacy=Inan|Case=Loc|Gender=Masc|Number=Plur           obl        есть  "
            ],
            "text/html": [
              "\n",
              "  <div id=\"df-3fc67e1a-1312-4f62-9136-a2a9c2090b1f\">\n",
              "    <div class=\"colab-df-container\">\n",
              "      <div>\n",
              "<style scoped>\n",
              "    .dataframe tbody tr th:only-of-type {\n",
              "        vertical-align: middle;\n",
              "    }\n",
              "\n",
              "    .dataframe tbody tr th {\n",
              "        vertical-align: top;\n",
              "    }\n",
              "\n",
              "    .dataframe thead th {\n",
              "        text-align: right;\n",
              "    }\n",
              "</style>\n",
              "<table border=\"1\" class=\"dataframe\">\n",
              "  <thead>\n",
              "    <tr style=\"text-align: right;\">\n",
              "      <th></th>\n",
              "      <th>index</th>\n",
              "      <th>text_index</th>\n",
              "      <th>word</th>\n",
              "      <th>lemma</th>\n",
              "      <th>pos</th>\n",
              "      <th>morph</th>\n",
              "      <th>synt_relation</th>\n",
              "      <th>head</th>\n",
              "    </tr>\n",
              "  </thead>\n",
              "  <tbody>\n",
              "    <tr>\n",
              "      <th>81556</th>\n",
              "      <td>135</td>\n",
              "      <td>423</td>\n",
              "      <td>столы</td>\n",
              "      <td>стол</td>\n",
              "      <td>NOUN</td>\n",
              "      <td>Animacy=Inan|Case=Acc|Gender=Masc|Number=Plur</td>\n",
              "      <td>obj</td>\n",
              "      <td>предлагают</td>\n",
              "    </tr>\n",
              "    <tr>\n",
              "      <th>81814</th>\n",
              "      <td>188</td>\n",
              "      <td>424</td>\n",
              "      <td>столах</td>\n",
              "      <td>стол</td>\n",
              "      <td>NOUN</td>\n",
              "      <td>Animacy=Inan|Case=Loc|Gender=Masc|Number=Plur</td>\n",
              "      <td>obl</td>\n",
              "      <td>есть</td>\n",
              "    </tr>\n",
              "  </tbody>\n",
              "</table>\n",
              "</div>\n",
              "      <button class=\"colab-df-convert\" onclick=\"convertToInteractive('df-3fc67e1a-1312-4f62-9136-a2a9c2090b1f')\"\n",
              "              title=\"Convert this dataframe to an interactive table.\"\n",
              "              style=\"display:none;\">\n",
              "        \n",
              "  <svg xmlns=\"http://www.w3.org/2000/svg\" height=\"24px\"viewBox=\"0 0 24 24\"\n",
              "       width=\"24px\">\n",
              "    <path d=\"M0 0h24v24H0V0z\" fill=\"none\"/>\n",
              "    <path d=\"M18.56 5.44l.94 2.06.94-2.06 2.06-.94-2.06-.94-.94-2.06-.94 2.06-2.06.94zm-11 1L8.5 8.5l.94-2.06 2.06-.94-2.06-.94L8.5 2.5l-.94 2.06-2.06.94zm10 10l.94 2.06.94-2.06 2.06-.94-2.06-.94-.94-2.06-.94 2.06-2.06.94z\"/><path d=\"M17.41 7.96l-1.37-1.37c-.4-.4-.92-.59-1.43-.59-.52 0-1.04.2-1.43.59L10.3 9.45l-7.72 7.72c-.78.78-.78 2.05 0 2.83L4 21.41c.39.39.9.59 1.41.59.51 0 1.02-.2 1.41-.59l7.78-7.78 2.81-2.81c.8-.78.8-2.07 0-2.86zM5.41 20L4 18.59l7.72-7.72 1.47 1.35L5.41 20z\"/>\n",
              "  </svg>\n",
              "      </button>\n",
              "      \n",
              "  <style>\n",
              "    .colab-df-container {\n",
              "      display:flex;\n",
              "      flex-wrap:wrap;\n",
              "      gap: 12px;\n",
              "    }\n",
              "\n",
              "    .colab-df-convert {\n",
              "      background-color: #E8F0FE;\n",
              "      border: none;\n",
              "      border-radius: 50%;\n",
              "      cursor: pointer;\n",
              "      display: none;\n",
              "      fill: #1967D2;\n",
              "      height: 32px;\n",
              "      padding: 0 0 0 0;\n",
              "      width: 32px;\n",
              "    }\n",
              "\n",
              "    .colab-df-convert:hover {\n",
              "      background-color: #E2EBFA;\n",
              "      box-shadow: 0px 1px 2px rgba(60, 64, 67, 0.3), 0px 1px 3px 1px rgba(60, 64, 67, 0.15);\n",
              "      fill: #174EA6;\n",
              "    }\n",
              "\n",
              "    [theme=dark] .colab-df-convert {\n",
              "      background-color: #3B4455;\n",
              "      fill: #D2E3FC;\n",
              "    }\n",
              "\n",
              "    [theme=dark] .colab-df-convert:hover {\n",
              "      background-color: #434B5C;\n",
              "      box-shadow: 0px 1px 3px 1px rgba(0, 0, 0, 0.15);\n",
              "      filter: drop-shadow(0px 1px 2px rgba(0, 0, 0, 0.3));\n",
              "      fill: #FFFFFF;\n",
              "    }\n",
              "  </style>\n",
              "\n",
              "      <script>\n",
              "        const buttonEl =\n",
              "          document.querySelector('#df-3fc67e1a-1312-4f62-9136-a2a9c2090b1f button.colab-df-convert');\n",
              "        buttonEl.style.display =\n",
              "          google.colab.kernel.accessAllowed ? 'block' : 'none';\n",
              "\n",
              "        async function convertToInteractive(key) {\n",
              "          const element = document.querySelector('#df-3fc67e1a-1312-4f62-9136-a2a9c2090b1f');\n",
              "          const dataTable =\n",
              "            await google.colab.kernel.invokeFunction('convertToInteractive',\n",
              "                                                     [key], {});\n",
              "          if (!dataTable) return;\n",
              "\n",
              "          const docLinkHtml = 'Like what you see? Visit the ' +\n",
              "            '<a target=\"_blank\" href=https://colab.research.google.com/notebooks/data_table.ipynb>data table notebook</a>'\n",
              "            + ' to learn more about interactive tables.';\n",
              "          element.innerHTML = '';\n",
              "          dataTable['output_type'] = 'display_data';\n",
              "          await google.colab.output.renderOutput(dataTable, element);\n",
              "          const docLink = document.createElement('div');\n",
              "          docLink.innerHTML = docLinkHtml;\n",
              "          element.appendChild(docLink);\n",
              "        }\n",
              "      </script>\n",
              "    </div>\n",
              "  </div>\n",
              "  "
            ]
          },
          "metadata": {},
          "execution_count": 109
        }
      ]
    },
    {
      "cell_type": "code",
      "source": [
        "#Более продвинутый уровень — к какому-то из столбцов можно применить функцию\n",
        "#Например, посчитать количество символов для каждого из текстов, который у нас есть\n",
        "\n",
        "panorama_corpus['len_text'] = panorama_corpus['text'].map(len)\n",
        "\n",
        "#Можем выбрать этот столбец, чтобы посмотреть на него\n",
        "panorama_corpus.loc[:, 'len_text']"
      ],
      "metadata": {
        "colab": {
          "base_uri": "https://localhost:8080/"
        },
        "id": "2g_SqgNH1qDu",
        "outputId": "71139709-c63b-4005-91da-603c6cba9086"
      },
      "execution_count": null,
      "outputs": [
        {
          "output_type": "execute_result",
          "data": {
            "text/plain": [
              "0       991\n",
              "1      1392\n",
              "2      1673\n",
              "3       776\n",
              "4      1497\n",
              "       ... \n",
              "620    1166\n",
              "621    1120\n",
              "622    1065\n",
              "623     892\n",
              "624    1037\n",
              "Name: len_text, Length: 625, dtype: int64"
            ]
          },
          "metadata": {},
          "execution_count": 124
        }
      ]
    },
    {
      "cell_type": "code",
      "source": [
        "#Численный параметр можно аггрегировать и посчитать для неё необходимую метрику\n",
        "#Например, среднее:\n",
        "\n",
        "panorama_corpus.aggregate('len_text').mean()"
      ],
      "metadata": {
        "colab": {
          "base_uri": "https://localhost:8080/"
        },
        "id": "RUJzhdSH33pO",
        "outputId": "0c4af81a-265b-42ef-8f5f-a9d45185b6d0"
      },
      "execution_count": null,
      "outputs": [
        {
          "output_type": "execute_result",
          "data": {
            "text/plain": [
              "1188.632"
            ]
          },
          "metadata": {},
          "execution_count": 125
        }
      ]
    },
    {
      "cell_type": "code",
      "source": [
        "#Медиану\n",
        "\n",
        "panorama_corpus.aggregate('len_text').median()"
      ],
      "metadata": {
        "colab": {
          "base_uri": "https://localhost:8080/"
        },
        "id": "mKf-znJa4Vtw",
        "outputId": "2ba83d9c-db67-4d3a-c69f-e204ffdb80ce"
      },
      "execution_count": null,
      "outputs": [
        {
          "output_type": "execute_result",
          "data": {
            "text/plain": [
              "1143.0"
            ]
          },
          "metadata": {},
          "execution_count": 126
        }
      ]
    },
    {
      "cell_type": "code",
      "source": [
        "#Дисперсию, и так далее\n",
        "\n",
        "panorama_corpus.aggregate('len_text').var()"
      ],
      "metadata": {
        "colab": {
          "base_uri": "https://localhost:8080/"
        },
        "id": "PkN06sSM4ajT",
        "outputId": "62062325-fcde-4f7e-f731-31ed10d8be31"
      },
      "execution_count": null,
      "outputs": [
        {
          "output_type": "execute_result",
          "data": {
            "text/plain": [
              "103072.6432051282"
            ]
          },
          "metadata": {},
          "execution_count": 127
        }
      ]
    },
    {
      "cell_type": "code",
      "source": [
        "#Если нужно использовать информацию сразу из двух таблиц, их можно объединить\n",
        "#Только не целиком — иначе получится слишком огромная таблица, которая потратит\n",
        "#Все наши ресурсы!\n",
        "\n",
        "#Получим таблицу, которая содержит дату создания примера для каждого слова.\n",
        "#Объединять будем по индексу текста\n",
        "\n",
        "panorama_by_word = panorama_by_word.join(\n",
        "    panorama_corpus.loc[:, ['index', 'date']].set_index('index'),\n",
        "    on='text_index')\n",
        "\n",
        "panorama_by_word"
      ],
      "metadata": {
        "colab": {
          "base_uri": "https://localhost:8080/",
          "height": 487
        },
        "id": "0S5io5wu4k4v",
        "outputId": "900c0363-d4c8-4f91-ff6c-e4adce0096e1"
      },
      "execution_count": null,
      "outputs": [
        {
          "output_type": "execute_result",
          "data": {
            "text/plain": [
              "        index  text_index             word            lemma    pos  \\\n",
              "0           0           0  Государственная  государственный    ADJ   \n",
              "1           1           0             дума             дума   NOUN   \n",
              "2           2           0          приняла          принять   VERB   \n",
              "3           3           0                в                в    ADP   \n",
              "4           4           0          третьем           третий    ADJ   \n",
              "...       ...         ...              ...              ...    ...   \n",
              "120287    154         624          ставить          ставить   VERB   \n",
              "120288    155         624           вопрос           вопрос   NOUN   \n",
              "120289    156         624         подобным         подобный    ADJ   \n",
              "120290    157         624          образом            образ   NOUN   \n",
              "120291    158         624                »                \"  PUNCT   \n",
              "\n",
              "                                                    morph synt_relation  \\\n",
              "0              Case=Nom|Degree=Pos|Gender=Fem|Number=Sing          amod   \n",
              "1            Animacy=Inan|Case=Nom|Gender=Fem|Number=Sing         nsubj   \n",
              "2       Aspect=Perf|Gender=Fem|Mood=Ind|Number=Sing|Te...          ROOT   \n",
              "3                                                                  case   \n",
              "4             Case=Loc|Degree=Pos|Gender=Neut|Number=Sing          amod   \n",
              "...                                                   ...           ...   \n",
              "120287                  Aspect=Imp|VerbForm=Inf|Voice=Act         xcomp   \n",
              "120288      Animacy=Inan|Case=Acc|Gender=Masc|Number=Sing           obj   \n",
              "120289        Case=Ins|Degree=Pos|Gender=Masc|Number=Sing          amod   \n",
              "120290      Animacy=Inan|Case=Ins|Gender=Masc|Number=Sing           obl   \n",
              "120291                                                            punct   \n",
              "\n",
              "           head        date  \n",
              "0          дума    4-3-2023  \n",
              "1       приняла    4-3-2023  \n",
              "2       приняла    4-3-2023  \n",
              "3        чтении    4-3-2023  \n",
              "4        чтении    4-3-2023  \n",
              "...         ...         ...  \n",
              "120287   вправе  25-11-2022  \n",
              "120288  ставить  25-11-2022  \n",
              "120289  образом  25-11-2022  \n",
              "120290  ставить  25-11-2022  \n",
              "120291    имеем  25-11-2022  \n",
              "\n",
              "[120292 rows x 9 columns]"
            ],
            "text/html": [
              "\n",
              "  <div id=\"df-6c61dfa1-8a8d-4c6e-989f-ded7c2847b31\">\n",
              "    <div class=\"colab-df-container\">\n",
              "      <div>\n",
              "<style scoped>\n",
              "    .dataframe tbody tr th:only-of-type {\n",
              "        vertical-align: middle;\n",
              "    }\n",
              "\n",
              "    .dataframe tbody tr th {\n",
              "        vertical-align: top;\n",
              "    }\n",
              "\n",
              "    .dataframe thead th {\n",
              "        text-align: right;\n",
              "    }\n",
              "</style>\n",
              "<table border=\"1\" class=\"dataframe\">\n",
              "  <thead>\n",
              "    <tr style=\"text-align: right;\">\n",
              "      <th></th>\n",
              "      <th>index</th>\n",
              "      <th>text_index</th>\n",
              "      <th>word</th>\n",
              "      <th>lemma</th>\n",
              "      <th>pos</th>\n",
              "      <th>morph</th>\n",
              "      <th>synt_relation</th>\n",
              "      <th>head</th>\n",
              "      <th>date</th>\n",
              "    </tr>\n",
              "  </thead>\n",
              "  <tbody>\n",
              "    <tr>\n",
              "      <th>0</th>\n",
              "      <td>0</td>\n",
              "      <td>0</td>\n",
              "      <td>Государственная</td>\n",
              "      <td>государственный</td>\n",
              "      <td>ADJ</td>\n",
              "      <td>Case=Nom|Degree=Pos|Gender=Fem|Number=Sing</td>\n",
              "      <td>amod</td>\n",
              "      <td>дума</td>\n",
              "      <td>4-3-2023</td>\n",
              "    </tr>\n",
              "    <tr>\n",
              "      <th>1</th>\n",
              "      <td>1</td>\n",
              "      <td>0</td>\n",
              "      <td>дума</td>\n",
              "      <td>дума</td>\n",
              "      <td>NOUN</td>\n",
              "      <td>Animacy=Inan|Case=Nom|Gender=Fem|Number=Sing</td>\n",
              "      <td>nsubj</td>\n",
              "      <td>приняла</td>\n",
              "      <td>4-3-2023</td>\n",
              "    </tr>\n",
              "    <tr>\n",
              "      <th>2</th>\n",
              "      <td>2</td>\n",
              "      <td>0</td>\n",
              "      <td>приняла</td>\n",
              "      <td>принять</td>\n",
              "      <td>VERB</td>\n",
              "      <td>Aspect=Perf|Gender=Fem|Mood=Ind|Number=Sing|Te...</td>\n",
              "      <td>ROOT</td>\n",
              "      <td>приняла</td>\n",
              "      <td>4-3-2023</td>\n",
              "    </tr>\n",
              "    <tr>\n",
              "      <th>3</th>\n",
              "      <td>3</td>\n",
              "      <td>0</td>\n",
              "      <td>в</td>\n",
              "      <td>в</td>\n",
              "      <td>ADP</td>\n",
              "      <td></td>\n",
              "      <td>case</td>\n",
              "      <td>чтении</td>\n",
              "      <td>4-3-2023</td>\n",
              "    </tr>\n",
              "    <tr>\n",
              "      <th>4</th>\n",
              "      <td>4</td>\n",
              "      <td>0</td>\n",
              "      <td>третьем</td>\n",
              "      <td>третий</td>\n",
              "      <td>ADJ</td>\n",
              "      <td>Case=Loc|Degree=Pos|Gender=Neut|Number=Sing</td>\n",
              "      <td>amod</td>\n",
              "      <td>чтении</td>\n",
              "      <td>4-3-2023</td>\n",
              "    </tr>\n",
              "    <tr>\n",
              "      <th>...</th>\n",
              "      <td>...</td>\n",
              "      <td>...</td>\n",
              "      <td>...</td>\n",
              "      <td>...</td>\n",
              "      <td>...</td>\n",
              "      <td>...</td>\n",
              "      <td>...</td>\n",
              "      <td>...</td>\n",
              "      <td>...</td>\n",
              "    </tr>\n",
              "    <tr>\n",
              "      <th>120287</th>\n",
              "      <td>154</td>\n",
              "      <td>624</td>\n",
              "      <td>ставить</td>\n",
              "      <td>ставить</td>\n",
              "      <td>VERB</td>\n",
              "      <td>Aspect=Imp|VerbForm=Inf|Voice=Act</td>\n",
              "      <td>xcomp</td>\n",
              "      <td>вправе</td>\n",
              "      <td>25-11-2022</td>\n",
              "    </tr>\n",
              "    <tr>\n",
              "      <th>120288</th>\n",
              "      <td>155</td>\n",
              "      <td>624</td>\n",
              "      <td>вопрос</td>\n",
              "      <td>вопрос</td>\n",
              "      <td>NOUN</td>\n",
              "      <td>Animacy=Inan|Case=Acc|Gender=Masc|Number=Sing</td>\n",
              "      <td>obj</td>\n",
              "      <td>ставить</td>\n",
              "      <td>25-11-2022</td>\n",
              "    </tr>\n",
              "    <tr>\n",
              "      <th>120289</th>\n",
              "      <td>156</td>\n",
              "      <td>624</td>\n",
              "      <td>подобным</td>\n",
              "      <td>подобный</td>\n",
              "      <td>ADJ</td>\n",
              "      <td>Case=Ins|Degree=Pos|Gender=Masc|Number=Sing</td>\n",
              "      <td>amod</td>\n",
              "      <td>образом</td>\n",
              "      <td>25-11-2022</td>\n",
              "    </tr>\n",
              "    <tr>\n",
              "      <th>120290</th>\n",
              "      <td>157</td>\n",
              "      <td>624</td>\n",
              "      <td>образом</td>\n",
              "      <td>образ</td>\n",
              "      <td>NOUN</td>\n",
              "      <td>Animacy=Inan|Case=Ins|Gender=Masc|Number=Sing</td>\n",
              "      <td>obl</td>\n",
              "      <td>ставить</td>\n",
              "      <td>25-11-2022</td>\n",
              "    </tr>\n",
              "    <tr>\n",
              "      <th>120291</th>\n",
              "      <td>158</td>\n",
              "      <td>624</td>\n",
              "      <td>»</td>\n",
              "      <td>\"</td>\n",
              "      <td>PUNCT</td>\n",
              "      <td></td>\n",
              "      <td>punct</td>\n",
              "      <td>имеем</td>\n",
              "      <td>25-11-2022</td>\n",
              "    </tr>\n",
              "  </tbody>\n",
              "</table>\n",
              "<p>120292 rows × 9 columns</p>\n",
              "</div>\n",
              "      <button class=\"colab-df-convert\" onclick=\"convertToInteractive('df-6c61dfa1-8a8d-4c6e-989f-ded7c2847b31')\"\n",
              "              title=\"Convert this dataframe to an interactive table.\"\n",
              "              style=\"display:none;\">\n",
              "        \n",
              "  <svg xmlns=\"http://www.w3.org/2000/svg\" height=\"24px\"viewBox=\"0 0 24 24\"\n",
              "       width=\"24px\">\n",
              "    <path d=\"M0 0h24v24H0V0z\" fill=\"none\"/>\n",
              "    <path d=\"M18.56 5.44l.94 2.06.94-2.06 2.06-.94-2.06-.94-.94-2.06-.94 2.06-2.06.94zm-11 1L8.5 8.5l.94-2.06 2.06-.94-2.06-.94L8.5 2.5l-.94 2.06-2.06.94zm10 10l.94 2.06.94-2.06 2.06-.94-2.06-.94-.94-2.06-.94 2.06-2.06.94z\"/><path d=\"M17.41 7.96l-1.37-1.37c-.4-.4-.92-.59-1.43-.59-.52 0-1.04.2-1.43.59L10.3 9.45l-7.72 7.72c-.78.78-.78 2.05 0 2.83L4 21.41c.39.39.9.59 1.41.59.51 0 1.02-.2 1.41-.59l7.78-7.78 2.81-2.81c.8-.78.8-2.07 0-2.86zM5.41 20L4 18.59l7.72-7.72 1.47 1.35L5.41 20z\"/>\n",
              "  </svg>\n",
              "      </button>\n",
              "      \n",
              "  <style>\n",
              "    .colab-df-container {\n",
              "      display:flex;\n",
              "      flex-wrap:wrap;\n",
              "      gap: 12px;\n",
              "    }\n",
              "\n",
              "    .colab-df-convert {\n",
              "      background-color: #E8F0FE;\n",
              "      border: none;\n",
              "      border-radius: 50%;\n",
              "      cursor: pointer;\n",
              "      display: none;\n",
              "      fill: #1967D2;\n",
              "      height: 32px;\n",
              "      padding: 0 0 0 0;\n",
              "      width: 32px;\n",
              "    }\n",
              "\n",
              "    .colab-df-convert:hover {\n",
              "      background-color: #E2EBFA;\n",
              "      box-shadow: 0px 1px 2px rgba(60, 64, 67, 0.3), 0px 1px 3px 1px rgba(60, 64, 67, 0.15);\n",
              "      fill: #174EA6;\n",
              "    }\n",
              "\n",
              "    [theme=dark] .colab-df-convert {\n",
              "      background-color: #3B4455;\n",
              "      fill: #D2E3FC;\n",
              "    }\n",
              "\n",
              "    [theme=dark] .colab-df-convert:hover {\n",
              "      background-color: #434B5C;\n",
              "      box-shadow: 0px 1px 3px 1px rgba(0, 0, 0, 0.15);\n",
              "      filter: drop-shadow(0px 1px 2px rgba(0, 0, 0, 0.3));\n",
              "      fill: #FFFFFF;\n",
              "    }\n",
              "  </style>\n",
              "\n",
              "      <script>\n",
              "        const buttonEl =\n",
              "          document.querySelector('#df-6c61dfa1-8a8d-4c6e-989f-ded7c2847b31 button.colab-df-convert');\n",
              "        buttonEl.style.display =\n",
              "          google.colab.kernel.accessAllowed ? 'block' : 'none';\n",
              "\n",
              "        async function convertToInteractive(key) {\n",
              "          const element = document.querySelector('#df-6c61dfa1-8a8d-4c6e-989f-ded7c2847b31');\n",
              "          const dataTable =\n",
              "            await google.colab.kernel.invokeFunction('convertToInteractive',\n",
              "                                                     [key], {});\n",
              "          if (!dataTable) return;\n",
              "\n",
              "          const docLinkHtml = 'Like what you see? Visit the ' +\n",
              "            '<a target=\"_blank\" href=https://colab.research.google.com/notebooks/data_table.ipynb>data table notebook</a>'\n",
              "            + ' to learn more about interactive tables.';\n",
              "          element.innerHTML = '';\n",
              "          dataTable['output_type'] = 'display_data';\n",
              "          await google.colab.output.renderOutput(dataTable, element);\n",
              "          const docLink = document.createElement('div');\n",
              "          docLink.innerHTML = docLinkHtml;\n",
              "          element.appendChild(docLink);\n",
              "        }\n",
              "      </script>\n",
              "    </div>\n",
              "  </div>\n",
              "  "
            ]
          },
          "metadata": {},
          "execution_count": 130
        }
      ]
    }
  ]
}